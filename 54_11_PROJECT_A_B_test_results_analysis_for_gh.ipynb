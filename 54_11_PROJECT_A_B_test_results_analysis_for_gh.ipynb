{
 "cells": [
  {
   "attachments": {},
   "cell_type": "markdown",
   "metadata": {},
   "source": [
    "# 54.11 PROJECT. Анализ результатов A/B-теста\n",
    "Туристическая фирма планирует запустить новую акцию, чтобы продать как можно больше туров. Были разработаны два варианта варианта посадочной страницы и проведен A/B-тест.\n",
    "Требуется оценить результаты A/B-теста.\n",
    "Требуется проверить какая из страниц работает лучше в разрезе конверсии, выручки и среднего чека.\n",
    "\n",
    "Уровень статистической значимости - 0,05.\n",
    "\n",
    "Варианты стоимости туров (руб.):\n",
    "- 10000 \n",
    "- 60000 \n",
    "- 100000 \n",
    "- 150000 \n",
    "- 200000"
   ]
  },
  {
   "attachments": {},
   "cell_type": "markdown",
   "metadata": {},
   "source": [
    "## Импорт необходимых библиотек и модулей и чтение датасета."
   ]
  },
  {
   "cell_type": "code",
   "execution_count": 1,
   "metadata": {},
   "outputs": [],
   "source": [
    "import pandas as pd\n",
    "pd.set_option('display.max_rows', 4)\n",
    "import matplotlib.pyplot as plt\n",
    "#%matplotlib inline"
   ]
  },
  {
   "attachments": {},
   "cell_type": "markdown",
   "metadata": {},
   "source": [
    "Импортируем таблицу с исходными данными:"
   ]
  },
  {
   "cell_type": "code",
   "execution_count": 2,
   "metadata": {},
   "outputs": [
    {
     "data": {
      "text/html": [
       "<div>\n",
       "<style scoped>\n",
       "    .dataframe tbody tr th:only-of-type {\n",
       "        vertical-align: middle;\n",
       "    }\n",
       "\n",
       "    .dataframe tbody tr th {\n",
       "        vertical-align: top;\n",
       "    }\n",
       "\n",
       "    .dataframe thead th {\n",
       "        text-align: right;\n",
       "    }\n",
       "</style>\n",
       "<table border=\"1\" class=\"dataframe\">\n",
       "  <thead>\n",
       "    <tr style=\"text-align: right;\">\n",
       "      <th></th>\n",
       "      <th>user_id</th>\n",
       "      <th>date</th>\n",
       "      <th>group</th>\n",
       "      <th>purchase</th>\n",
       "      <th>price</th>\n",
       "    </tr>\n",
       "  </thead>\n",
       "  <tbody>\n",
       "    <tr>\n",
       "      <th>0</th>\n",
       "      <td>851104</td>\n",
       "      <td>2021-01-21</td>\n",
       "      <td>A</td>\n",
       "      <td>0</td>\n",
       "      <td>0</td>\n",
       "    </tr>\n",
       "    <tr>\n",
       "      <th>1</th>\n",
       "      <td>804228</td>\n",
       "      <td>2021-01-12</td>\n",
       "      <td>A</td>\n",
       "      <td>0</td>\n",
       "      <td>0</td>\n",
       "    </tr>\n",
       "    <tr>\n",
       "      <th>...</th>\n",
       "      <td>...</td>\n",
       "      <td>...</td>\n",
       "      <td>...</td>\n",
       "      <td>...</td>\n",
       "      <td>...</td>\n",
       "    </tr>\n",
       "    <tr>\n",
       "      <th>294476</th>\n",
       "      <td>697314</td>\n",
       "      <td>2021-01-15</td>\n",
       "      <td>A</td>\n",
       "      <td>0</td>\n",
       "      <td>0</td>\n",
       "    </tr>\n",
       "    <tr>\n",
       "      <th>294477</th>\n",
       "      <td>715931</td>\n",
       "      <td>2021-01-16</td>\n",
       "      <td>B</td>\n",
       "      <td>0</td>\n",
       "      <td>0</td>\n",
       "    </tr>\n",
       "  </tbody>\n",
       "</table>\n",
       "<p>294478 rows × 5 columns</p>\n",
       "</div>"
      ],
      "text/plain": [
       "        user_id        date group  purchase  price\n",
       "0        851104  2021-01-21     A         0      0\n",
       "1        804228  2021-01-12     A         0      0\n",
       "...         ...         ...   ...       ...    ...\n",
       "294476   697314  2021-01-15     A         0      0\n",
       "294477   715931  2021-01-16     B         0      0\n",
       "\n",
       "[294478 rows x 5 columns]"
      ]
     },
     "metadata": {},
     "output_type": "display_data"
    },
    {
     "name": "stdout",
     "output_type": "stream",
     "text": [
      "<class 'pandas.core.frame.DataFrame'>\n",
      "Int64Index: 294478 entries, 0 to 294477\n",
      "Data columns (total 5 columns):\n",
      " #   Column    Non-Null Count   Dtype \n",
      "---  ------    --------------   ----- \n",
      " 0   user_id   294478 non-null  int64 \n",
      " 1   date      294478 non-null  object\n",
      " 2   group     294478 non-null  object\n",
      " 3   purchase  294478 non-null  int64 \n",
      " 4   price     294478 non-null  int64 \n",
      "dtypes: int64(3), object(2)\n",
      "memory usage: 13.5+ MB\n"
     ]
    },
    {
     "data": {
      "text/plain": [
       "None"
      ]
     },
     "metadata": {},
     "output_type": "display_data"
    }
   ],
   "source": [
    "df_initial=pd.read_csv('C:/New_life/DataAnalytics/Python/54_11_PROJECT/ab_data.csv',index_col=0)\n",
    "df=df_initial.copy()\n",
    "display(df)\n",
    "display(df.info())"
   ]
  },
  {
   "attachments": {},
   "cell_type": "markdown",
   "metadata": {},
   "source": [
    "## 1. Первичный анализ и обработка датасета.\n",
    "   В рамках этой задачи вам предстоит:\n",
    "   - привести столбцы к корректным типам данных;\n",
    "   - убедиться, что данные по обеим группам представлены за одинаковый период (визуализировать);\n",
    "   - проверить корректность распределения участников теста;\n",
    "   - проверить различие в группах;\n",
    "   - проверить пересечение аудитории в группах;\n",
    "   - определить по группам ряд показателей (количество пользователей, количество покупок, выручку, конверсию, средний чек);\n",
    "    - посмотреть, как распределяются суммы покупок (здесь необходимо повизуализировать);\n",
    "    - сделать первичные выводы."
   ]
  },
  {
   "attachments": {},
   "cell_type": "markdown",
   "metadata": {},
   "source": [
    "### Предварительные проверки и подготовка датафрейма"
   ]
  },
  {
   "attachments": {},
   "cell_type": "markdown",
   "metadata": {},
   "source": [
    "Убедимся, что значения столбца 'purchase' принимают исключительно значения 0 и 1, а значения столбца 'price' - из каталога цен на туры."
   ]
  },
  {
   "cell_type": "code",
   "execution_count": 3,
   "metadata": {},
   "outputs": [
    {
     "data": {
      "text/plain": [
       "0    259241\n",
       "1     35237\n",
       "Name: purchase, dtype: int64"
      ]
     },
     "metadata": {},
     "output_type": "display_data"
    },
    {
     "data": {
      "text/plain": [
       "0         259241\n",
       "10000      10510\n",
       "100000      7170\n",
       "60000       7091\n",
       "150000      7008\n",
       "200000      3458\n",
       "Name: price, dtype: int64"
      ]
     },
     "metadata": {},
     "output_type": "display_data"
    }
   ],
   "source": [
    "display(df['purchase'].value_counts())\n",
    "pd.set_option('display.max_rows', 10)\n",
    "display(df['price'].value_counts())"
   ]
  },
  {
   "attachments": {},
   "cell_type": "markdown",
   "metadata": {},
   "source": [
    "ВЫВОД: Значения столбцов соответствуют заявленным вариантам."
   ]
  },
  {
   "attachments": {},
   "cell_type": "markdown",
   "metadata": {},
   "source": [
    "Приведем столбец 'date' к типу datetime:"
   ]
  },
  {
   "cell_type": "code",
   "execution_count": 4,
   "metadata": {},
   "outputs": [
    {
     "data": {
      "text/html": [
       "<div>\n",
       "<style scoped>\n",
       "    .dataframe tbody tr th:only-of-type {\n",
       "        vertical-align: middle;\n",
       "    }\n",
       "\n",
       "    .dataframe tbody tr th {\n",
       "        vertical-align: top;\n",
       "    }\n",
       "\n",
       "    .dataframe thead th {\n",
       "        text-align: right;\n",
       "    }\n",
       "</style>\n",
       "<table border=\"1\" class=\"dataframe\">\n",
       "  <thead>\n",
       "    <tr style=\"text-align: right;\">\n",
       "      <th></th>\n",
       "      <th>user_id</th>\n",
       "      <th>date</th>\n",
       "      <th>group</th>\n",
       "      <th>purchase</th>\n",
       "      <th>price</th>\n",
       "    </tr>\n",
       "  </thead>\n",
       "  <tbody>\n",
       "    <tr>\n",
       "      <th>0</th>\n",
       "      <td>851104</td>\n",
       "      <td>2021-01-21</td>\n",
       "      <td>A</td>\n",
       "      <td>0</td>\n",
       "      <td>0</td>\n",
       "    </tr>\n",
       "    <tr>\n",
       "      <th>1</th>\n",
       "      <td>804228</td>\n",
       "      <td>2021-01-12</td>\n",
       "      <td>A</td>\n",
       "      <td>0</td>\n",
       "      <td>0</td>\n",
       "    </tr>\n",
       "    <tr>\n",
       "      <th>...</th>\n",
       "      <td>...</td>\n",
       "      <td>...</td>\n",
       "      <td>...</td>\n",
       "      <td>...</td>\n",
       "      <td>...</td>\n",
       "    </tr>\n",
       "    <tr>\n",
       "      <th>294476</th>\n",
       "      <td>697314</td>\n",
       "      <td>2021-01-15</td>\n",
       "      <td>A</td>\n",
       "      <td>0</td>\n",
       "      <td>0</td>\n",
       "    </tr>\n",
       "    <tr>\n",
       "      <th>294477</th>\n",
       "      <td>715931</td>\n",
       "      <td>2021-01-16</td>\n",
       "      <td>B</td>\n",
       "      <td>0</td>\n",
       "      <td>0</td>\n",
       "    </tr>\n",
       "  </tbody>\n",
       "</table>\n",
       "<p>294478 rows × 5 columns</p>\n",
       "</div>"
      ],
      "text/plain": [
       "        user_id       date group  purchase  price\n",
       "0        851104 2021-01-21     A         0      0\n",
       "1        804228 2021-01-12     A         0      0\n",
       "...         ...        ...   ...       ...    ...\n",
       "294476   697314 2021-01-15     A         0      0\n",
       "294477   715931 2021-01-16     B         0      0\n",
       "\n",
       "[294478 rows x 5 columns]"
      ]
     },
     "metadata": {},
     "output_type": "display_data"
    },
    {
     "name": "stdout",
     "output_type": "stream",
     "text": [
      "<class 'pandas.core.frame.DataFrame'>\n",
      "Int64Index: 294478 entries, 0 to 294477\n",
      "Data columns (total 5 columns):\n",
      " #   Column    Non-Null Count   Dtype         \n",
      "---  ------    --------------   -----         \n",
      " 0   user_id   294478 non-null  int64         \n",
      " 1   date      294478 non-null  datetime64[ns]\n",
      " 2   group     294478 non-null  object        \n",
      " 3   purchase  294478 non-null  int64         \n",
      " 4   price     294478 non-null  int64         \n",
      "dtypes: datetime64[ns](1), int64(3), object(1)\n",
      "memory usage: 13.5+ MB\n"
     ]
    },
    {
     "data": {
      "text/plain": [
       "None"
      ]
     },
     "metadata": {},
     "output_type": "display_data"
    }
   ],
   "source": [
    "df['date']=pd.to_datetime(df['date'])\n",
    "pd.set_option('display.max_rows', 4)\n",
    "display(df)\n",
    "display(df.info())"
   ]
  },
  {
   "attachments": {},
   "cell_type": "markdown",
   "metadata": {},
   "source": [
    "### Убедимся, что данные по обеим группам представлены за одинаковый период:"
   ]
  },
  {
   "cell_type": "code",
   "execution_count": 5,
   "metadata": {},
   "outputs": [
    {
     "data": {
      "text/html": [
       "<div>\n",
       "<style scoped>\n",
       "    .dataframe tbody tr th:only-of-type {\n",
       "        vertical-align: middle;\n",
       "    }\n",
       "\n",
       "    .dataframe tbody tr th {\n",
       "        vertical-align: top;\n",
       "    }\n",
       "\n",
       "    .dataframe thead th {\n",
       "        text-align: right;\n",
       "    }\n",
       "</style>\n",
       "<table border=\"1\" class=\"dataframe\">\n",
       "  <thead>\n",
       "    <tr style=\"text-align: right;\">\n",
       "      <th></th>\n",
       "      <th>earliest date</th>\n",
       "      <th>latest date</th>\n",
       "    </tr>\n",
       "    <tr>\n",
       "      <th>group</th>\n",
       "      <th></th>\n",
       "      <th></th>\n",
       "    </tr>\n",
       "  </thead>\n",
       "  <tbody>\n",
       "    <tr>\n",
       "      <th>A</th>\n",
       "      <td>2021-01-02</td>\n",
       "      <td>2021-01-24</td>\n",
       "    </tr>\n",
       "    <tr>\n",
       "      <th>B</th>\n",
       "      <td>2021-01-02</td>\n",
       "      <td>2021-01-24</td>\n",
       "    </tr>\n",
       "  </tbody>\n",
       "</table>\n",
       "</div>"
      ],
      "text/plain": [
       "      earliest date latest date\n",
       "group                          \n",
       "A        2021-01-02  2021-01-24\n",
       "B        2021-01-02  2021-01-24"
      ]
     },
     "metadata": {},
     "output_type": "display_data"
    },
    {
     "name": "stdout",
     "output_type": "stream",
     "text": [
      "Дата начала тестирования совпадает для групп А и B?       -  True\n",
      "Дата завершения тестирования совпадает для групп А и B?   -  True\n"
     ]
    }
   ],
   "source": [
    "df_ab_grouped=df.groupby(['group'],axis=0, as_index=False)\n",
    "date_min_max=df_ab_grouped['date'].agg(['min','max']).rename(columns={'min':'earliest date', 'max':'latest date'})\n",
    "#date_min_max=df.groupby(['group'],axis=0, as_index=False)['date'].aggregate({'date':'min', 'date':'max',}) \n",
    "display(date_min_max)\n",
    "print('Дата начала тестирования совпадает для групп А и B?       - ', date_min_max.loc['A']['earliest date']==date_min_max.loc['B']['earliest date'])\n",
    "print('Дата завершения тестирования совпадает для групп А и B?   - ', date_min_max.loc['A']['latest date']==date_min_max.loc['B']['latest date'])"
   ]
  },
  {
   "attachments": {},
   "cell_type": "markdown",
   "metadata": {},
   "source": [
    "ВЫВОД: Даты начала и завершения тестирования совпадают для групп А и В."
   ]
  },
  {
   "attachments": {},
   "cell_type": "markdown",
   "metadata": {},
   "source": [
    "Построим таблицу и на ее основе диаграмму, показывающие количество участников теста по дням:"
   ]
  },
  {
   "cell_type": "code",
   "execution_count": 6,
   "metadata": {},
   "outputs": [
    {
     "data": {
      "text/html": [
       "<div>\n",
       "<style scoped>\n",
       "    .dataframe tbody tr th:only-of-type {\n",
       "        vertical-align: middle;\n",
       "    }\n",
       "\n",
       "    .dataframe tbody tr th {\n",
       "        vertical-align: top;\n",
       "    }\n",
       "\n",
       "    .dataframe thead th {\n",
       "        text-align: right;\n",
       "    }\n",
       "</style>\n",
       "<table border=\"1\" class=\"dataframe\">\n",
       "  <thead>\n",
       "    <tr style=\"text-align: right;\">\n",
       "      <th></th>\n",
       "      <th>date</th>\n",
       "      <th>group</th>\n",
       "      <th>users cnt</th>\n",
       "      <th>unique users cnt</th>\n",
       "    </tr>\n",
       "  </thead>\n",
       "  <tbody>\n",
       "    <tr>\n",
       "      <th>0</th>\n",
       "      <td>2021-01-02</td>\n",
       "      <td>A</td>\n",
       "      <td>2894</td>\n",
       "      <td>2894</td>\n",
       "    </tr>\n",
       "    <tr>\n",
       "      <th>1</th>\n",
       "      <td>2021-01-02</td>\n",
       "      <td>B</td>\n",
       "      <td>2889</td>\n",
       "      <td>2889</td>\n",
       "    </tr>\n",
       "    <tr>\n",
       "      <th>...</th>\n",
       "      <td>...</td>\n",
       "      <td>...</td>\n",
       "      <td>...</td>\n",
       "      <td>...</td>\n",
       "    </tr>\n",
       "    <tr>\n",
       "      <th>44</th>\n",
       "      <td>2021-01-24</td>\n",
       "      <td>A</td>\n",
       "      <td>3811</td>\n",
       "      <td>3810</td>\n",
       "    </tr>\n",
       "    <tr>\n",
       "      <th>45</th>\n",
       "      <td>2021-01-24</td>\n",
       "      <td>B</td>\n",
       "      <td>3727</td>\n",
       "      <td>3727</td>\n",
       "    </tr>\n",
       "  </tbody>\n",
       "</table>\n",
       "<p>46 rows × 4 columns</p>\n",
       "</div>"
      ],
      "text/plain": [
       "         date group  users cnt  unique users cnt\n",
       "0  2021-01-02     A       2894              2894\n",
       "1  2021-01-02     B       2889              2889\n",
       "..        ...   ...        ...               ...\n",
       "44 2021-01-24     A       3811              3810\n",
       "45 2021-01-24     B       3727              3727\n",
       "\n",
       "[46 rows x 4 columns]"
      ]
     },
     "metadata": {},
     "output_type": "display_data"
    }
   ],
   "source": [
    "df_date_grouped=df.copy()\n",
    "df_date_grouped['user_id2']=df_date_grouped['user_id']  # дубликат колонки user_id\n",
    "df_date_grouped=df.groupby(['date','group'], axis=0, as_index=False)\n",
    "date_vs_users=df_date_grouped['user_id'].aggregate({'user_id':'count','user_id2':'nunique'}) \\\n",
    "    .rename(columns={'user_id':'users cnt', 'user_id2':'unique users cnt'})\n",
    "display(date_vs_users)"
   ]
  },
  {
   "cell_type": "code",
   "execution_count": 7,
   "metadata": {},
   "outputs": [
    {
     "data": {
      "image/png": "[encoded data removed]",
      "text/plain": [
       "<Figure size 1000x700 with 1 Axes>"
      ]
     },
     "metadata": {},
     "output_type": "display_data"
    }
   ],
   "source": [
    "plt.figure(figsize=(10,7)) # Задаём размер графика\n",
    "plt.plot(date_vs_users[date_vs_users['group']=='A']['date'], date_vs_users[date_vs_users['group']=='A']['users cnt'], label='Group A') # label — подпись данных на графике\n",
    "plt.plot(date_vs_users[date_vs_users['group']=='B']['date'], date_vs_users[date_vs_users['group']=='B']['users cnt'], label='Group B') # label — подпись данных на графике\n",
    "#plt.plot(date_vs_users[date_vs_users['group']=='A']['date'], date_vs_users[date_vs_users['group']=='A']['unique users cnt'], label='Group A') # label — подпись данных на графике\n",
    "#plt.plot(date_vs_users[date_vs_users['group']=='B']['date'], date_vs_users[date_vs_users['group']=='B']['unique users cnt'], label='Group B') # label — подпись данных на графике\n",
    "plt.title('Количество пользователей в группах А и В по дням') # Название графика\n",
    "plt.xticks(rotation = 45) # Разворот названия дат на оси X на 45 градусов\n",
    "plt.legend() # Выводим название, указанное в label в plt.plot() на график\n",
    "plt.grid(True) # Выводим сетку на график\n",
    "plt.show() # Выводим график на экран\n"
   ]
  },
  {
   "attachments": {},
   "cell_type": "markdown",
   "metadata": {},
   "source": [
    "ВЫВОД: За весь период тестирования не наблюдается дней, когды бы отсутствовали пользователи из какой-либо группы."
   ]
  },
  {
   "attachments": {},
   "cell_type": "markdown",
   "metadata": {},
   "source": [
    "**ВЫВОД**: данные по обеим группам представлены за одинаковый период."
   ]
  },
  {
   "attachments": {},
   "cell_type": "markdown",
   "metadata": {},
   "source": [
    "### Проверим корректность распределения участников теста\n",
    "Судя по диаграмме выше, участники достаточно равномерно распределены по двум группам.\n",
    "Для уверенности, определим это в числах, а также выясним нет ли попаданий одного и того же пользователя в обе группы."
   ]
  },
  {
   "attachments": {},
   "cell_type": "markdown",
   "metadata": {},
   "source": [
    "#### Проверка корректности количественного распределения пользователей по группам в целом за период"
   ]
  },
  {
   "cell_type": "code",
   "execution_count": 8,
   "metadata": {},
   "outputs": [
    {
     "name": "stdout",
     "output_type": "stream",
     "text": [
      "Общее количество визитов в группе А          :    147202\n",
      "Общее количество визитов в группе В          :    147276\n",
      "По количеству визитов группа А составляет    :    99.95 % от группы B\n",
      "По количеству визитов группа B составляет    :    100.05 % от группы A\n"
     ]
    }
   ],
   "source": [
    "a_users_cnt = date_vs_users[date_vs_users['group']=='A']['users cnt'].sum()\n",
    "print('Общее количество визитов в группе А          :   ', a_users_cnt)\n",
    "b_users_cnt = date_vs_users[date_vs_users['group']=='B']['users cnt'].sum()\n",
    "print('Общее количество визитов в группе В          :   ', b_users_cnt)\n",
    "print('По количеству визитов группа А составляет    :   ', \\\n",
    "    round(a_users_cnt / b_users_cnt * 100, 3), '%' ' от группы B')\n",
    "print('По количеству визитов группа B составляет    :   ', \\\n",
    "    round(b_users_cnt / a_users_cnt * 100, 3), '%' ' от группы A')"
   ]
  },
  {
   "attachments": {},
   "cell_type": "markdown",
   "metadata": {},
   "source": [
    "**ВЫВОД**: В целом распределение участников теста между группами корректно, разница составляет 0.5%."
   ]
  },
  {
   "attachments": {},
   "cell_type": "markdown",
   "metadata": {},
   "source": [
    "#### Убедимся что нет пересечения аудитории в группах - нет пользователей, попавших в обе группы."
   ]
  },
  {
   "cell_type": "code",
   "execution_count": 9,
   "metadata": {},
   "outputs": [
    {
     "name": "stdout",
     "output_type": "stream",
     "text": [
      "Исходная таблица:\n"
     ]
    },
    {
     "data": {
      "text/html": [
       "<div>\n",
       "<style scoped>\n",
       "    .dataframe tbody tr th:only-of-type {\n",
       "        vertical-align: middle;\n",
       "    }\n",
       "\n",
       "    .dataframe tbody tr th {\n",
       "        vertical-align: top;\n",
       "    }\n",
       "\n",
       "    .dataframe thead th {\n",
       "        text-align: right;\n",
       "    }\n",
       "</style>\n",
       "<table border=\"1\" class=\"dataframe\">\n",
       "  <thead>\n",
       "    <tr style=\"text-align: right;\">\n",
       "      <th></th>\n",
       "      <th>user_id</th>\n",
       "      <th>date</th>\n",
       "      <th>group</th>\n",
       "      <th>purchase</th>\n",
       "      <th>price</th>\n",
       "    </tr>\n",
       "  </thead>\n",
       "  <tbody>\n",
       "    <tr>\n",
       "      <th>0</th>\n",
       "      <td>851104</td>\n",
       "      <td>2021-01-21</td>\n",
       "      <td>A</td>\n",
       "      <td>0</td>\n",
       "      <td>0</td>\n",
       "    </tr>\n",
       "    <tr>\n",
       "      <th>1</th>\n",
       "      <td>804228</td>\n",
       "      <td>2021-01-12</td>\n",
       "      <td>A</td>\n",
       "      <td>0</td>\n",
       "      <td>0</td>\n",
       "    </tr>\n",
       "    <tr>\n",
       "      <th>...</th>\n",
       "      <td>...</td>\n",
       "      <td>...</td>\n",
       "      <td>...</td>\n",
       "      <td>...</td>\n",
       "      <td>...</td>\n",
       "    </tr>\n",
       "    <tr>\n",
       "      <th>294476</th>\n",
       "      <td>697314</td>\n",
       "      <td>2021-01-15</td>\n",
       "      <td>A</td>\n",
       "      <td>0</td>\n",
       "      <td>0</td>\n",
       "    </tr>\n",
       "    <tr>\n",
       "      <th>294477</th>\n",
       "      <td>715931</td>\n",
       "      <td>2021-01-16</td>\n",
       "      <td>B</td>\n",
       "      <td>0</td>\n",
       "      <td>0</td>\n",
       "    </tr>\n",
       "  </tbody>\n",
       "</table>\n",
       "<p>294478 rows × 5 columns</p>\n",
       "</div>"
      ],
      "text/plain": [
       "        user_id       date group  purchase  price\n",
       "0        851104 2021-01-21     A         0      0\n",
       "1        804228 2021-01-12     A         0      0\n",
       "...         ...        ...   ...       ...    ...\n",
       "294476   697314 2021-01-15     A         0      0\n",
       "294477   715931 2021-01-16     B         0      0\n",
       "\n",
       "[294478 rows x 5 columns]"
      ]
     },
     "metadata": {},
     "output_type": "display_data"
    },
    {
     "name": "stdout",
     "output_type": "stream",
     "text": [
      "Множество пользователей в группе А совпадает с множеством пользователей в группе B ?   -  False \n",
      "\n",
      "Множество пользователей, попавших в обе группы   :    {843786, 868364, 737298, 843797, 630805, 843802, 761882, 933918, 688167, 827432, 835630, 860206, 778288, 843832, 802877, 745536, 663619, 680003, 811077, 811079, 639059, 720982, 630871, 835673, 835675, 630887, 721002, 761965, 639090, 819318, 786565, 778375, 712853, 868503, 934040, 671902, 811196, 934076, 770242, 917708, 680144, 811222, 893145, 631008, 712930, 852215, 778488, 884985, 901376, 663810, 827654, 917767, 688390, 942353, 860441, 745756, 721188, 917799, 942375, 844083, 721208, 680251, 655678, 704832, 835905, 696642, 803145, 639310, 844114, 737626, 827741, 942436, 704870, 754022, 909678, 786808, 909688, 639366, 737675, 844173, 680343, 778649, 885146, 639386, 770459, 713119, 639407, 803248, 917936, 737712, 754102, 795063, 688568, 647609, 917949, 901567, 647615, 762307, 778692, 680390, 696791, 745943, 664025, 664030, 844263, 811497, 836084, 655860, 680436, 778743, 918023, 942600, 860683, 729611, 795157, 934424, 877083, 934436, 631337, 934444, 639533, 672309, 786999, 909881, 844346, 868922, 926270, 688722, 778837, 721496, 688730, 713313, 705123, 860781, 795252, 828024, 860798, 885380, 893583, 819858, 639635, 762515, 828057, 746137, 778909, 795297, 754337, 631459, 647844, 877223, 811689, 926379, 778923, 844466, 828083, 819896, 934586, 844475, 705210, 869056, 885440, 672455, 656073, 705230, 672467, 680662, 672470, 877272, 910059, 844524, 664304, 811775, 729859, 647940, 746245, 819974, 762633, 779023, 754449, 664347, 844572, 803613, 877341, 762664, 852777, 779052, 901935, 934707, 770869, 942903, 754488, 770876, 762688, 828228, 885572, 787270, 828230, 639817, 861005, 754509, 861010, 729939, 729942, 795479, 844638, 926559, 787305, 893808, 738167, 795519, 746367, 770945, 844675, 820102, 779142, 828302, 885649, 762769, 664475, 648096, 697253, 795558, 648102, 943016, 697261, 787382, 885703, 902088, 861129, 828368, 910291, 656339, 754652, 918493, 721885, 697315, 836587, 803823, 877551, 754673, 934903, 672759, 828410, 918531, 771082, 664598, 869401, 689180, 631838, 934943, 926752, 926754, 664630, 861242, 918592, 689228, 918607, 722004, 689237, 803928, 689247, 844898, 771170, 803942, 803949, 746606, 640111, 746610, 935042, 705666, 828548, 664708, 861322, 787598, 713884, 894109, 763044, 672934, 795815, 902315, 672947, 656568, 697530, 713915, 804050, 738516, 804065, 935138, 656613, 763109, 861420, 894188, 918767, 648437, 910584, 673016, 926971, 640253, 730365, 632069, 869647, 754960, 861460, 763158, 812316, 943391, 787745, 697635, 886060, 918829, 902446, 927024, 779572, 738614, 730429, 902463, 640320, 697668, 714060, 722256, 894289, 664919, 812376, 886109, 869729, 705894, 673131, 877938, 705907, 689526, 886135, 796031, 648576, 804226, 943492, 927109, 812433, 918945, 902563, 886189, 910765, 796079, 673201, 648631, 886201, 820681, 894409, 648650, 656849, 845267, 689621, 796121, 804317, 689637, 919031, 648699, 689663, 779778, 689668, 730634, 943627, 722443, 779792, 697873, 861721, 927257, 706077, 837151, 656935, 648746, 730666, 738864, 747056, 878133, 845366, 656951, 828985, 894536, 878153, 902730, 656969, 689745, 796246, 910935, 706145, 738925, 706170, 673404, 632464, 771733, 706204, 837280, 648869, 820905, 788138, 804532, 927412, 886454, 689850, 911040, 902849, 894671, 870096, 739028, 820951, 763616, 796390, 894700, 837359, 689905, 648947, 804597, 714496, 861953, 681732, 714506, 935691, 796430, 657167, 632592, 755480, 780057, 739103, 739115, 911153, 821050, 657213, 632642, 845636, 722761, 853835, 878413, 665422, 788305, 862035, 681813, 640854, 714583, 714585, 853850, 845661, 853857, 935777, 698216, 632690, 870259, 870264, 804732, 788353, 903048, 722827, 870284, 640909, 681872, 804758, 780194, 935846, 722854, 853936, 829361, 690102, 731069, 722882, 657353, 935883, 829390, 690127, 763863, 632794, 640989, 903141, 706537, 755701, 657401, 698364, 657407, 788484, 649232, 870418, 763923, 682005, 944152, 657440, 665652, 649274, 854075, 903227, 682051, 698436, 854086, 895046, 788552, 821320, 755787, 665679, 936018, 714840, 804968, 747626, 755830, 837751, 755838, 764034, 878725, 878735, 919699, 927909, 682153, 657586, 886965, 772277, 870587, 805054, 886981, 673993, 706764, 731349, 764120, 805082, 706778, 821473, 911590, 919789, 895216, 788721, 747761, 805110, 764160, 895243, 690449, 911642, 796965, 682285, 919856, 764213, 657725, 706878, 944456, 821589, 854362, 813406, 854367, 690528, 698722, 723311, 870780, 739712, 846209, 657797, 878984, 674191, 944533, 633243, 821661, 723357, 764321, 936355, 821678, 666032, 928177, 706994, 690618, 846269, 780734, 911808, 829900, 690637, 879056, 879057, 756176, 805339, 682461, 780770, 895459, 748012, 805365, 805368, 797177, 682491, 707070, 789006, 641570, 789038, 870963, 797237, 649781, 887357, 698943, 764484, 666187, 649806, 879184, 715349, 879195, 871004, 658016, 895585, 805474, 944742, 715367, 666219, 821876, 780924, 756353, 944777, 772745, 780942, 780949, 797335, 682649, 707225, 682653, 723615, 846500, 748197, 830124, 838320, 920245, 658117, 936646, 674513, 707283, 699093, 846550, 641751, 772828, 764640, 821985, 731873, 764644, 748263, 781038, 740080, 764658, 748275, 920313, 928506, 936705, 772865, 928521, 854795, 920335, 666385, 854809, 912168, 666412, 764717, 789302, 666424, 748345, 691006, 740162, 772938, 936780, 944979, 895835, 633692, 764776, 764779, 805743, 641906, 789366, 773007, 682898, 904083, 813978, 846754, 846755, 748451, 805804, 871356, 805821, 814013, 781247, 920529, 945125, 732137, 650225, 797683, 773112, 863232, 855041, 781315, 748570, 822309, 633897, 887850, 822315, 805932, 724010, 814127, 805952, 699462, 715847, 863304, 945227, 822354, 691288, 691291, 633949, 855134, 822371, 724073, 830573, 879725, 715890, 945272, 674938, 846972, 650369, 937090, 863362, 642182, 846985, 666767, 789652, 822422, 715927, 945308, 765088, 814242, 674994, 904376, 896194, 937158, 789706, 699599, 871641, 945369, 847067, 740572, 773339, 699614, 888039, 945387, 634098, 855286, 781562, 748795, 683261, 830724, 707856, 838932, 806165, 929053, 757033, 904493, 855344, 912689, 912690, 912694, 781627, 879932, 912701, 716093, 863552, 912705, 642372, 798021, 716103, 798029, 757070, 879952, 732496, 642390, 740695, 781656, 822618, 634203, 888156, 757085, 642405, 650598, 757093, 699757, 666995, 634230, 839043, 773508, 650629, 789898, 699786, 724367, 929176, 757145, 929178, 708009, 691630, 757166, 806324, 732600, 806332, 781769, 798157, 880078, 847311, 937422, 798162, 650709, 806358, 814551, 667093, 806362, 667099, 945627, 699866, 896512, 683521, 822805, 732699, 904735, 847395, 773670, 724525, 880174, 929326, 937519, 765511, 831048, 814669, 716366, 757328, 675410, 765524, 667225, 650846, 798304, 724579, 896614, 855662, 749171, 863863, 896635, 749179, 700033, 667277, 757407, 904864, 716454, 765610, 749234, 716469, 634552, 732856, 888508, 822973, 904904, 700108, 822996, 650981, 634598, 872167, 634605, 741102, 749293, 634611, 904948, 782073, 823045, 741134, 855823, 667416, 872218, 814881, 896802, 700194, 855844, 724772, 667431, 880442, 675663, 913232, 839506, 683859, 921429, 683872, 929637, 749415, 724841, 872300, 757617, 880498, 683903, 855940, 905093, 667529, 847768, 929689, 642972, 642975, 724906, 937901, 749488, 651185, 855991, 790456, 643001, 708544, 708548, 831435, 888780, 733132, 847832, 864223, 741353, 905197, 929781, 700408, 651258, 847867, 806913, 798722, 872451, 643076, 667654, 634888, 716808, 749577, 815115, 856078, 684046, 823312, 856084, 643092, 733205, 823319, 757780, 929817, 675867, 667684, 774180, 725035, 667692, 741432, 766031, 716890, 634971, 938077, 921693, 757854, 938083, 749678, 684144, 823414, 635003, 880764, 880766, 651392, 749697, 684166, 741512, 815246, 684176, 725144, 913561, 872607, 807074, 635048, 643244, 815289, 905401, 684222, 913603, 889036, 659660, 807120, 700634, 913627, 692446, 913631, 848099, 921829, 766181, 872682, 659695, 774383, 921841, 684279, 823547, 823549, 782591, 733440, 692496, 839954, 880921, 733466, 872738, 905507, 880932, 839982, 880948, 905524, 667959, 921922, 725320, 643404, 659797, 889175, 717156, 799090, 913794, 684419, 635269, 905609, 758153, 692620, 897431, 831900, 864676, 799141, 692644, 676265, 733611, 815537, 848305, 668087, 692674, 938435, 717257, 651735, 684503, 872928, 856546, 881123, 930274, 668134, 766439, 840170, 905706, 766442, 864749, 922095, 750066, 758265, 684541, 897534, 782848, 864771, 684560, 889363, 700950, 717343, 872995, 643619, 791080, 913960, 782888, 733739, 856621, 660015, 889392, 643634, 864821, 676410, 791100, 651850, 913995, 651862, 782935, 873049, 782943, 832098, 733794, 782946, 840302, 643701, 766585, 815738, 823938, 856708, 914055, 873096, 750217, 881291, 684685, 782997, 791192, 922276, 791211, 660139, 873135, 660148, 807609, 864957, 750276, 881351, 766685, 758507, 897772, 692977, 905975, 856827, 807677, 774917, 783120, 733972, 807701, 725781, 733976, 865053, 725792, 914213, 701225, 652075, 881453, 684851, 742202, 906045, 725830, 832328, 783176, 856917, 635737, 709466, 791392, 922466, 652134, 848746, 922479, 643963, 856965, 635787, 734091, 717723, 742299, 856990, 635809, 775080, 824233, 897961, 799659, 807860, 709558, 750518, 766910, 693189, 734158, 848848, 775121, 709596, 750556, 791523, 758757, 881640, 832490, 783362, 693254, 758790, 857115, 775201, 873507, 676899, 767017, 857133, 734258, 816179, 660532, 726069, 824397, 635984, 832593, 775250, 709715, 685143, 832603, 840797, 644190, 873567, 857184, 660578, 816228, 636027, 906367, 750719, 644225, 775300, 890001, 775314, 644246, 906396, 775340, 808116, 668854, 898232, 652473, 898238, 816320, 758977, 824516, 890056, 824521, 906449, 849114, 750819, 824548, 709860, 849131, 652529, 783603, 677109, 652542, 693506, 816395, 693518, 685329, 931095, 750872, 816409, 742690, 939304, 636205, 922926, 881978, 685375, 660803, 742726, 644426, 922957, 882002, 914773, 898394, 898395, 775514, 783710, 750950, 849257, 939370, 865643, 783725, 922992, 636280, 742781, 710015, 677255, 890254, 890263, 931226, 685466, 644510, 890277, 636332, 865709, 660913, 751025, 931254, 652728, 644541, 677313, 865735, 832968, 914887, 685515, 841167, 800210, 726486, 660951, 677345, 841186, 759277, 865776, 914932, 734712, 841210, 759292, 800263, 873994, 849419, 890378, 734732, 742933, 677398, 669209, 742937, 808481, 734754, 833064, 718379, 701998, 906802, 808500, 898613, 841274, 751166, 923199, 661061, 792134, 898634, 816719, 898641, 742993, 710227, 833113, 693852, 800351, 751202, 751211, 898669, 693872, 931444, 693878, 783990, 718479, 841361, 636565, 915103, 808613, 636583, 759464, 898737, 874165, 702136, 825024, 939713, 825030, 808650, 792268, 808652, 825039, 800465, 636626, 792277, 800469, 825061, 661226, 775915, 644846, 726766, 669430, 939775, 710405, 808711, 792328, 726796, 808717, 775948, 825110, 866071, 767787, 735021, 833335, 866103, 931643, 890692, 776004, 776010, 874315, 792397, 751437, 833360, 915280, 923482, 915292, 907102, 882541, 694127, 685936, 857969, 874354, 808823, 669563, 726908, 825217, 915330, 907139, 735107, 669574, 825223, 743302, 726921, 931722, 726922, 841615, 939931, 858018, 784305, 767924, 735162, 923581, 677821, 833472, 686019, 858052, 636868, 899018, 817107, 858078, 833507, 735208, 669674, 636909, 718840, 808953, 677883, 702465, 874502, 808969, 718872, 743452, 759836, 849950, 882721, 792610, 899106, 751653, 899110, 702505, 809004, 702518, 833594, 669755, 940097, 735303, 637018, 866395, 882791, 727149, 923762, 891012, 694405, 743559, 817288, 882829, 710800, 743577, 645276, 866461, 743581, 694436, 759983, 841905, 645298, 784563, 669876, 653493, 751799, 891065, 735429, 768200, 792778, 899277, 710864, 800984, 817369, 661728, 866531, 669923, 800998, 809190, 653544, 719081, 702700, 940276, 891128, 792828, 858364, 653571, 825608, 907529, 809229, 743696, 719121, 792850, 743700, 768280, 768282, 874789, 760113, 932147, 907572, 817461, 784691, 792890, 817468, 751942, 792921, 825696, 678241, 670052, 907624, 711016, 751980, 850294, 637310, 858496, 637315, 727427, 850310, 670099, 776600, 874909, 702878, 645550, 743856, 842168, 866744, 924094, 702911, 825792, 661953, 915908, 883143, 645584, 711131, 932318, 899557, 817647, 899572, 817658, 653821, 735766, 768534, 858661, 866853, 793133, 711224, 907833, 727610, 825916, 719423, 875075, 678469, 727631, 817746, 858720, 883296, 637561, 760441, 834171, 932475, 916098, 662152, 801417, 703112, 916110, 899729, 735891, 850583, 760476, 809632, 817824, 711336, 891561, 793275, 850620, 711355, 932542, 834243, 907972, 678596, 637639, 744137, 875210, 924363, 940750, 760527, 719569, 678614, 907991, 727766, 924377, 670425, 678638, 826095, 916207, 817911, 776951, 891646, 711422, 809735, 826123, 785164, 817933, 768790, 908055, 752413, 744227, 891690, 883500, 777006, 899887, 752438, 744247, 891709, 834368, 719685, 908107, 744275, 891733, 703319, 768859, 686941, 850789, 801639, 940905, 736110, 736112, 899953, 777075, 940919, 752504, 818052, 654217, 695177, 646027, 793494, 785304, 867227, 695195, 826276, 867237, 777124, 703408, 719793, 850866, 646066, 940980, 842677, 760759, 662458, 646077, 695231, 687042, 818115, 678858, 637900, 777166, 777170, 916447, 736224, 916451, 900068, 883687, 728040, 637930, 875503, 785392, 908275, 728051, 834549, 654327, 785401, 801786, 744451, 670728, 695306, 711693, 801808, 801823, 883744, 719905, 924720, 826417, 736305, 859188, 719924, 670776, 654395, 785470, 719940, 728134, 719943, 851016, 760904, 769099, 810062, 932949, 859223, 744536, 752737, 687205, 760933, 941163, 711787, 875630, 883824, 883828, 785530, 703613, 867461, 744582, 859274, 916619, 818316, 654475, 867473, 646293, 883865, 916639, 826532, 826539, 711867, 679101, 875713, 826566, 646342, 859346, 867540, 662750, 662752, 793832, 867560, 687338, 842991, 736496, 818427, 703741, 687361, 916739, 695557, 646406, 761098, 933136, 859416, 671002, 859419, 818463, 834850, 777506, 924968, 818476, 687409, 867634, 638263, 728380, 867646, 761153, 834882, 843079, 884040, 916807, 752978, 859480, 712031, 900448, 834922, 941418, 925036, 859503, 916847, 679281, 859519, 884107, 908686, 933264, 884114, 867732, 941463, 703901, 679326, 785823, 941474, 818600, 769450, 933294, 712112, 892338, 753075, 843191, 835002, 736698, 761279, 941506, 695747, 703939, 712134, 933335, 679387, 744923, 826848, 843233, 671203, 728547, 802277, 728552, 736746, 867825, 851442, 884212, 654837, 671222, 916983, 835068, 744956, 867841, 941570, 794117, 876037, 900618, 679445, 704024, 663065, 826907, 646685, 900640, 892450, 826917, 900645, 687659, 630320, 908855, 835128, 638525, 908862, 835145, 908880, 892497, 892498, 745041, 663125, 835160, 802393, 728667, 892516, 753254, 753260, 687733, 712328, 679561, 835219, 687766, 712343, 704154, 687773, 728737, 704163, 917161, 728756, 900791, 736955, 704192, 925388, 663252, 933589, 900833, 761573, 663274, 712426, 917238, 737014, 909053, 859917, 712481, 769825, 745251, 859948, 638766, 859951, 925492, 876345, 859966, 778047, 892736, 728903, 909134, 851793, 802644, 696151, 745307, 819036, 647004, 851806, 925535, 696162, 728933, 835431, 868200, 802670, 827246, 753519, 884594, 917365, 647055, 909201, 704408, 786329, 679836, 794526, 901023, 843680, 860077, 655283, 704437, 810946, 696263, 770003, 794580, 655324, 892894, 802784, 810979, 753638, 942058, 884720, 655344, 942070}\n",
      "Количество пользователей в группе А              :    146195\n",
      "Количество пользователей в группе B              :    146284\n",
      "Количество пользователей, попавших в обе группы  :    1895\n",
      "Процент пользователей, попавших в обе группы,\n",
      "       от общего числа уникальных пользователей  :    0.65\n"
     ]
    }
   ],
   "source": [
    "pd.set_option('display.max_rows', 4)\n",
    "print('Исходная таблица:')\n",
    "display(df)\n",
    "users_a=set(df[df['group']=='A']['user_id'])    # множество пользователей в группе А\n",
    "users_b=set(df[df['group']=='B']['user_id'])    # множество пользователей в группе А\n",
    "print('Множество пользователей в группе А совпадает с множеством пользователей в группе B ?   - ' \\\n",
    "    , users_a==users_b, '\\n')\n",
    "users_ab=users_a.intersection(users_b)          # множество пользователей, попавших в обе группы\n",
    "print('Множество пользователей, попавших в обе группы   :   ', users_ab)\n",
    "print('Количество пользователей в группе А              :   ', len(users_a))\n",
    "print('Количество пользователей в группе B              :   ', len(users_b))\n",
    "print('Количество пользователей, попавших в обе группы  :   ', len(users_ab))\n",
    "print('Процент пользователей, попавших в обе группы,\\n       от общего числа уникальных пользователей  :   ' \\\n",
    "    , round(len(users_ab) / (len(users_a) + len(users_b)) * 100, 2))"
   ]
  },
  {
   "attachments": {},
   "cell_type": "markdown",
   "metadata": {},
   "source": [
    "**ВЫВОД** 0.65% уникальных пользователей попало в обе группы. Поскольку процент незначительный, будем считать распределенеие пользователей по группам корректным и просто уберем таких пользователей из дальнейшего анализа."
   ]
  },
  {
   "attachments": {},
   "cell_type": "markdown",
   "metadata": {},
   "source": [
    "Создадим новую таблица-DataFrame, удалив пользователей, попавших в обе группы:"
   ]
  },
  {
   "cell_type": "code",
   "execution_count": 10,
   "metadata": {},
   "outputs": [
    {
     "name": "stdout",
     "output_type": "stream",
     "text": [
      "Таблица без пользователей, попавших в обе группы:\n"
     ]
    },
    {
     "data": {
      "text/html": [
       "<div>\n",
       "<style scoped>\n",
       "    .dataframe tbody tr th:only-of-type {\n",
       "        vertical-align: middle;\n",
       "    }\n",
       "\n",
       "    .dataframe tbody tr th {\n",
       "        vertical-align: top;\n",
       "    }\n",
       "\n",
       "    .dataframe thead th {\n",
       "        text-align: right;\n",
       "    }\n",
       "</style>\n",
       "<table border=\"1\" class=\"dataframe\">\n",
       "  <thead>\n",
       "    <tr style=\"text-align: right;\">\n",
       "      <th></th>\n",
       "      <th>user_id</th>\n",
       "      <th>date</th>\n",
       "      <th>group</th>\n",
       "      <th>purchase</th>\n",
       "      <th>price</th>\n",
       "    </tr>\n",
       "  </thead>\n",
       "  <tbody>\n",
       "    <tr>\n",
       "      <th>0</th>\n",
       "      <td>851104</td>\n",
       "      <td>2021-01-21</td>\n",
       "      <td>A</td>\n",
       "      <td>0</td>\n",
       "      <td>0</td>\n",
       "    </tr>\n",
       "    <tr>\n",
       "      <th>1</th>\n",
       "      <td>804228</td>\n",
       "      <td>2021-01-12</td>\n",
       "      <td>A</td>\n",
       "      <td>0</td>\n",
       "      <td>0</td>\n",
       "    </tr>\n",
       "    <tr>\n",
       "      <th>...</th>\n",
       "      <td>...</td>\n",
       "      <td>...</td>\n",
       "      <td>...</td>\n",
       "      <td>...</td>\n",
       "      <td>...</td>\n",
       "    </tr>\n",
       "    <tr>\n",
       "      <th>294476</th>\n",
       "      <td>697314</td>\n",
       "      <td>2021-01-15</td>\n",
       "      <td>A</td>\n",
       "      <td>0</td>\n",
       "      <td>0</td>\n",
       "    </tr>\n",
       "    <tr>\n",
       "      <th>294477</th>\n",
       "      <td>715931</td>\n",
       "      <td>2021-01-16</td>\n",
       "      <td>B</td>\n",
       "      <td>0</td>\n",
       "      <td>0</td>\n",
       "    </tr>\n",
       "  </tbody>\n",
       "</table>\n",
       "<p>290688 rows × 5 columns</p>\n",
       "</div>"
      ],
      "text/plain": [
       "        user_id       date group  purchase  price\n",
       "0        851104 2021-01-21     A         0      0\n",
       "1        804228 2021-01-12     A         0      0\n",
       "...         ...        ...   ...       ...    ...\n",
       "294476   697314 2021-01-15     A         0      0\n",
       "294477   715931 2021-01-16     B         0      0\n",
       "\n",
       "[290688 rows x 5 columns]"
      ]
     },
     "metadata": {},
     "output_type": "display_data"
    },
    {
     "name": "stdout",
     "output_type": "stream",
     "text": [
      "Количество уникальных пользователей в группе А   :    144300\n",
      "Количество уникальных пользователей в группе B   :    144389\n",
      "Количество пользователей в группе А              :    145307\n",
      "Количество пользователей в группе B              :    145381\n"
     ]
    }
   ],
   "source": [
    "df_cor=df[~df['user_id'].isin(users_ab)]   \n",
    "print('Таблица без пользователей, попавших в обе группы:')\n",
    "display(df_cor)\n",
    "print('Количество уникальных пользователей в группе А   :   ', df_cor[df_cor['group']=='A']['user_id'].nunique())\n",
    "print('Количество уникальных пользователей в группе B   :   ', df_cor[df_cor['group']=='B']['user_id'].nunique())\n",
    "print('Количество пользователей в группе А              :   ', df_cor[df_cor['group']=='A']['user_id'].shape[0]) \n",
    "print('Количество пользователей в группе B              :   ',df_cor[df_cor['group']=='B']['user_id'].shape[0]) "
   ]
  },
  {
   "attachments": {},
   "cell_type": "markdown",
   "metadata": {},
   "source": [
    "После удаления пользователей, попавших в обе группы, заново проверим корректность количественного распределения пользователей по группам:"
   ]
  },
  {
   "cell_type": "code",
   "execution_count": 11,
   "metadata": {},
   "outputs": [
    {
     "name": "stdout",
     "output_type": "stream",
     "text": [
      "Общее количество визитов в группе А        :    145307\n",
      "Общее количество визитов в группе B        :    145381\n",
      "По количеству визитов группа А составляет  :    99.949 % от группы B\n",
      "По количеству визитов группа B составляет  :    100.051 % от группы A\n"
     ]
    }
   ],
   "source": [
    "a_users_cnt_cor = df_cor[df_cor['group']=='A']['user_id'].shape[0]\n",
    "b_users_cnt_cor = df_cor[df_cor['group']=='B']['user_id'].shape[0]\n",
    "print('Общее количество визитов в группе А        :   ', a_users_cnt_cor)\n",
    "print('Общее количество визитов в группе B        :   ', b_users_cnt_cor)\n",
    "print('По количеству визитов группа А составляет  :   ', round(a_users_cnt_cor / b_users_cnt_cor * 100, 3) \\\n",
    "    , '%' ' от группы B')\n",
    "print('По количеству визитов группа B составляет  :   ', round(b_users_cnt_cor / a_users_cnt_cor * 100, 3) \\\n",
    "    , '%' ' от группы A')"
   ]
  },
  {
   "attachments": {},
   "cell_type": "markdown",
   "metadata": {},
   "source": [
    "**ВЫВОД**: Распределение участников теста между группами после удаления пользователей, попавших в обе группы, осталось корректным, разница составляет чуть более 0,5%."
   ]
  },
  {
   "cell_type": "markdown",
   "metadata": {},
   "source": [
    "### Результаты предварительного анализа данных  \n",
    "Проведенные проверки:  \n",
    "- Значения столбцов соответствуют заявленным вариантам.\n",
    "- Даты начала и завершения тестирования совпадают для групп А и В.\n",
    "- Данные по обеим группам представлены за одинаковый период:\n",
    "  - Даты начала и завершения тестирования совпадают для групп А и В.\n",
    "  - За весь период тестирования не наблюдается дней, когды бы отсутствовали пользователи из какой-либо группы.\n",
    "- Распределение участников теста между группами корректно, разница составляет около 0,5%.\n",
    "- Пересечение аудитории групп:\n",
    "  - 0,65% уникальных пользователей попало в обе группы. \n",
    "  - Принято решение исключить сессии таких пользователей из дальнейшего анализа.  \n",
    "  - Распределение участников теста между группами после исключения таких пользователей осталось корректным, разница составляет чуть более 0,5%.\n",
    "\n",
    "В целом данные, полученные в ходе проведенного теста можно считать корректными и подлежащими дальнейшему анализу."
   ]
  },
  {
   "attachments": {},
   "cell_type": "markdown",
   "metadata": {},
   "source": [
    "## Расчитаем конверсию и средний чек в группах"
   ]
  },
  {
   "cell_type": "code",
   "execution_count": 12,
   "metadata": {},
   "outputs": [
    {
     "name": "stdout",
     "output_type": "stream",
     "text": [
      "Показатели по группам - количество сессий, количество покупок, общая стоимость покупок:\n"
     ]
    },
    {
     "data": {
      "text/html": [
       "<div>\n",
       "<style scoped>\n",
       "    .dataframe tbody tr th:only-of-type {\n",
       "        vertical-align: middle;\n",
       "    }\n",
       "\n",
       "    .dataframe tbody tr th {\n",
       "        vertical-align: top;\n",
       "    }\n",
       "\n",
       "    .dataframe thead th {\n",
       "        text-align: right;\n",
       "    }\n",
       "</style>\n",
       "<table border=\"1\" class=\"dataframe\">\n",
       "  <thead>\n",
       "    <tr style=\"text-align: right;\">\n",
       "      <th></th>\n",
       "      <th>group</th>\n",
       "      <th>sessions_cnt</th>\n",
       "      <th>purchases_cnt</th>\n",
       "      <th>total_price</th>\n",
       "    </tr>\n",
       "  </thead>\n",
       "  <tbody>\n",
       "    <tr>\n",
       "      <th>0</th>\n",
       "      <td>A</td>\n",
       "      <td>145307</td>\n",
       "      <td>17487</td>\n",
       "      <td>1417780000</td>\n",
       "    </tr>\n",
       "    <tr>\n",
       "      <th>1</th>\n",
       "      <td>B</td>\n",
       "      <td>145381</td>\n",
       "      <td>17290</td>\n",
       "      <td>1533010000</td>\n",
       "    </tr>\n",
       "  </tbody>\n",
       "</table>\n",
       "</div>"
      ],
      "text/plain": [
       "  group  sessions_cnt  purchases_cnt  total_price\n",
       "0     A        145307          17487   1417780000\n",
       "1     B        145381          17290   1533010000"
      ]
     },
     "metadata": {},
     "output_type": "display_data"
    }
   ],
   "source": [
    "conv=df_cor.groupby('group',as_index=False).aggregate({'user_id':'count','purchase':'sum','price':'sum'}).rename(columns={'user_id':'sessions_cnt','purchase':'purchases_cnt','price':'total_price'})\n",
    "print('Показатели по группам - количество сессий, количество покупок, общая стоимость покупок:')\n",
    "display(conv)"
   ]
  },
  {
   "cell_type": "code",
   "execution_count": 13,
   "metadata": {},
   "outputs": [
    {
     "name": "stdout",
     "output_type": "stream",
     "text": [
      "Показатели по группам - количество сессий, количество покупок, общая стоимость покупок,\n",
      "конверсия и стоимость среднего чека:\n"
     ]
    },
    {
     "data": {
      "text/html": [
       "<div>\n",
       "<style scoped>\n",
       "    .dataframe tbody tr th:only-of-type {\n",
       "        vertical-align: middle;\n",
       "    }\n",
       "\n",
       "    .dataframe tbody tr th {\n",
       "        vertical-align: top;\n",
       "    }\n",
       "\n",
       "    .dataframe thead th {\n",
       "        text-align: right;\n",
       "    }\n",
       "</style>\n",
       "<table border=\"1\" class=\"dataframe\">\n",
       "  <thead>\n",
       "    <tr style=\"text-align: right;\">\n",
       "      <th></th>\n",
       "      <th>group</th>\n",
       "      <th>sessions_cnt</th>\n",
       "      <th>purchases_cnt</th>\n",
       "      <th>total_price</th>\n",
       "      <th>converse</th>\n",
       "      <th>price_avg</th>\n",
       "    </tr>\n",
       "  </thead>\n",
       "  <tbody>\n",
       "    <tr>\n",
       "      <th>0</th>\n",
       "      <td>A</td>\n",
       "      <td>145307</td>\n",
       "      <td>17487</td>\n",
       "      <td>1417780000</td>\n",
       "      <td>12.03</td>\n",
       "      <td>81076.23</td>\n",
       "    </tr>\n",
       "    <tr>\n",
       "      <th>1</th>\n",
       "      <td>B</td>\n",
       "      <td>145381</td>\n",
       "      <td>17290</td>\n",
       "      <td>1533010000</td>\n",
       "      <td>11.89</td>\n",
       "      <td>88664.55</td>\n",
       "    </tr>\n",
       "  </tbody>\n",
       "</table>\n",
       "</div>"
      ],
      "text/plain": [
       "  group  sessions_cnt  purchases_cnt  total_price  converse  price_avg\n",
       "0     A        145307          17487   1417780000     12.03   81076.23\n",
       "1     B        145381          17290   1533010000     11.89   88664.55"
      ]
     },
     "metadata": {},
     "output_type": "display_data"
    }
   ],
   "source": [
    "conv['converse'] = round(conv['purchases_cnt'] / conv['sessions_cnt'] * 100, 2)\n",
    "conv['price_avg'] = round(conv['total_price'] / conv['purchases_cnt'], 2)\n",
    "print('Показатели по группам - количество сессий, количество покупок, общая стоимость покупок,\\nконверсия и стоимость среднего чека:')\n",
    "display(conv)"
   ]
  },
  {
   "attachments": {},
   "cell_type": "markdown",
   "metadata": {},
   "source": [
    "## Посмотрим на распределение стоимости купленных туров в группах.\n",
    "Помним, что существует 5 вариантов стоимости тура - 10000, 60000, 100000, 150000 и 200000 рублей."
   ]
  },
  {
   "cell_type": "code",
   "execution_count": 14,
   "metadata": {},
   "outputs": [
    {
     "name": "stdout",
     "output_type": "stream",
     "text": [
      "Распределение стоимости купленных туров в группе А:\n"
     ]
    },
    {
     "data": {
      "text/plain": [
       "<AxesSubplot: >"
      ]
     },
     "execution_count": 14,
     "metadata": {},
     "output_type": "execute_result"
    },
    {
     "data": {
      "image/png": "[encoded data removed]",
      "text/plain": [
       "<Figure size 640x480 with 1 Axes>"
      ]
     },
     "metadata": {},
     "output_type": "display_data"
    }
   ],
   "source": [
    "print('Распределение стоимости купленных туров в группе А:')\n",
    "df_cor[df_cor['group'] == 'A']['price'].hist(bins=20, align='mid')"
   ]
  },
  {
   "cell_type": "code",
   "execution_count": 15,
   "metadata": {},
   "outputs": [
    {
     "name": "stdout",
     "output_type": "stream",
     "text": [
      "Распределение стоимости купленных туров чеков в группе B:\n"
     ]
    },
    {
     "data": {
      "text/plain": [
       "<AxesSubplot: >"
      ]
     },
     "execution_count": 15,
     "metadata": {},
     "output_type": "execute_result"
    },
    {
     "data": {
      "image/png": "[encoded data removed]",
      "text/plain": [
       "<Figure size 640x480 with 1 Axes>"
      ]
     },
     "metadata": {},
     "output_type": "display_data"
    }
   ],
   "source": [
    "print('Распределение стоимости купленных туров чеков в группе B:')\n",
    "df_cor[df_cor['group'] == 'B']['price'].hist(bins=20, align='mid')"
   ]
  },
  {
   "cell_type": "code",
   "execution_count": 16,
   "metadata": {},
   "outputs": [
    {
     "name": "stdout",
     "output_type": "stream",
     "text": [
      "Распределение стоимости купленных туров чеков в группе A (количество):\n"
     ]
    },
    {
     "data": {
      "text/plain": [
       "0         127820\n",
       "60000       5271\n",
       "10000       5182\n",
       "150000      3478\n",
       "100000      1832\n",
       "200000      1724\n",
       "Name: price, dtype: int64"
      ]
     },
     "metadata": {},
     "output_type": "display_data"
    },
    {
     "name": "stdout",
     "output_type": "stream",
     "text": [
      "Распределение стоимости купленных туров чеков в группе B (количество):\n"
     ]
    },
    {
     "data": {
      "text/plain": [
       "0         128091\n",
       "100000      5227\n",
       "10000       5201\n",
       "150000      3438\n",
       "60000       1730\n",
       "200000      1694\n",
       "Name: price, dtype: int64"
      ]
     },
     "metadata": {},
     "output_type": "display_data"
    },
    {
     "name": "stdout",
     "output_type": "stream",
     "text": [
      "Распределение стоимости купленных туров чеков в группе A (%):\n"
     ]
    },
    {
     "data": {
      "text/plain": [
       "0         0.879655\n",
       "60000     0.036275\n",
       "10000     0.035662\n",
       "150000    0.023936\n",
       "100000    0.012608\n",
       "200000    0.011865\n",
       "Name: price, dtype: float64"
      ]
     },
     "metadata": {},
     "output_type": "display_data"
    },
    {
     "name": "stdout",
     "output_type": "stream",
     "text": [
      "Распределение стоимости купленных туров чеков в группе B (%):\n"
     ]
    },
    {
     "data": {
      "text/plain": [
       "0         0.881071\n",
       "100000    0.035954\n",
       "10000     0.035775\n",
       "150000    0.023648\n",
       "60000     0.011900\n",
       "200000    0.011652\n",
       "Name: price, dtype: float64"
      ]
     },
     "metadata": {},
     "output_type": "display_data"
    }
   ],
   "source": [
    "pd.set_option('display.max_rows', 10)\n",
    "print('Распределение стоимости купленных туров чеков в группе A (количество):') \n",
    "display(df_cor[df_cor['group'] == 'A']['price'].value_counts())\n",
    "print('Распределение стоимости купленных туров чеков в группе B (количество):')\n",
    "display(df_cor[df_cor['group'] == 'B']['price'].value_counts())\n",
    "print('Распределение стоимости купленных туров чеков в группе A (%):')\n",
    "display(df_cor[df_cor['group'] == 'A']['price'].value_counts(normalize=True))\n",
    "print('Распределение стоимости купленных туров чеков в группе B (%):')\n",
    "display(df_cor[df_cor['group'] == 'B']['price'].value_counts(normalize=True))"
   ]
  },
  {
   "attachments": {},
   "cell_type": "markdown",
   "metadata": {},
   "source": [
    "Посмотрим более детально на диаграммы распределения стоимости купленных туров без учета визитов, не закончившихся покупкой:"
   ]
  },
  {
   "cell_type": "code",
   "execution_count": 17,
   "metadata": {},
   "outputs": [
    {
     "name": "stdout",
     "output_type": "stream",
     "text": [
      "Распределение стоимости купленных туров в группе А (без учета визитов, не приведших к покупке):\n"
     ]
    },
    {
     "data": {
      "text/plain": [
       "<AxesSubplot: >"
      ]
     },
     "execution_count": 17,
     "metadata": {},
     "output_type": "execute_result"
    },
    {
     "data": {
      "image/png": "[encoded data removed]",
      "text/plain": [
       "<Figure size 640x480 with 1 Axes>"
      ]
     },
     "metadata": {},
     "output_type": "display_data"
    }
   ],
   "source": [
    "print('Распределение стоимости купленных туров в группе А (без учета визитов, не приведших к покупке):')\n",
    "df_cor[df_cor['group'] == 'A']['price'].hist(bins=20, align='mid', range=(1,200000))"
   ]
  },
  {
   "cell_type": "code",
   "execution_count": 18,
   "metadata": {},
   "outputs": [
    {
     "name": "stdout",
     "output_type": "stream",
     "text": [
      "Распределение стоимости купленных туров в группе B (без учета визитов, не приведших к покупке):\n"
     ]
    },
    {
     "data": {
      "text/plain": [
       "<AxesSubplot: >"
      ]
     },
     "execution_count": 18,
     "metadata": {},
     "output_type": "execute_result"
    },
    {
     "data": {
      "image/png": "[encoded data removed]",
      "text/plain": [
       "<Figure size 640x480 with 1 Axes>"
      ]
     },
     "metadata": {},
     "output_type": "display_data"
    }
   ],
   "source": [
    "print('Распределение стоимости купленных туров в группе B (без учета визитов, не приведших к покупке):')\n",
    "df_cor[df_cor['group'] == 'B']['price'].hist(bins=20, align='mid', range=(1,200000))"
   ]
  },
  {
   "cell_type": "code",
   "execution_count": 19,
   "metadata": {},
   "outputs": [
    {
     "name": "stdout",
     "output_type": "stream",
     "text": [
      "Распределение стоимости купленных туров в группах:\n"
     ]
    },
    {
     "data": {
      "text/html": [
       "<div>\n",
       "<style scoped>\n",
       "    .dataframe tbody tr th:only-of-type {\n",
       "        vertical-align: middle;\n",
       "    }\n",
       "\n",
       "    .dataframe tbody tr th {\n",
       "        vertical-align: top;\n",
       "    }\n",
       "\n",
       "    .dataframe thead th {\n",
       "        text-align: right;\n",
       "    }\n",
       "</style>\n",
       "<table border=\"1\" class=\"dataframe\">\n",
       "  <thead>\n",
       "    <tr style=\"text-align: right;\">\n",
       "      <th></th>\n",
       "      <th>price</th>\n",
       "      <th>%_in_group_A</th>\n",
       "      <th>%_in_group_B</th>\n",
       "    </tr>\n",
       "  </thead>\n",
       "  <tbody>\n",
       "    <tr>\n",
       "      <th>0</th>\n",
       "      <td>0</td>\n",
       "      <td>0.880</td>\n",
       "      <td>0.881</td>\n",
       "    </tr>\n",
       "    <tr>\n",
       "      <th>1</th>\n",
       "      <td>10000</td>\n",
       "      <td>0.036</td>\n",
       "      <td>0.036</td>\n",
       "    </tr>\n",
       "    <tr>\n",
       "      <th>2</th>\n",
       "      <td>60000</td>\n",
       "      <td>0.036</td>\n",
       "      <td>0.012</td>\n",
       "    </tr>\n",
       "    <tr>\n",
       "      <th>3</th>\n",
       "      <td>100000</td>\n",
       "      <td>0.013</td>\n",
       "      <td>0.036</td>\n",
       "    </tr>\n",
       "    <tr>\n",
       "      <th>4</th>\n",
       "      <td>150000</td>\n",
       "      <td>0.024</td>\n",
       "      <td>0.024</td>\n",
       "    </tr>\n",
       "    <tr>\n",
       "      <th>5</th>\n",
       "      <td>200000</td>\n",
       "      <td>0.012</td>\n",
       "      <td>0.012</td>\n",
       "    </tr>\n",
       "  </tbody>\n",
       "</table>\n",
       "</div>"
      ],
      "text/plain": [
       "    price  %_in_group_A  %_in_group_B\n",
       "0       0         0.880         0.881\n",
       "1   10000         0.036         0.036\n",
       "2   60000         0.036         0.012\n",
       "3  100000         0.013         0.036\n",
       "4  150000         0.024         0.024\n",
       "5  200000         0.012         0.012"
      ]
     },
     "metadata": {},
     "output_type": "display_data"
    }
   ],
   "source": [
    "hist_df = pd.DataFrame(df_cor[df_cor['group'] == 'A']['price'].value_counts(normalize=True))\n",
    "hist_df = hist_df.join(pd.DataFrame(df_cor[df_cor['group'] == 'B']['price'].value_counts(normalize=True)), \\\n",
    "    lsuffix='_A', rsuffix='_B')\n",
    "hist_df.sort_index(inplace=True)\n",
    "hist_df.reset_index(inplace=True)\n",
    "hist_df.rename(columns={'index':'price', 'price_A':'%_in_group_A', 'price_B':'%_in_group_B'}, inplace=True)\n",
    "hist_df['%_in_group_A'] = hist_df['%_in_group_A'].apply(lambda x : round(x,3))\n",
    "hist_df['%_in_group_B'] = hist_df['%_in_group_B'].apply(lambda x : round(x,3))\n",
    "print('Распределение стоимости купленных туров в группах:')\n",
    "display(hist_df)"
   ]
  },
  {
   "attachments": {},
   "cell_type": "markdown",
   "metadata": {},
   "source": [
    "**ВЫВОД:** Распределения стоимости купленных туров в группах А и В очень похожи. Единственное существенное отличие - в группе А туры за 60000 рублей предпочитают турам за 100000 рублей, а в группе В - зеркально наоборот. В остальном распределение покупок по стоимости в группах совпадает вплоть до 100-ой доли процента. "
   ]
  },
  {
   "attachments": {},
   "cell_type": "markdown",
   "metadata": {},
   "source": [
    "## Рассчитаем кумулятивные метрики в группах"
   ]
  },
  {
   "cell_type": "code",
   "execution_count": 20,
   "metadata": {},
   "outputs": [
    {
     "name": "stdout",
     "output_type": "stream",
     "text": [
      "Таблица без пользователей, попавших в обе группы:\n"
     ]
    },
    {
     "data": {
      "text/html": [
       "<div>\n",
       "<style scoped>\n",
       "    .dataframe tbody tr th:only-of-type {\n",
       "        vertical-align: middle;\n",
       "    }\n",
       "\n",
       "    .dataframe tbody tr th {\n",
       "        vertical-align: top;\n",
       "    }\n",
       "\n",
       "    .dataframe thead th {\n",
       "        text-align: right;\n",
       "    }\n",
       "</style>\n",
       "<table border=\"1\" class=\"dataframe\">\n",
       "  <thead>\n",
       "    <tr style=\"text-align: right;\">\n",
       "      <th></th>\n",
       "      <th>user_id</th>\n",
       "      <th>date</th>\n",
       "      <th>group</th>\n",
       "      <th>purchase</th>\n",
       "      <th>price</th>\n",
       "    </tr>\n",
       "  </thead>\n",
       "  <tbody>\n",
       "    <tr>\n",
       "      <th>0</th>\n",
       "      <td>851104</td>\n",
       "      <td>2021-01-21</td>\n",
       "      <td>A</td>\n",
       "      <td>0</td>\n",
       "      <td>0</td>\n",
       "    </tr>\n",
       "    <tr>\n",
       "      <th>1</th>\n",
       "      <td>804228</td>\n",
       "      <td>2021-01-12</td>\n",
       "      <td>A</td>\n",
       "      <td>0</td>\n",
       "      <td>0</td>\n",
       "    </tr>\n",
       "    <tr>\n",
       "      <th>...</th>\n",
       "      <td>...</td>\n",
       "      <td>...</td>\n",
       "      <td>...</td>\n",
       "      <td>...</td>\n",
       "      <td>...</td>\n",
       "    </tr>\n",
       "    <tr>\n",
       "      <th>294476</th>\n",
       "      <td>697314</td>\n",
       "      <td>2021-01-15</td>\n",
       "      <td>A</td>\n",
       "      <td>0</td>\n",
       "      <td>0</td>\n",
       "    </tr>\n",
       "    <tr>\n",
       "      <th>294477</th>\n",
       "      <td>715931</td>\n",
       "      <td>2021-01-16</td>\n",
       "      <td>B</td>\n",
       "      <td>0</td>\n",
       "      <td>0</td>\n",
       "    </tr>\n",
       "  </tbody>\n",
       "</table>\n",
       "<p>290688 rows × 5 columns</p>\n",
       "</div>"
      ],
      "text/plain": [
       "        user_id       date group  purchase  price\n",
       "0        851104 2021-01-21     A         0      0\n",
       "1        804228 2021-01-12     A         0      0\n",
       "...         ...        ...   ...       ...    ...\n",
       "294476   697314 2021-01-15     A         0      0\n",
       "294477   715931 2021-01-16     B         0      0\n",
       "\n",
       "[290688 rows x 5 columns]"
      ]
     },
     "metadata": {},
     "output_type": "display_data"
    }
   ],
   "source": [
    "pd.set_option('display.max_rows', 4)\n",
    "print('Таблица без пользователей, попавших в обе группы:')\n",
    "display(df_cor)"
   ]
  },
  {
   "cell_type": "code",
   "execution_count": 21,
   "metadata": {},
   "outputs": [
    {
     "name": "stdout",
     "output_type": "stream",
     "text": [
      "Таблица с кумулятивными метриками (накопленным итогом)\n",
      " - числом сессий, покупок, суммарной стоимостью покупок:\n"
     ]
    },
    {
     "data": {
      "text/html": [
       "<div>\n",
       "<style scoped>\n",
       "    .dataframe tbody tr th:only-of-type {\n",
       "        vertical-align: middle;\n",
       "    }\n",
       "\n",
       "    .dataframe tbody tr th {\n",
       "        vertical-align: top;\n",
       "    }\n",
       "\n",
       "    .dataframe thead th {\n",
       "        text-align: right;\n",
       "    }\n",
       "</style>\n",
       "<table border=\"1\" class=\"dataframe\">\n",
       "  <thead>\n",
       "    <tr style=\"text-align: right;\">\n",
       "      <th></th>\n",
       "      <th>group</th>\n",
       "      <th>date</th>\n",
       "      <th>user_sessions_cnt</th>\n",
       "      <th>purchases_cnt</th>\n",
       "      <th>price_total</th>\n",
       "    </tr>\n",
       "  </thead>\n",
       "  <tbody>\n",
       "    <tr>\n",
       "      <th>0</th>\n",
       "      <td>A</td>\n",
       "      <td>2021-01-02</td>\n",
       "      <td>2854</td>\n",
       "      <td>359</td>\n",
       "      <td>29410000</td>\n",
       "    </tr>\n",
       "    <tr>\n",
       "      <th>1</th>\n",
       "      <td>B</td>\n",
       "      <td>2021-01-02</td>\n",
       "      <td>2861</td>\n",
       "      <td>345</td>\n",
       "      <td>29660000</td>\n",
       "    </tr>\n",
       "    <tr>\n",
       "      <th>...</th>\n",
       "      <td>...</td>\n",
       "      <td>...</td>\n",
       "      <td>...</td>\n",
       "      <td>...</td>\n",
       "      <td>...</td>\n",
       "    </tr>\n",
       "    <tr>\n",
       "      <th>44</th>\n",
       "      <td>A</td>\n",
       "      <td>2021-01-24</td>\n",
       "      <td>145307</td>\n",
       "      <td>17487</td>\n",
       "      <td>1417780000</td>\n",
       "    </tr>\n",
       "    <tr>\n",
       "      <th>45</th>\n",
       "      <td>B</td>\n",
       "      <td>2021-01-24</td>\n",
       "      <td>145381</td>\n",
       "      <td>17290</td>\n",
       "      <td>1533010000</td>\n",
       "    </tr>\n",
       "  </tbody>\n",
       "</table>\n",
       "<p>46 rows × 5 columns</p>\n",
       "</div>"
      ],
      "text/plain": [
       "   group       date  user_sessions_cnt  purchases_cnt  price_total\n",
       "0      A 2021-01-02               2854            359     29410000\n",
       "1      B 2021-01-02               2861            345     29660000\n",
       "..   ...        ...                ...            ...          ...\n",
       "44     A 2021-01-24             145307          17487   1417780000\n",
       "45     B 2021-01-24             145381          17290   1533010000\n",
       "\n",
       "[46 rows x 5 columns]"
      ]
     },
     "metadata": {},
     "output_type": "display_data"
    }
   ],
   "source": [
    "def cummulative_table(data): # В переменную data будем передавать название переменной датафейма\n",
    "    df_cumm = [] # Создаём пустой список\n",
    "    for i in data['date'].unique(): # Запускаем цикл по каждому отдельному значению даты\n",
    "        out = data[data['date'] <= i].groupby('group') \\\n",
    "               .agg({'date':'max', 'user_id':'count', 'purchase':'sum', 'price':'sum'})\n",
    "        df_cumm.append(out) # Полученный срез добавляем в созданный ранее список\n",
    "    return pd.concat(df_cumm).reset_index() # Объединяем списки и возвращаем результат\n",
    "\n",
    "cumm=cummulative_table(df_cor)\n",
    "cumm.rename(columns=({'user_id':'user_sessions_cnt','purchase':'purchases_cnt','price':'price_total'}),inplace=True)\n",
    "#display(cumm)\n",
    "#display(cumm['user_sessions_cnt'].max())\n",
    "cumm.sort_values(by=['date','group'],  ignore_index=True, inplace= True)   \n",
    "print('Таблица с кумулятивными метриками (накопленным итогом)\\n - числом сессий, покупок, суммарной стоимостью покупок:')\n",
    "display(cumm)"
   ]
  },
  {
   "cell_type": "code",
   "execution_count": 22,
   "metadata": {},
   "outputs": [
    {
     "name": "stdout",
     "output_type": "stream",
     "text": [
      "Таблица с кумулятивными метриками (накопленным итогом)\n",
      " - числом сессий, покупок, суммарной стоимостью покупок, средним чеком и конверсией:\n"
     ]
    },
    {
     "data": {
      "text/html": [
       "<div>\n",
       "<style scoped>\n",
       "    .dataframe tbody tr th:only-of-type {\n",
       "        vertical-align: middle;\n",
       "    }\n",
       "\n",
       "    .dataframe tbody tr th {\n",
       "        vertical-align: top;\n",
       "    }\n",
       "\n",
       "    .dataframe thead th {\n",
       "        text-align: right;\n",
       "    }\n",
       "</style>\n",
       "<table border=\"1\" class=\"dataframe\">\n",
       "  <thead>\n",
       "    <tr style=\"text-align: right;\">\n",
       "      <th></th>\n",
       "      <th>group</th>\n",
       "      <th>date</th>\n",
       "      <th>user_sessions_cnt</th>\n",
       "      <th>purchases_cnt</th>\n",
       "      <th>price_total</th>\n",
       "      <th>avg_price</th>\n",
       "      <th>conversion, %</th>\n",
       "    </tr>\n",
       "  </thead>\n",
       "  <tbody>\n",
       "    <tr>\n",
       "      <th>0</th>\n",
       "      <td>A</td>\n",
       "      <td>2021-01-02</td>\n",
       "      <td>2854</td>\n",
       "      <td>359</td>\n",
       "      <td>29410000</td>\n",
       "      <td>81922.005571</td>\n",
       "      <td>12.58</td>\n",
       "    </tr>\n",
       "    <tr>\n",
       "      <th>1</th>\n",
       "      <td>B</td>\n",
       "      <td>2021-01-02</td>\n",
       "      <td>2861</td>\n",
       "      <td>345</td>\n",
       "      <td>29660000</td>\n",
       "      <td>85971.014493</td>\n",
       "      <td>12.06</td>\n",
       "    </tr>\n",
       "    <tr>\n",
       "      <th>2</th>\n",
       "      <td>A</td>\n",
       "      <td>2021-01-03</td>\n",
       "      <td>9450</td>\n",
       "      <td>1107</td>\n",
       "      <td>91410000</td>\n",
       "      <td>82574.525745</td>\n",
       "      <td>11.71</td>\n",
       "    </tr>\n",
       "    <tr>\n",
       "      <th>3</th>\n",
       "      <td>B</td>\n",
       "      <td>2021-01-03</td>\n",
       "      <td>9480</td>\n",
       "      <td>1099</td>\n",
       "      <td>95620000</td>\n",
       "      <td>87006.369427</td>\n",
       "      <td>11.59</td>\n",
       "    </tr>\n",
       "    <tr>\n",
       "      <th>4</th>\n",
       "      <td>A</td>\n",
       "      <td>2021-01-04</td>\n",
       "      <td>16016</td>\n",
       "      <td>1906</td>\n",
       "      <td>155660000</td>\n",
       "      <td>81668.415530</td>\n",
       "      <td>11.90</td>\n",
       "    </tr>\n",
       "    <tr>\n",
       "      <th>5</th>\n",
       "      <td>B</td>\n",
       "      <td>2021-01-04</td>\n",
       "      <td>16016</td>\n",
       "      <td>1863</td>\n",
       "      <td>163650000</td>\n",
       "      <td>87842.190016</td>\n",
       "      <td>11.63</td>\n",
       "    </tr>\n",
       "    <tr>\n",
       "      <th>6</th>\n",
       "      <td>A</td>\n",
       "      <td>2021-01-05</td>\n",
       "      <td>22449</td>\n",
       "      <td>2696</td>\n",
       "      <td>220210000</td>\n",
       "      <td>81680.267062</td>\n",
       "      <td>12.01</td>\n",
       "    </tr>\n",
       "    <tr>\n",
       "      <th>7</th>\n",
       "      <td>B</td>\n",
       "      <td>2021-01-05</td>\n",
       "      <td>22527</td>\n",
       "      <td>2612</td>\n",
       "      <td>227200000</td>\n",
       "      <td>86983.154671</td>\n",
       "      <td>11.59</td>\n",
       "    </tr>\n",
       "    <tr>\n",
       "      <th>8</th>\n",
       "      <td>A</td>\n",
       "      <td>2021-01-06</td>\n",
       "      <td>29055</td>\n",
       "      <td>3460</td>\n",
       "      <td>283620000</td>\n",
       "      <td>81971.098266</td>\n",
       "      <td>11.91</td>\n",
       "    </tr>\n",
       "    <tr>\n",
       "      <th>9</th>\n",
       "      <td>B</td>\n",
       "      <td>2021-01-06</td>\n",
       "      <td>29278</td>\n",
       "      <td>3450</td>\n",
       "      <td>302220000</td>\n",
       "      <td>87600.000000</td>\n",
       "      <td>11.78</td>\n",
       "    </tr>\n",
       "    <tr>\n",
       "      <th>10</th>\n",
       "      <td>A</td>\n",
       "      <td>2021-01-07</td>\n",
       "      <td>35634</td>\n",
       "      <td>4255</td>\n",
       "      <td>350910000</td>\n",
       "      <td>82470.035253</td>\n",
       "      <td>11.94</td>\n",
       "    </tr>\n",
       "    <tr>\n",
       "      <th>11</th>\n",
       "      <td>B</td>\n",
       "      <td>2021-01-07</td>\n",
       "      <td>35894</td>\n",
       "      <td>4217</td>\n",
       "      <td>369390000</td>\n",
       "      <td>87595.447000</td>\n",
       "      <td>11.75</td>\n",
       "    </tr>\n",
       "    <tr>\n",
       "      <th>12</th>\n",
       "      <td>A</td>\n",
       "      <td>2021-01-08</td>\n",
       "      <td>42321</td>\n",
       "      <td>5053</td>\n",
       "      <td>416290000</td>\n",
       "      <td>82384.721947</td>\n",
       "      <td>11.94</td>\n",
       "    </tr>\n",
       "    <tr>\n",
       "      <th>13</th>\n",
       "      <td>B</td>\n",
       "      <td>2021-01-08</td>\n",
       "      <td>42608</td>\n",
       "      <td>5029</td>\n",
       "      <td>440660000</td>\n",
       "      <td>87623.782064</td>\n",
       "      <td>11.80</td>\n",
       "    </tr>\n",
       "    <tr>\n",
       "      <th>14</th>\n",
       "      <td>A</td>\n",
       "      <td>2021-01-09</td>\n",
       "      <td>48954</td>\n",
       "      <td>5847</td>\n",
       "      <td>481900000</td>\n",
       "      <td>82418.334188</td>\n",
       "      <td>11.94</td>\n",
       "    </tr>\n",
       "    <tr>\n",
       "      <th>15</th>\n",
       "      <td>B</td>\n",
       "      <td>2021-01-09</td>\n",
       "      <td>49236</td>\n",
       "      <td>5813</td>\n",
       "      <td>512070000</td>\n",
       "      <td>88090.486840</td>\n",
       "      <td>11.81</td>\n",
       "    </tr>\n",
       "    <tr>\n",
       "      <th>16</th>\n",
       "      <td>A</td>\n",
       "      <td>2021-01-10</td>\n",
       "      <td>55613</td>\n",
       "      <td>6606</td>\n",
       "      <td>540850000</td>\n",
       "      <td>81872.540115</td>\n",
       "      <td>11.88</td>\n",
       "    </tr>\n",
       "    <tr>\n",
       "      <th>17</th>\n",
       "      <td>B</td>\n",
       "      <td>2021-01-10</td>\n",
       "      <td>55937</td>\n",
       "      <td>6659</td>\n",
       "      <td>590150000</td>\n",
       "      <td>88624.418081</td>\n",
       "      <td>11.90</td>\n",
       "    </tr>\n",
       "    <tr>\n",
       "      <th>18</th>\n",
       "      <td>A</td>\n",
       "      <td>2021-01-11</td>\n",
       "      <td>62312</td>\n",
       "      <td>7403</td>\n",
       "      <td>599610000</td>\n",
       "      <td>80995.542348</td>\n",
       "      <td>11.88</td>\n",
       "    </tr>\n",
       "    <tr>\n",
       "      <th>19</th>\n",
       "      <td>B</td>\n",
       "      <td>2021-01-11</td>\n",
       "      <td>62616</td>\n",
       "      <td>7429</td>\n",
       "      <td>657110000</td>\n",
       "      <td>88452.012384</td>\n",
       "      <td>11.86</td>\n",
       "    </tr>\n",
       "    <tr>\n",
       "      <th>20</th>\n",
       "      <td>A</td>\n",
       "      <td>2021-01-12</td>\n",
       "      <td>68852</td>\n",
       "      <td>8198</td>\n",
       "      <td>668070000</td>\n",
       "      <td>81491.827275</td>\n",
       "      <td>11.91</td>\n",
       "    </tr>\n",
       "    <tr>\n",
       "      <th>21</th>\n",
       "      <td>B</td>\n",
       "      <td>2021-01-12</td>\n",
       "      <td>69251</td>\n",
       "      <td>8236</td>\n",
       "      <td>727670000</td>\n",
       "      <td>88352.355512</td>\n",
       "      <td>11.89</td>\n",
       "    </tr>\n",
       "    <tr>\n",
       "      <th>22</th>\n",
       "      <td>A</td>\n",
       "      <td>2021-01-13</td>\n",
       "      <td>75416</td>\n",
       "      <td>8962</td>\n",
       "      <td>731660000</td>\n",
       "      <td>81640.258871</td>\n",
       "      <td>11.88</td>\n",
       "    </tr>\n",
       "    <tr>\n",
       "      <th>23</th>\n",
       "      <td>B</td>\n",
       "      <td>2021-01-13</td>\n",
       "      <td>75746</td>\n",
       "      <td>8956</td>\n",
       "      <td>793580000</td>\n",
       "      <td>88608.753908</td>\n",
       "      <td>11.82</td>\n",
       "    </tr>\n",
       "    <tr>\n",
       "      <th>24</th>\n",
       "      <td>A</td>\n",
       "      <td>2021-01-14</td>\n",
       "      <td>81959</td>\n",
       "      <td>9787</td>\n",
       "      <td>797550000</td>\n",
       "      <td>81490.753040</td>\n",
       "      <td>11.94</td>\n",
       "    </tr>\n",
       "    <tr>\n",
       "      <th>25</th>\n",
       "      <td>B</td>\n",
       "      <td>2021-01-14</td>\n",
       "      <td>82354</td>\n",
       "      <td>9748</td>\n",
       "      <td>862570000</td>\n",
       "      <td>88486.869101</td>\n",
       "      <td>11.84</td>\n",
       "    </tr>\n",
       "    <tr>\n",
       "      <th>26</th>\n",
       "      <td>A</td>\n",
       "      <td>2021-01-15</td>\n",
       "      <td>88660</td>\n",
       "      <td>10593</td>\n",
       "      <td>865120000</td>\n",
       "      <td>81669.026716</td>\n",
       "      <td>11.95</td>\n",
       "    </tr>\n",
       "    <tr>\n",
       "      <th>27</th>\n",
       "      <td>B</td>\n",
       "      <td>2021-01-15</td>\n",
       "      <td>88917</td>\n",
       "      <td>10495</td>\n",
       "      <td>931730000</td>\n",
       "      <td>88778.465936</td>\n",
       "      <td>11.80</td>\n",
       "    </tr>\n",
       "    <tr>\n",
       "      <th>28</th>\n",
       "      <td>A</td>\n",
       "      <td>2021-01-16</td>\n",
       "      <td>95261</td>\n",
       "      <td>11401</td>\n",
       "      <td>931330000</td>\n",
       "      <td>81688.448382</td>\n",
       "      <td>11.97</td>\n",
       "    </tr>\n",
       "    <tr>\n",
       "      <th>29</th>\n",
       "      <td>B</td>\n",
       "      <td>2021-01-16</td>\n",
       "      <td>95461</td>\n",
       "      <td>11281</td>\n",
       "      <td>1002290000</td>\n",
       "      <td>88847.619892</td>\n",
       "      <td>11.82</td>\n",
       "    </tr>\n",
       "    <tr>\n",
       "      <th>30</th>\n",
       "      <td>A</td>\n",
       "      <td>2021-01-17</td>\n",
       "      <td>101880</td>\n",
       "      <td>12210</td>\n",
       "      <td>994350000</td>\n",
       "      <td>81437.346437</td>\n",
       "      <td>11.98</td>\n",
       "    </tr>\n",
       "    <tr>\n",
       "      <th>31</th>\n",
       "      <td>B</td>\n",
       "      <td>2021-01-17</td>\n",
       "      <td>102007</td>\n",
       "      <td>12112</td>\n",
       "      <td>1077590000</td>\n",
       "      <td>88968.791281</td>\n",
       "      <td>11.87</td>\n",
       "    </tr>\n",
       "    <tr>\n",
       "      <th>32</th>\n",
       "      <td>A</td>\n",
       "      <td>2021-01-18</td>\n",
       "      <td>108391</td>\n",
       "      <td>13022</td>\n",
       "      <td>1057200000</td>\n",
       "      <td>81185.685763</td>\n",
       "      <td>12.01</td>\n",
       "    </tr>\n",
       "    <tr>\n",
       "      <th>33</th>\n",
       "      <td>B</td>\n",
       "      <td>2021-01-18</td>\n",
       "      <td>108610</td>\n",
       "      <td>12934</td>\n",
       "      <td>1149830000</td>\n",
       "      <td>88899.798979</td>\n",
       "      <td>11.91</td>\n",
       "    </tr>\n",
       "    <tr>\n",
       "      <th>34</th>\n",
       "      <td>A</td>\n",
       "      <td>2021-01-19</td>\n",
       "      <td>114973</td>\n",
       "      <td>13812</td>\n",
       "      <td>1120880000</td>\n",
       "      <td>81152.620909</td>\n",
       "      <td>12.01</td>\n",
       "    </tr>\n",
       "    <tr>\n",
       "      <th>35</th>\n",
       "      <td>B</td>\n",
       "      <td>2021-01-19</td>\n",
       "      <td>115172</td>\n",
       "      <td>13706</td>\n",
       "      <td>1217650000</td>\n",
       "      <td>88840.653728</td>\n",
       "      <td>11.90</td>\n",
       "    </tr>\n",
       "    <tr>\n",
       "      <th>36</th>\n",
       "      <td>A</td>\n",
       "      <td>2021-01-20</td>\n",
       "      <td>121506</td>\n",
       "      <td>14561</td>\n",
       "      <td>1179590000</td>\n",
       "      <td>81010.232814</td>\n",
       "      <td>11.98</td>\n",
       "    </tr>\n",
       "    <tr>\n",
       "      <th>37</th>\n",
       "      <td>B</td>\n",
       "      <td>2021-01-20</td>\n",
       "      <td>121857</td>\n",
       "      <td>14496</td>\n",
       "      <td>1286900000</td>\n",
       "      <td>88776.214128</td>\n",
       "      <td>11.90</td>\n",
       "    </tr>\n",
       "    <tr>\n",
       "      <th>38</th>\n",
       "      <td>A</td>\n",
       "      <td>2021-01-21</td>\n",
       "      <td>128256</td>\n",
       "      <td>15412</td>\n",
       "      <td>1249890000</td>\n",
       "      <td>81098.494679</td>\n",
       "      <td>12.02</td>\n",
       "    </tr>\n",
       "    <tr>\n",
       "      <th>39</th>\n",
       "      <td>B</td>\n",
       "      <td>2021-01-21</td>\n",
       "      <td>128412</td>\n",
       "      <td>15256</td>\n",
       "      <td>1356770000</td>\n",
       "      <td>88933.534347</td>\n",
       "      <td>11.88</td>\n",
       "    </tr>\n",
       "    <tr>\n",
       "      <th>40</th>\n",
       "      <td>A</td>\n",
       "      <td>2021-01-22</td>\n",
       "      <td>134843</td>\n",
       "      <td>16200</td>\n",
       "      <td>1313580000</td>\n",
       "      <td>81085.185185</td>\n",
       "      <td>12.01</td>\n",
       "    </tr>\n",
       "    <tr>\n",
       "      <th>41</th>\n",
       "      <td>B</td>\n",
       "      <td>2021-01-22</td>\n",
       "      <td>135071</td>\n",
       "      <td>16043</td>\n",
       "      <td>1425430000</td>\n",
       "      <td>88850.589042</td>\n",
       "      <td>11.88</td>\n",
       "    </tr>\n",
       "    <tr>\n",
       "      <th>42</th>\n",
       "      <td>A</td>\n",
       "      <td>2021-01-23</td>\n",
       "      <td>141541</td>\n",
       "      <td>17043</td>\n",
       "      <td>1384530000</td>\n",
       "      <td>81237.458194</td>\n",
       "      <td>12.04</td>\n",
       "    </tr>\n",
       "    <tr>\n",
       "      <th>43</th>\n",
       "      <td>B</td>\n",
       "      <td>2021-01-23</td>\n",
       "      <td>141704</td>\n",
       "      <td>16848</td>\n",
       "      <td>1494360000</td>\n",
       "      <td>88696.581197</td>\n",
       "      <td>11.89</td>\n",
       "    </tr>\n",
       "    <tr>\n",
       "      <th>44</th>\n",
       "      <td>A</td>\n",
       "      <td>2021-01-24</td>\n",
       "      <td>145307</td>\n",
       "      <td>17487</td>\n",
       "      <td>1417780000</td>\n",
       "      <td>81076.228055</td>\n",
       "      <td>12.03</td>\n",
       "    </tr>\n",
       "    <tr>\n",
       "      <th>45</th>\n",
       "      <td>B</td>\n",
       "      <td>2021-01-24</td>\n",
       "      <td>145381</td>\n",
       "      <td>17290</td>\n",
       "      <td>1533010000</td>\n",
       "      <td>88664.545980</td>\n",
       "      <td>11.89</td>\n",
       "    </tr>\n",
       "  </tbody>\n",
       "</table>\n",
       "</div>"
      ],
      "text/plain": [
       "   group       date  user_sessions_cnt  purchases_cnt  price_total  \\\n",
       "0      A 2021-01-02               2854            359     29410000   \n",
       "1      B 2021-01-02               2861            345     29660000   \n",
       "2      A 2021-01-03               9450           1107     91410000   \n",
       "3      B 2021-01-03               9480           1099     95620000   \n",
       "4      A 2021-01-04              16016           1906    155660000   \n",
       "5      B 2021-01-04              16016           1863    163650000   \n",
       "6      A 2021-01-05              22449           2696    220210000   \n",
       "7      B 2021-01-05              22527           2612    227200000   \n",
       "8      A 2021-01-06              29055           3460    283620000   \n",
       "9      B 2021-01-06              29278           3450    302220000   \n",
       "10     A 2021-01-07              35634           4255    350910000   \n",
       "11     B 2021-01-07              35894           4217    369390000   \n",
       "12     A 2021-01-08              42321           5053    416290000   \n",
       "13     B 2021-01-08              42608           5029    440660000   \n",
       "14     A 2021-01-09              48954           5847    481900000   \n",
       "15     B 2021-01-09              49236           5813    512070000   \n",
       "16     A 2021-01-10              55613           6606    540850000   \n",
       "17     B 2021-01-10              55937           6659    590150000   \n",
       "18     A 2021-01-11              62312           7403    599610000   \n",
       "19     B 2021-01-11              62616           7429    657110000   \n",
       "20     A 2021-01-12              68852           8198    668070000   \n",
       "21     B 2021-01-12              69251           8236    727670000   \n",
       "22     A 2021-01-13              75416           8962    731660000   \n",
       "23     B 2021-01-13              75746           8956    793580000   \n",
       "24     A 2021-01-14              81959           9787    797550000   \n",
       "25     B 2021-01-14              82354           9748    862570000   \n",
       "26     A 2021-01-15              88660          10593    865120000   \n",
       "27     B 2021-01-15              88917          10495    931730000   \n",
       "28     A 2021-01-16              95261          11401    931330000   \n",
       "29     B 2021-01-16              95461          11281   1002290000   \n",
       "30     A 2021-01-17             101880          12210    994350000   \n",
       "31     B 2021-01-17             102007          12112   1077590000   \n",
       "32     A 2021-01-18             108391          13022   1057200000   \n",
       "33     B 2021-01-18             108610          12934   1149830000   \n",
       "34     A 2021-01-19             114973          13812   1120880000   \n",
       "35     B 2021-01-19             115172          13706   1217650000   \n",
       "36     A 2021-01-20             121506          14561   1179590000   \n",
       "37     B 2021-01-20             121857          14496   1286900000   \n",
       "38     A 2021-01-21             128256          15412   1249890000   \n",
       "39     B 2021-01-21             128412          15256   1356770000   \n",
       "40     A 2021-01-22             134843          16200   1313580000   \n",
       "41     B 2021-01-22             135071          16043   1425430000   \n",
       "42     A 2021-01-23             141541          17043   1384530000   \n",
       "43     B 2021-01-23             141704          16848   1494360000   \n",
       "44     A 2021-01-24             145307          17487   1417780000   \n",
       "45     B 2021-01-24             145381          17290   1533010000   \n",
       "\n",
       "       avg_price  conversion, %  \n",
       "0   81922.005571          12.58  \n",
       "1   85971.014493          12.06  \n",
       "2   82574.525745          11.71  \n",
       "3   87006.369427          11.59  \n",
       "4   81668.415530          11.90  \n",
       "5   87842.190016          11.63  \n",
       "6   81680.267062          12.01  \n",
       "7   86983.154671          11.59  \n",
       "8   81971.098266          11.91  \n",
       "9   87600.000000          11.78  \n",
       "10  82470.035253          11.94  \n",
       "11  87595.447000          11.75  \n",
       "12  82384.721947          11.94  \n",
       "13  87623.782064          11.80  \n",
       "14  82418.334188          11.94  \n",
       "15  88090.486840          11.81  \n",
       "16  81872.540115          11.88  \n",
       "17  88624.418081          11.90  \n",
       "18  80995.542348          11.88  \n",
       "19  88452.012384          11.86  \n",
       "20  81491.827275          11.91  \n",
       "21  88352.355512          11.89  \n",
       "22  81640.258871          11.88  \n",
       "23  88608.753908          11.82  \n",
       "24  81490.753040          11.94  \n",
       "25  88486.869101          11.84  \n",
       "26  81669.026716          11.95  \n",
       "27  88778.465936          11.80  \n",
       "28  81688.448382          11.97  \n",
       "29  88847.619892          11.82  \n",
       "30  81437.346437          11.98  \n",
       "31  88968.791281          11.87  \n",
       "32  81185.685763          12.01  \n",
       "33  88899.798979          11.91  \n",
       "34  81152.620909          12.01  \n",
       "35  88840.653728          11.90  \n",
       "36  81010.232814          11.98  \n",
       "37  88776.214128          11.90  \n",
       "38  81098.494679          12.02  \n",
       "39  88933.534347          11.88  \n",
       "40  81085.185185          12.01  \n",
       "41  88850.589042          11.88  \n",
       "42  81237.458194          12.04  \n",
       "43  88696.581197          11.89  \n",
       "44  81076.228055          12.03  \n",
       "45  88664.545980          11.89  "
      ]
     },
     "metadata": {},
     "output_type": "display_data"
    }
   ],
   "source": [
    "cumm['avg_price'] = cumm['price_total'] / cumm['purchases_cnt']\n",
    "cumm['conversion, %'] = round(cumm['purchases_cnt'] / cumm['user_sessions_cnt'] * 100, 2)\n",
    "print('Таблица с кумулятивными метриками (накопленным итогом)\\n - числом сессий, покупок, суммарной стоимостью покупок, средним чеком и конверсией:')\n",
    "pd.set_option('display.max_rows', 50)\n",
    "display(cumm)"
   ]
  },
  {
   "cell_type": "code",
   "execution_count": 23,
   "metadata": {},
   "outputs": [
    {
     "data": {
      "image/png": "[encoded data removed]",
      "text/plain": [
       "<Figure size 1000x700 with 1 Axes>"
      ]
     },
     "metadata": {},
     "output_type": "display_data"
    }
   ],
   "source": [
    "plt.figure(figsize=(10,7)) \n",
    "plt.plot(cumm[cumm['group']=='A']['date'], cumm[cumm['group']=='A']['avg_price'], label='avg price (cumulative), Group A') \n",
    "plt.plot(cumm[cumm['group']=='B']['date'], cumm[cumm['group']=='B']['avg_price'], label='avg price (cumulative), Group B')\n",
    "plt.title('Средний чек накопленным итогом') \n",
    "plt.xlabel('Дата') \n",
    "plt.ylabel('Средний чек за прошедший период, руб') \n",
    "plt.xticks(rotation = 45) \n",
    "plt.legend() \n",
    "plt.grid(True) \n",
    "plt.show() \n"
   ]
  },
  {
   "cell_type": "code",
   "execution_count": 24,
   "metadata": {},
   "outputs": [
    {
     "data": {
      "image/png": "[encoded data removed]",
      "text/plain": [
       "<Figure size 1000x700 with 1 Axes>"
      ]
     },
     "metadata": {},
     "output_type": "display_data"
    }
   ],
   "source": [
    "plt.figure(figsize=(10,7)) \n",
    "plt.plot(cumm[cumm['group']=='A']['date'], cumm[cumm['group']=='A']['conversion, %'], label='conversion (cumulative), Group A') \n",
    "plt.plot(cumm[cumm['group']=='B']['date'], cumm[cumm['group']=='B']['conversion, %'], label='conversion (cumulative), Group B')\n",
    "plt.title('Конверсия накопленным итогом') \n",
    "plt.xlabel('Дата') \n",
    "plt.ylabel('Конверсия за прошедший период (%)') \n",
    "#plt.xticks(rotation = 45) \n",
    "plt.legend() # \n",
    "plt.grid(True) \n",
    "plt.show() "
   ]
  },
  {
   "attachments": {},
   "cell_type": "markdown",
   "metadata": {},
   "source": [
    "**ВЫВОД:** После колебаний в первые дни периода, кумулятивные средний чек и конверсия достаточно стабилизировались. В результате конверсия группы А стабильно выше группы B. Но средний чек группы B выше среднего чека группы А. "
   ]
  },
  {
   "attachments": {},
   "cell_type": "markdown",
   "metadata": {},
   "source": [
    "## Проверка гипотез"
   ]
  },
  {
   "attachments": {},
   "cell_type": "markdown",
   "metadata": {},
   "source": [
    "### Гипотеза о равенстве конверсии в группах\n",
    "- нулевая гипотеза - конверсии в обеих группах равны\n",
    "- альтернативная гипотеза - конверсии в группах не равны "
   ]
  },
  {
   "attachments": {},
   "cell_type": "markdown",
   "metadata": {},
   "source": [
    "Посмотрим какова форма распределения показателя конверсии по дням в группах:"
   ]
  },
  {
   "cell_type": "code",
   "execution_count": 25,
   "metadata": {},
   "outputs": [
    {
     "name": "stdout",
     "output_type": "stream",
     "text": [
      "Число сессий, покупок и суммарная стоимость покупок по дням по группам:\n"
     ]
    },
    {
     "data": {
      "text/html": [
       "<div>\n",
       "<style scoped>\n",
       "    .dataframe tbody tr th:only-of-type {\n",
       "        vertical-align: middle;\n",
       "    }\n",
       "\n",
       "    .dataframe tbody tr th {\n",
       "        vertical-align: top;\n",
       "    }\n",
       "\n",
       "    .dataframe thead th {\n",
       "        text-align: right;\n",
       "    }\n",
       "</style>\n",
       "<table border=\"1\" class=\"dataframe\">\n",
       "  <thead>\n",
       "    <tr style=\"text-align: right;\">\n",
       "      <th></th>\n",
       "      <th>group</th>\n",
       "      <th>date</th>\n",
       "      <th>sessions_cnt</th>\n",
       "      <th>purchases_cnt</th>\n",
       "      <th>total_price</th>\n",
       "    </tr>\n",
       "  </thead>\n",
       "  <tbody>\n",
       "    <tr>\n",
       "      <th>0</th>\n",
       "      <td>A</td>\n",
       "      <td>2021-01-02</td>\n",
       "      <td>2854</td>\n",
       "      <td>359</td>\n",
       "      <td>29410000</td>\n",
       "    </tr>\n",
       "    <tr>\n",
       "      <th>1</th>\n",
       "      <td>A</td>\n",
       "      <td>2021-01-03</td>\n",
       "      <td>6596</td>\n",
       "      <td>748</td>\n",
       "      <td>62000000</td>\n",
       "    </tr>\n",
       "    <tr>\n",
       "      <th>...</th>\n",
       "      <td>...</td>\n",
       "      <td>...</td>\n",
       "      <td>...</td>\n",
       "      <td>...</td>\n",
       "      <td>...</td>\n",
       "    </tr>\n",
       "    <tr>\n",
       "      <th>44</th>\n",
       "      <td>B</td>\n",
       "      <td>2021-01-23</td>\n",
       "      <td>6633</td>\n",
       "      <td>805</td>\n",
       "      <td>68930000</td>\n",
       "    </tr>\n",
       "    <tr>\n",
       "      <th>45</th>\n",
       "      <td>B</td>\n",
       "      <td>2021-01-24</td>\n",
       "      <td>3677</td>\n",
       "      <td>442</td>\n",
       "      <td>38650000</td>\n",
       "    </tr>\n",
       "  </tbody>\n",
       "</table>\n",
       "<p>46 rows × 5 columns</p>\n",
       "</div>"
      ],
      "text/plain": [
       "   group       date  sessions_cnt  purchases_cnt  total_price\n",
       "0      A 2021-01-02          2854            359     29410000\n",
       "1      A 2021-01-03          6596            748     62000000\n",
       "..   ...        ...           ...            ...          ...\n",
       "44     B 2021-01-23          6633            805     68930000\n",
       "45     B 2021-01-24          3677            442     38650000\n",
       "\n",
       "[46 rows x 5 columns]"
      ]
     },
     "metadata": {},
     "output_type": "display_data"
    }
   ],
   "source": [
    "conv2=df_cor.groupby(['group','date'],as_index=False).aggregate({'user_id':'count','purchase':'sum','price':'sum'}) \\\n",
    "    .rename(columns={'user_id':'sessions_cnt','purchase':'purchases_cnt','price':'total_price'})\n",
    "print('Число сессий, покупок и суммарная стоимость покупок по дням по группам:')\n",
    "pd.set_option('display.max_rows', 4)\n",
    "display(conv2)"
   ]
  },
  {
   "cell_type": "code",
   "execution_count": 26,
   "metadata": {},
   "outputs": [
    {
     "name": "stdout",
     "output_type": "stream",
     "text": [
      "Количество сессий, количество покупок, общая стоимость покупок,\n",
      "конверсия и стоимость среднего чека по дням по группам:\n"
     ]
    },
    {
     "data": {
      "text/html": [
       "<div>\n",
       "<style scoped>\n",
       "    .dataframe tbody tr th:only-of-type {\n",
       "        vertical-align: middle;\n",
       "    }\n",
       "\n",
       "    .dataframe tbody tr th {\n",
       "        vertical-align: top;\n",
       "    }\n",
       "\n",
       "    .dataframe thead th {\n",
       "        text-align: right;\n",
       "    }\n",
       "</style>\n",
       "<table border=\"1\" class=\"dataframe\">\n",
       "  <thead>\n",
       "    <tr style=\"text-align: right;\">\n",
       "      <th></th>\n",
       "      <th>group</th>\n",
       "      <th>date</th>\n",
       "      <th>sessions_cnt</th>\n",
       "      <th>purchases_cnt</th>\n",
       "      <th>total_price</th>\n",
       "      <th>converse_%</th>\n",
       "      <th>price_avg</th>\n",
       "    </tr>\n",
       "  </thead>\n",
       "  <tbody>\n",
       "    <tr>\n",
       "      <th>0</th>\n",
       "      <td>A</td>\n",
       "      <td>2021-01-02</td>\n",
       "      <td>2854</td>\n",
       "      <td>359</td>\n",
       "      <td>29410000</td>\n",
       "      <td>12.58</td>\n",
       "      <td>81922.005571</td>\n",
       "    </tr>\n",
       "    <tr>\n",
       "      <th>1</th>\n",
       "      <td>A</td>\n",
       "      <td>2021-01-03</td>\n",
       "      <td>6596</td>\n",
       "      <td>748</td>\n",
       "      <td>62000000</td>\n",
       "      <td>11.34</td>\n",
       "      <td>82887.700535</td>\n",
       "    </tr>\n",
       "    <tr>\n",
       "      <th>...</th>\n",
       "      <td>...</td>\n",
       "      <td>...</td>\n",
       "      <td>...</td>\n",
       "      <td>...</td>\n",
       "      <td>...</td>\n",
       "      <td>...</td>\n",
       "      <td>...</td>\n",
       "    </tr>\n",
       "    <tr>\n",
       "      <th>44</th>\n",
       "      <td>B</td>\n",
       "      <td>2021-01-23</td>\n",
       "      <td>6633</td>\n",
       "      <td>805</td>\n",
       "      <td>68930000</td>\n",
       "      <td>12.14</td>\n",
       "      <td>85627.329193</td>\n",
       "    </tr>\n",
       "    <tr>\n",
       "      <th>45</th>\n",
       "      <td>B</td>\n",
       "      <td>2021-01-24</td>\n",
       "      <td>3677</td>\n",
       "      <td>442</td>\n",
       "      <td>38650000</td>\n",
       "      <td>12.02</td>\n",
       "      <td>87443.438914</td>\n",
       "    </tr>\n",
       "  </tbody>\n",
       "</table>\n",
       "<p>46 rows × 7 columns</p>\n",
       "</div>"
      ],
      "text/plain": [
       "   group       date  sessions_cnt  purchases_cnt  total_price  converse_%  \\\n",
       "0      A 2021-01-02          2854            359     29410000       12.58   \n",
       "1      A 2021-01-03          6596            748     62000000       11.34   \n",
       "..   ...        ...           ...            ...          ...         ...   \n",
       "44     B 2021-01-23          6633            805     68930000       12.14   \n",
       "45     B 2021-01-24          3677            442     38650000       12.02   \n",
       "\n",
       "       price_avg  \n",
       "0   81922.005571  \n",
       "1   82887.700535  \n",
       "..           ...  \n",
       "44  85627.329193  \n",
       "45  87443.438914  \n",
       "\n",
       "[46 rows x 7 columns]"
      ]
     },
     "metadata": {},
     "output_type": "display_data"
    }
   ],
   "source": [
    "conv2['converse_%'] = round(conv2['purchases_cnt'] / conv2['sessions_cnt'] * 100, 2)\n",
    "conv2['price_avg'] = conv2['total_price'] / conv2['purchases_cnt']\n",
    "print('Количество сессий, количество покупок, общая стоимость покупок,\\nконверсия и стоимость среднего чека по дням по группам:')\n",
    "display(conv2)"
   ]
  },
  {
   "cell_type": "code",
   "execution_count": 27,
   "metadata": {},
   "outputs": [
    {
     "name": "stdout",
     "output_type": "stream",
     "text": [
      "Диаграмма распределения показателя конверсии в группе А:\n"
     ]
    },
    {
     "data": {
      "text/plain": [
       "<AxesSubplot: >"
      ]
     },
     "execution_count": 27,
     "metadata": {},
     "output_type": "execute_result"
    },
    {
     "data": {
      "image/png": "[encoded data removed]",
      "text/plain": [
       "<Figure size 640x480 with 1 Axes>"
      ]
     },
     "metadata": {},
     "output_type": "display_data"
    }
   ],
   "source": [
    "print('Диаграмма распределения показателя конверсии в группе А:')\n",
    "conv2[conv2['group']=='A']['converse_%'].hist()"
   ]
  },
  {
   "cell_type": "code",
   "execution_count": 28,
   "metadata": {},
   "outputs": [
    {
     "name": "stdout",
     "output_type": "stream",
     "text": [
      "Диаграмма распределения показателя конверсии в группе B:\n"
     ]
    },
    {
     "data": {
      "text/plain": [
       "<AxesSubplot: >"
      ]
     },
     "execution_count": 28,
     "metadata": {},
     "output_type": "execute_result"
    },
    {
     "data": {
      "image/png": "[encoded data removed]",
      "text/plain": [
       "<Figure size 640x480 with 1 Axes>"
      ]
     },
     "metadata": {},
     "output_type": "display_data"
    }
   ],
   "source": [
    "print('Диаграмма распределения показателя конверсии в группе B:')\n",
    "conv2[conv2['group']=='B']['converse_%'].hist()"
   ]
  },
  {
   "attachments": {},
   "cell_type": "markdown",
   "metadata": {},
   "source": [
    "ВЫВОД: Будем считать распределение показателя конверсии в обеих группах приблизительно нормальным."
   ]
  },
  {
   "attachments": {},
   "cell_type": "markdown",
   "metadata": {},
   "source": [
    " Проверим гипотезу о равенстве конверсии в группах при помощи Z-теста:"
   ]
  },
  {
   "attachments": {},
   "cell_type": "markdown",
   "metadata": {},
   "source": [
    "Импортируем дополнительные библиотеки для проверки гипотез:"
   ]
  },
  {
   "cell_type": "code",
   "execution_count": 29,
   "metadata": {},
   "outputs": [],
   "source": [
    "from scipy import stats as st\n",
    "import numpy as np\n",
    "import math as mth"
   ]
  },
  {
   "cell_type": "code",
   "execution_count": 30,
   "metadata": {},
   "outputs": [
    {
     "name": "stdout",
     "output_type": "stream",
     "text": [
      "Показатели по группам - количество сессий, количество покупок, общая стоимость покупок,\n",
      "конверсия и стоимость среднего чека:\n"
     ]
    },
    {
     "data": {
      "text/html": [
       "<div>\n",
       "<style scoped>\n",
       "    .dataframe tbody tr th:only-of-type {\n",
       "        vertical-align: middle;\n",
       "    }\n",
       "\n",
       "    .dataframe tbody tr th {\n",
       "        vertical-align: top;\n",
       "    }\n",
       "\n",
       "    .dataframe thead th {\n",
       "        text-align: right;\n",
       "    }\n",
       "</style>\n",
       "<table border=\"1\" class=\"dataframe\">\n",
       "  <thead>\n",
       "    <tr style=\"text-align: right;\">\n",
       "      <th></th>\n",
       "      <th>group</th>\n",
       "      <th>sessions_cnt</th>\n",
       "      <th>purchases_cnt</th>\n",
       "      <th>total_price</th>\n",
       "      <th>converse</th>\n",
       "      <th>price_avg</th>\n",
       "    </tr>\n",
       "  </thead>\n",
       "  <tbody>\n",
       "    <tr>\n",
       "      <th>0</th>\n",
       "      <td>A</td>\n",
       "      <td>145307</td>\n",
       "      <td>17487</td>\n",
       "      <td>1417780000</td>\n",
       "      <td>12.03</td>\n",
       "      <td>81076.23</td>\n",
       "    </tr>\n",
       "    <tr>\n",
       "      <th>1</th>\n",
       "      <td>B</td>\n",
       "      <td>145381</td>\n",
       "      <td>17290</td>\n",
       "      <td>1533010000</td>\n",
       "      <td>11.89</td>\n",
       "      <td>88664.55</td>\n",
       "    </tr>\n",
       "  </tbody>\n",
       "</table>\n",
       "</div>"
      ],
      "text/plain": [
       "  group  sessions_cnt  purchases_cnt  total_price  converse  price_avg\n",
       "0     A        145307          17487   1417780000     12.03   81076.23\n",
       "1     B        145381          17290   1533010000     11.89   88664.55"
      ]
     },
     "metadata": {},
     "output_type": "display_data"
    }
   ],
   "source": [
    "print('Показатели по группам - количество сессий, количество покупок, общая стоимость покупок,\\nконверсия и стоимость среднего чека:')\n",
    "display(conv)"
   ]
  },
  {
   "cell_type": "code",
   "execution_count": 31,
   "metadata": {},
   "outputs": [
    {
     "name": "stdout",
     "output_type": "stream",
     "text": [
      "P-value :    0.23940749849829834\n"
     ]
    }
   ],
   "source": [
    "p1 = conv[conv['group']=='A']['purchases_cnt'].sum() / conv[conv['group']=='A']['sessions_cnt'].sum() \n",
    "p2 = conv[conv['group']=='B']['purchases_cnt'].sum() / conv[conv['group']=='B']['sessions_cnt'].sum() \n",
    "p = conv['purchases_cnt'].sum() / conv['sessions_cnt'].sum()\t                \n",
    "p_diff = p1 - p2\n",
    "z = p_diff / mth.sqrt( \\\n",
    "    p * (1 - p) * (1/conv[conv['group']=='A']['sessions_cnt'].sum() + 1/conv[conv['group']=='B']['sessions_cnt'].sum()))  \n",
    "distr = st.norm(0, 1)\n",
    "p_val = (1 - distr.cdf(abs(z))) * 2\n",
    "print('P-value :   ', p_val)"
   ]
  },
  {
   "attachments": {},
   "cell_type": "markdown",
   "metadata": {},
   "source": [
    "**ВЫВОД**  \n",
    "P-value больше принятого уровня значимости (0,05), следовательно, статистически значимая разница между конверсией в группе A и конверсией в группе B отсутствует - конверсию можно считать одинаковой в обеих группах. "
   ]
  },
  {
   "attachments": {},
   "cell_type": "markdown",
   "metadata": {},
   "source": [
    "### Гипотеза о равенстве выручки от групп\n",
    "- нулевая гипотеза - выручка от групп одинакова\n",
    "- альтернативная гипотеза - выручка от групп разная"
   ]
  },
  {
   "attachments": {},
   "cell_type": "markdown",
   "metadata": {},
   "source": [
    "Посмотрим какова форма распределения показателя выручки от пользователей двух групп:"
   ]
  },
  {
   "cell_type": "code",
   "execution_count": 32,
   "metadata": {},
   "outputs": [
    {
     "name": "stdout",
     "output_type": "stream",
     "text": [
      "Таблица сессий без пользователей, попавших в обе группы:\n"
     ]
    },
    {
     "data": {
      "text/html": [
       "<div>\n",
       "<style scoped>\n",
       "    .dataframe tbody tr th:only-of-type {\n",
       "        vertical-align: middle;\n",
       "    }\n",
       "\n",
       "    .dataframe tbody tr th {\n",
       "        vertical-align: top;\n",
       "    }\n",
       "\n",
       "    .dataframe thead th {\n",
       "        text-align: right;\n",
       "    }\n",
       "</style>\n",
       "<table border=\"1\" class=\"dataframe\">\n",
       "  <thead>\n",
       "    <tr style=\"text-align: right;\">\n",
       "      <th></th>\n",
       "      <th>user_id</th>\n",
       "      <th>date</th>\n",
       "      <th>group</th>\n",
       "      <th>purchase</th>\n",
       "      <th>price</th>\n",
       "    </tr>\n",
       "  </thead>\n",
       "  <tbody>\n",
       "    <tr>\n",
       "      <th>0</th>\n",
       "      <td>851104</td>\n",
       "      <td>2021-01-21</td>\n",
       "      <td>A</td>\n",
       "      <td>0</td>\n",
       "      <td>0</td>\n",
       "    </tr>\n",
       "    <tr>\n",
       "      <th>1</th>\n",
       "      <td>804228</td>\n",
       "      <td>2021-01-12</td>\n",
       "      <td>A</td>\n",
       "      <td>0</td>\n",
       "      <td>0</td>\n",
       "    </tr>\n",
       "    <tr>\n",
       "      <th>...</th>\n",
       "      <td>...</td>\n",
       "      <td>...</td>\n",
       "      <td>...</td>\n",
       "      <td>...</td>\n",
       "      <td>...</td>\n",
       "    </tr>\n",
       "    <tr>\n",
       "      <th>294476</th>\n",
       "      <td>697314</td>\n",
       "      <td>2021-01-15</td>\n",
       "      <td>A</td>\n",
       "      <td>0</td>\n",
       "      <td>0</td>\n",
       "    </tr>\n",
       "    <tr>\n",
       "      <th>294477</th>\n",
       "      <td>715931</td>\n",
       "      <td>2021-01-16</td>\n",
       "      <td>B</td>\n",
       "      <td>0</td>\n",
       "      <td>0</td>\n",
       "    </tr>\n",
       "  </tbody>\n",
       "</table>\n",
       "<p>290688 rows × 5 columns</p>\n",
       "</div>"
      ],
      "text/plain": [
       "        user_id       date group  purchase  price\n",
       "0        851104 2021-01-21     A         0      0\n",
       "1        804228 2021-01-12     A         0      0\n",
       "...         ...        ...   ...       ...    ...\n",
       "294476   697314 2021-01-15     A         0      0\n",
       "294477   715931 2021-01-16     B         0      0\n",
       "\n",
       "[290688 rows x 5 columns]"
      ]
     },
     "metadata": {},
     "output_type": "display_data"
    }
   ],
   "source": [
    "print('Таблица сессий без пользователей, попавших в обе группы:')\n",
    "display(df_cor)"
   ]
  },
  {
   "cell_type": "code",
   "execution_count": 33,
   "metadata": {},
   "outputs": [
    {
     "name": "stdout",
     "output_type": "stream",
     "text": [
      "Диаграмма распределения показателя выручки от пользователей из группы A:\n"
     ]
    },
    {
     "data": {
      "text/plain": [
       "<AxesSubplot: >"
      ]
     },
     "execution_count": 33,
     "metadata": {},
     "output_type": "execute_result"
    },
    {
     "data": {
      "image/png": "[encoded data removed]",
      "text/plain": [
       "<Figure size 640x480 with 1 Axes>"
      ]
     },
     "metadata": {},
     "output_type": "display_data"
    }
   ],
   "source": [
    "print('Диаграмма распределения показателя выручки от пользователей из группы A:')\n",
    "df_cor[(df_cor['group']=='A')&(df_cor['price']>0)]['price'].hist()"
   ]
  },
  {
   "cell_type": "code",
   "execution_count": 34,
   "metadata": {},
   "outputs": [
    {
     "name": "stdout",
     "output_type": "stream",
     "text": [
      "Диаграмма распределения показателя выручки от пользователей из группы B:\n"
     ]
    },
    {
     "data": {
      "text/plain": [
       "<AxesSubplot: >"
      ]
     },
     "execution_count": 34,
     "metadata": {},
     "output_type": "execute_result"
    },
    {
     "data": {
      "image/png": "[encoded data removed]",
      "text/plain": [
       "<Figure size 640x480 with 1 Axes>"
      ]
     },
     "metadata": {},
     "output_type": "display_data"
    }
   ],
   "source": [
    "print('Диаграмма распределения показателя выручки от пользователей из группы B:')\n",
    "df_cor[(df_cor['group']=='B')&(df_cor['price']>0)]['price'].hist()"
   ]
  },
  {
   "attachments": {},
   "cell_type": "markdown",
   "metadata": {},
   "source": [
    "ВЫВОД: Распределение показателя выручки от пользователей обеих групп не является нормальным."
   ]
  },
  {
   "attachments": {},
   "cell_type": "markdown",
   "metadata": {},
   "source": [
    " Проверим гипотезу о равенстве выручки в группах при помощи теста Манна-Уитни:"
   ]
  },
  {
   "cell_type": "code",
   "execution_count": 35,
   "metadata": {},
   "outputs": [
    {
     "name": "stdout",
     "output_type": "stream",
     "text": [
      "MannwhitneyuResult(statistic=139547139.0, pvalue=2.825361345286736e-37)\n"
     ]
    }
   ],
   "source": [
    "results =  st.mannwhitneyu( \\\n",
    "    df_cor[(df_cor['group']=='A') & (df_cor['price']>0)]['price'] \\\n",
    "        , df_cor[(df_cor['group']=='B') & (df_cor['price']>0)]['price'])\n",
    "print(results)"
   ]
  },
  {
   "attachments": {},
   "cell_type": "markdown",
   "metadata": {},
   "source": [
    "**ВЫВОД**  \n",
    "P-value меньше принятого уровня значимости (0,05), следовательно имеется статистически значимая разница между выручкой от пользователей разных групп - выручка в группе B отличается от выручки в группе А. "
   ]
  },
  {
   "attachments": {},
   "cell_type": "markdown",
   "metadata": {},
   "source": [
    "### Гипотеза о равенстве средних чеков в группах по дням\n",
    "- нулевая гипотеза - средний чек одинаков\n",
    "- альтернативная гипотеза - средний чек в разных группах разный"
   ]
  },
  {
   "cell_type": "code",
   "execution_count": 36,
   "metadata": {},
   "outputs": [
    {
     "name": "stdout",
     "output_type": "stream",
     "text": [
      "Количество сессий, количество покупок, общая стоимость покупок,\n",
      "конверсия и стоимость среднего чека по дням по группам:\n"
     ]
    },
    {
     "data": {
      "text/html": [
       "<div>\n",
       "<style scoped>\n",
       "    .dataframe tbody tr th:only-of-type {\n",
       "        vertical-align: middle;\n",
       "    }\n",
       "\n",
       "    .dataframe tbody tr th {\n",
       "        vertical-align: top;\n",
       "    }\n",
       "\n",
       "    .dataframe thead th {\n",
       "        text-align: right;\n",
       "    }\n",
       "</style>\n",
       "<table border=\"1\" class=\"dataframe\">\n",
       "  <thead>\n",
       "    <tr style=\"text-align: right;\">\n",
       "      <th></th>\n",
       "      <th>group</th>\n",
       "      <th>date</th>\n",
       "      <th>sessions_cnt</th>\n",
       "      <th>purchases_cnt</th>\n",
       "      <th>total_price</th>\n",
       "      <th>converse_%</th>\n",
       "      <th>price_avg</th>\n",
       "    </tr>\n",
       "  </thead>\n",
       "  <tbody>\n",
       "    <tr>\n",
       "      <th>0</th>\n",
       "      <td>A</td>\n",
       "      <td>2021-01-02</td>\n",
       "      <td>2854</td>\n",
       "      <td>359</td>\n",
       "      <td>29410000</td>\n",
       "      <td>12.58</td>\n",
       "      <td>81922.005571</td>\n",
       "    </tr>\n",
       "    <tr>\n",
       "      <th>1</th>\n",
       "      <td>A</td>\n",
       "      <td>2021-01-03</td>\n",
       "      <td>6596</td>\n",
       "      <td>748</td>\n",
       "      <td>62000000</td>\n",
       "      <td>11.34</td>\n",
       "      <td>82887.700535</td>\n",
       "    </tr>\n",
       "    <tr>\n",
       "      <th>...</th>\n",
       "      <td>...</td>\n",
       "      <td>...</td>\n",
       "      <td>...</td>\n",
       "      <td>...</td>\n",
       "      <td>...</td>\n",
       "      <td>...</td>\n",
       "      <td>...</td>\n",
       "    </tr>\n",
       "    <tr>\n",
       "      <th>44</th>\n",
       "      <td>B</td>\n",
       "      <td>2021-01-23</td>\n",
       "      <td>6633</td>\n",
       "      <td>805</td>\n",
       "      <td>68930000</td>\n",
       "      <td>12.14</td>\n",
       "      <td>85627.329193</td>\n",
       "    </tr>\n",
       "    <tr>\n",
       "      <th>45</th>\n",
       "      <td>B</td>\n",
       "      <td>2021-01-24</td>\n",
       "      <td>3677</td>\n",
       "      <td>442</td>\n",
       "      <td>38650000</td>\n",
       "      <td>12.02</td>\n",
       "      <td>87443.438914</td>\n",
       "    </tr>\n",
       "  </tbody>\n",
       "</table>\n",
       "<p>46 rows × 7 columns</p>\n",
       "</div>"
      ],
      "text/plain": [
       "   group       date  sessions_cnt  purchases_cnt  total_price  converse_%  \\\n",
       "0      A 2021-01-02          2854            359     29410000       12.58   \n",
       "1      A 2021-01-03          6596            748     62000000       11.34   \n",
       "..   ...        ...           ...            ...          ...         ...   \n",
       "44     B 2021-01-23          6633            805     68930000       12.14   \n",
       "45     B 2021-01-24          3677            442     38650000       12.02   \n",
       "\n",
       "       price_avg  \n",
       "0   81922.005571  \n",
       "1   82887.700535  \n",
       "..           ...  \n",
       "44  85627.329193  \n",
       "45  87443.438914  \n",
       "\n",
       "[46 rows x 7 columns]"
      ]
     },
     "metadata": {},
     "output_type": "display_data"
    }
   ],
   "source": [
    "print('Количество сессий, количество покупок, общая стоимость покупок,\\nконверсия и стоимость среднего чека по дням по группам:')\n",
    "display(conv2)"
   ]
  },
  {
   "cell_type": "code",
   "execution_count": 37,
   "metadata": {},
   "outputs": [
    {
     "name": "stdout",
     "output_type": "stream",
     "text": [
      "Диаграмма распределения стоимости среднего чека за день в группе A:\n"
     ]
    },
    {
     "data": {
      "text/plain": [
       "<AxesSubplot: >"
      ]
     },
     "execution_count": 37,
     "metadata": {},
     "output_type": "execute_result"
    },
    {
     "data": {
      "image/png": "[encoded data removed]",
      "text/plain": [
       "<Figure size 640x480 with 1 Axes>"
      ]
     },
     "metadata": {},
     "output_type": "display_data"
    }
   ],
   "source": [
    "print('Диаграмма распределения стоимости среднего чека за день в группе A:')\n",
    "conv2[conv2['group']=='A']['price_avg'].hist()"
   ]
  },
  {
   "cell_type": "code",
   "execution_count": 38,
   "metadata": {},
   "outputs": [
    {
     "name": "stdout",
     "output_type": "stream",
     "text": [
      "Диаграмма распределения стоимости среднего чека за день в группе B:\n"
     ]
    },
    {
     "data": {
      "text/plain": [
       "<AxesSubplot: >"
      ]
     },
     "execution_count": 38,
     "metadata": {},
     "output_type": "execute_result"
    },
    {
     "data": {
      "image/png": "[encoded data removed]",
      "text/plain": [
       "<Figure size 640x480 with 1 Axes>"
      ]
     },
     "metadata": {},
     "output_type": "display_data"
    }
   ],
   "source": [
    "print('Диаграмма распределения стоимости среднего чека за день в группе B:')\n",
    "conv2[conv2['group']=='B']['price_avg'].hist()"
   ]
  },
  {
   "attachments": {},
   "cell_type": "markdown",
   "metadata": {},
   "source": [
    "ВЫВОД: Будем считать распределение среднего чека за день в обеих группах приблизительно нормальным."
   ]
  },
  {
   "attachments": {},
   "cell_type": "markdown",
   "metadata": {},
   "source": [
    " Проверим гипотезу о равенстве стоимости среднего чека за день в группах при помощи T-теста:"
   ]
  },
  {
   "cell_type": "code",
   "execution_count": 39,
   "metadata": {},
   "outputs": [
    {
     "name": "stdout",
     "output_type": "stream",
     "text": [
      "Ttest_indResult(statistic=-9.609061044565284, pvalue=2.2523589349617907e-12)\n"
     ]
    }
   ],
   "source": [
    "res = st.ttest_ind( conv2[conv2['group']=='A']['price_avg'], conv2[conv2['group']=='B']['price_avg'] )\n",
    "print(res)"
   ]
  },
  {
   "attachments": {},
   "cell_type": "markdown",
   "metadata": {},
   "source": [
    "**ВЫВОД**  \n",
    "P-value меньше принятого уровня значимости (0,05), следовательно имеется статистически значимая разница между стоимостью среднего чека за день в разных группах - средние чеки за день отличаются. "
   ]
  },
  {
   "attachments": {},
   "cell_type": "markdown",
   "metadata": {},
   "source": [
    "## Подытожим выводы.  \n",
    "- Результат предварительного анализа данных - в целом данные, полученные в ходе проведенного теста можно считать корректными и подлежащими дальнейшему анализу (подробности представлены выше, в соответствующем разделе).\n",
    "- Распределения стоимости купленных туров в группах А и В очень похожи. Единственное существенное отличие - в группе А туры за 60000 рублей предпочитают турам за 100000 рублей, а в группе В - зеркально наоборот. В остальном распределение покупок по стоимости в группах совпадает вплоть до 100-ой доли процента. \n",
    "- После колебаний в первые дни периода, кумулятивные средний чек и конверсия достаточно стабилизировались. В результате конверсия группы А стабильно выше группы B. Но средний чек группы B выше среднего чека группы А. \n",
    "- **Конверсия:** Статистически значимая разница между конверсией в группе A и конверсией в группе B отсутствует - конверсию можно считать одинаковой в обеих группах. Для оценки использовался Z-тест, уровень значимости - 0,05.\n",
    "- **Выручка:** Имеется статистически значимая разница между выручкой от пользователей разных групп - выручка в группе B больше выручки в группе А. Для оценки использовался Манна-Уитни, уровень значимости - 0,05.\n",
    "- **Средний чек по дням:** Имеется статистически значимая разница между стоимостью среднего чека за день в разных группах - средний чек в группе B больше среднего чека в группе А. Для оценки использовался T-тест, уровень значимости - 0,05.\n",
    "\n",
    "**ИТОГО:** Несмотря на то что конверсия группы B ниже, статистической значимости в конверсии не достигнуто, соответственно, считать конверсии разными оснований нет. При этом средний чек группы B выше среднего чека группы A (статистическая значимость достигнута) и вариант сайта B приносит значимо больше выручки, чем вариант сайта A."
   ]
  }
 ],
 "metadata": {
  "kernelspec": {
   "display_name": "Python 3",
   "language": "python",
   "name": "python3"
  },
  "language_info": {
   "codemirror_mode": {
    "name": "ipython",
    "version": 3
   },
   "file_extension": ".py",
   "mimetype": "text/x-python",
   "name": "python",
   "nbconvert_exporter": "python",
   "pygments_lexer": "ipython3",
   "version": "3.9.10"
  },
  "orig_nbformat": 4,
  "vscode": {
   "interpreter": {
    "hash": "2f4fcd523f80529f0ac6b5b8022f4090e81831c04e4bb610e477836c65ea1efb"
   }
  }
 },
 "nbformat": 4,
 "nbformat_minor": 2
}
