{
 "cells": [
  {
   "attachments": {},
   "cell_type": "markdown",
   "metadata": {},
   "source": [
    "# 54.11 PROJECT. Анализ результатов A/B-теста\n",
    "Туристическая фирма планирует запустить новую акцию, чтобы продать как можно больше туров. Были разработаны два варианта варианта посадочной страницы и проведен A/B-тест.\n",
    "Требуется оценить результаты A/B-теста.\n",
    "Требуется проверить какая из страниц работает лучше в разрезе конверсии, выручки и среднего чека.\n",
    "\n",
    "Уровень статистической значимости - 0,05.\n",
    "\n",
    "Варианты стоимости туров (руб.):\n",
    "- 10000 \n",
    "- 60000 \n",
    "- 100000 \n",
    "- 150000 \n",
    "- 200000"
   ]
  },
  {
   "attachments": {},
   "cell_type": "markdown",
   "metadata": {},
   "source": [
    "## Импорт необходимых библиотек и модулей и чтение датасета."
   ]
  },
  {
   "cell_type": "code",
   "execution_count": 1,
   "metadata": {},
   "outputs": [],
   "source": [
    "import pandas as pd\n",
    "pd.set_option('display.max_rows', 4)\n",
    "import matplotlib.pyplot as plt\n",
    "#%matplotlib inline"
   ]
  },
  {
   "attachments": {},
   "cell_type": "markdown",
   "metadata": {},
   "source": [
    "Импортируем таблицу с исходными данными:"
   ]
  },
  {
   "cell_type": "code",
   "execution_count": 2,
   "metadata": {},
   "outputs": [
    {
     "data": {
      "text/html": [
       "<div>\n",
       "<style scoped>\n",
       "    .dataframe tbody tr th:only-of-type {\n",
       "        vertical-align: middle;\n",
       "    }\n",
       "\n",
       "    .dataframe tbody tr th {\n",
       "        vertical-align: top;\n",
       "    }\n",
       "\n",
       "    .dataframe thead th {\n",
       "        text-align: right;\n",
       "    }\n",
       "</style>\n",
       "<table border=\"1\" class=\"dataframe\">\n",
       "  <thead>\n",
       "    <tr style=\"text-align: right;\">\n",
       "      <th></th>\n",
       "      <th>user_id</th>\n",
       "      <th>date</th>\n",
       "      <th>group</th>\n",
       "      <th>purchase</th>\n",
       "      <th>price</th>\n",
       "    </tr>\n",
       "  </thead>\n",
       "  <tbody>\n",
       "    <tr>\n",
       "      <th>0</th>\n",
       "      <td>851104</td>\n",
       "      <td>2021-01-21</td>\n",
       "      <td>A</td>\n",
       "      <td>0</td>\n",
       "      <td>0</td>\n",
       "    </tr>\n",
       "    <tr>\n",
       "      <th>1</th>\n",
       "      <td>804228</td>\n",
       "      <td>2021-01-12</td>\n",
       "      <td>A</td>\n",
       "      <td>0</td>\n",
       "      <td>0</td>\n",
       "    </tr>\n",
       "    <tr>\n",
       "      <th>...</th>\n",
       "      <td>...</td>\n",
       "      <td>...</td>\n",
       "      <td>...</td>\n",
       "      <td>...</td>\n",
       "      <td>...</td>\n",
       "    </tr>\n",
       "    <tr>\n",
       "      <th>294476</th>\n",
       "      <td>697314</td>\n",
       "      <td>2021-01-15</td>\n",
       "      <td>A</td>\n",
       "      <td>0</td>\n",
       "      <td>0</td>\n",
       "    </tr>\n",
       "    <tr>\n",
       "      <th>294477</th>\n",
       "      <td>715931</td>\n",
       "      <td>2021-01-16</td>\n",
       "      <td>B</td>\n",
       "      <td>0</td>\n",
       "      <td>0</td>\n",
       "    </tr>\n",
       "  </tbody>\n",
       "</table>\n",
       "<p>294478 rows × 5 columns</p>\n",
       "</div>"
      ],
      "text/plain": [
       "        user_id        date group  purchase  price\n",
       "0        851104  2021-01-21     A         0      0\n",
       "1        804228  2021-01-12     A         0      0\n",
       "...         ...         ...   ...       ...    ...\n",
       "294476   697314  2021-01-15     A         0      0\n",
       "294477   715931  2021-01-16     B         0      0\n",
       "\n",
       "[294478 rows x 5 columns]"
      ]
     },
     "metadata": {},
     "output_type": "display_data"
    },
    {
     "name": "stdout",
     "output_type": "stream",
     "text": [
      "<class 'pandas.core.frame.DataFrame'>\n",
      "Int64Index: 294478 entries, 0 to 294477\n",
      "Data columns (total 5 columns):\n",
      " #   Column    Non-Null Count   Dtype \n",
      "---  ------    --------------   ----- \n",
      " 0   user_id   294478 non-null  int64 \n",
      " 1   date      294478 non-null  object\n",
      " 2   group     294478 non-null  object\n",
      " 3   purchase  294478 non-null  int64 \n",
      " 4   price     294478 non-null  int64 \n",
      "dtypes: int64(3), object(2)\n",
      "memory usage: 13.5+ MB\n"
     ]
    },
    {
     "data": {
      "text/plain": [
       "None"
      ]
     },
     "metadata": {},
     "output_type": "display_data"
    }
   ],
   "source": [
    "df_initial=pd.read_csv('C:/New_life/DataAnalytics/Python/54_11_PROJECT/ab_data.csv',index_col=0)\n",
    "df=df_initial.copy()\n",
    "display(df)\n",
    "display(df.info())"
   ]
  },
  {
   "attachments": {},
   "cell_type": "markdown",
   "metadata": {},
   "source": [
    "## 1. Первичный анализ и обработка датасета.\n",
    "   В рамках этой задачи вам предстоит:\n",
    "   - привести столбцы к корректным типам данных;\n",
    "   - убедиться, что данные по обеим группам представлены за одинаковый период (визуализировать);\n",
    "   - проверить корректность распределения участников теста;\n",
    "   - проверить различие в группах;\n",
    "   - проверить пересечение аудитории в группах;\n",
    "   - определить по группам ряд показателей (количество пользователей, количество покупок, выручку, конверсию, средний чек);\n",
    "    - посмотреть, как распределяются суммы покупок (здесь необходимо повизуализировать);\n",
    "    - сделать первичные выводы."
   ]
  },
  {
   "attachments": {},
   "cell_type": "markdown",
   "metadata": {},
   "source": [
    "### Предварительные проверки и подготовка датафрейма"
   ]
  },
  {
   "attachments": {},
   "cell_type": "markdown",
   "metadata": {},
   "source": [
    "Убедимся, что значения столбца 'purchase' принимают исключительно значения 0 и 1, а значения столбца 'price' - из каталога цен на туры."
   ]
  },
  {
   "cell_type": "code",
   "execution_count": 3,
   "metadata": {},
   "outputs": [
    {
     "data": {
      "text/plain": [
       "0    259241\n",
       "1     35237\n",
       "Name: purchase, dtype: int64"
      ]
     },
     "metadata": {},
     "output_type": "display_data"
    },
    {
     "data": {
      "text/plain": [
       "0         259241\n",
       "10000      10510\n",
       "100000      7170\n",
       "60000       7091\n",
       "150000      7008\n",
       "200000      3458\n",
       "Name: price, dtype: int64"
      ]
     },
     "metadata": {},
     "output_type": "display_data"
    }
   ],
   "source": [
    "display(df['purchase'].value_counts())\n",
    "pd.set_option('display.max_rows', 10)\n",
    "display(df['price'].value_counts())"
   ]
  },
  {
   "attachments": {},
   "cell_type": "markdown",
   "metadata": {},
   "source": [
    "ВЫВОД: Значения столбцов соответствуют заявленным вариантам."
   ]
  },
  {
   "attachments": {},
   "cell_type": "markdown",
   "metadata": {},
   "source": [
    "Приведем столбец 'date' к типу datetime:"
   ]
  },
  {
   "cell_type": "code",
   "execution_count": 4,
   "metadata": {},
   "outputs": [
    {
     "data": {
      "text/html": [
       "<div>\n",
       "<style scoped>\n",
       "    .dataframe tbody tr th:only-of-type {\n",
       "        vertical-align: middle;\n",
       "    }\n",
       "\n",
       "    .dataframe tbody tr th {\n",
       "        vertical-align: top;\n",
       "    }\n",
       "\n",
       "    .dataframe thead th {\n",
       "        text-align: right;\n",
       "    }\n",
       "</style>\n",
       "<table border=\"1\" class=\"dataframe\">\n",
       "  <thead>\n",
       "    <tr style=\"text-align: right;\">\n",
       "      <th></th>\n",
       "      <th>user_id</th>\n",
       "      <th>date</th>\n",
       "      <th>group</th>\n",
       "      <th>purchase</th>\n",
       "      <th>price</th>\n",
       "    </tr>\n",
       "  </thead>\n",
       "  <tbody>\n",
       "    <tr>\n",
       "      <th>0</th>\n",
       "      <td>851104</td>\n",
       "      <td>2021-01-21</td>\n",
       "      <td>A</td>\n",
       "      <td>0</td>\n",
       "      <td>0</td>\n",
       "    </tr>\n",
       "    <tr>\n",
       "      <th>1</th>\n",
       "      <td>804228</td>\n",
       "      <td>2021-01-12</td>\n",
       "      <td>A</td>\n",
       "      <td>0</td>\n",
       "      <td>0</td>\n",
       "    </tr>\n",
       "    <tr>\n",
       "      <th>...</th>\n",
       "      <td>...</td>\n",
       "      <td>...</td>\n",
       "      <td>...</td>\n",
       "      <td>...</td>\n",
       "      <td>...</td>\n",
       "    </tr>\n",
       "    <tr>\n",
       "      <th>294476</th>\n",
       "      <td>697314</td>\n",
       "      <td>2021-01-15</td>\n",
       "      <td>A</td>\n",
       "      <td>0</td>\n",
       "      <td>0</td>\n",
       "    </tr>\n",
       "    <tr>\n",
       "      <th>294477</th>\n",
       "      <td>715931</td>\n",
       "      <td>2021-01-16</td>\n",
       "      <td>B</td>\n",
       "      <td>0</td>\n",
       "      <td>0</td>\n",
       "    </tr>\n",
       "  </tbody>\n",
       "</table>\n",
       "<p>294478 rows × 5 columns</p>\n",
       "</div>"
      ],
      "text/plain": [
       "        user_id       date group  purchase  price\n",
       "0        851104 2021-01-21     A         0      0\n",
       "1        804228 2021-01-12     A         0      0\n",
       "...         ...        ...   ...       ...    ...\n",
       "294476   697314 2021-01-15     A         0      0\n",
       "294477   715931 2021-01-16     B         0      0\n",
       "\n",
       "[294478 rows x 5 columns]"
      ]
     },
     "metadata": {},
     "output_type": "display_data"
    },
    {
     "name": "stdout",
     "output_type": "stream",
     "text": [
      "<class 'pandas.core.frame.DataFrame'>\n",
      "Int64Index: 294478 entries, 0 to 294477\n",
      "Data columns (total 5 columns):\n",
      " #   Column    Non-Null Count   Dtype         \n",
      "---  ------    --------------   -----         \n",
      " 0   user_id   294478 non-null  int64         \n",
      " 1   date      294478 non-null  datetime64[ns]\n",
      " 2   group     294478 non-null  object        \n",
      " 3   purchase  294478 non-null  int64         \n",
      " 4   price     294478 non-null  int64         \n",
      "dtypes: datetime64[ns](1), int64(3), object(1)\n",
      "memory usage: 13.5+ MB\n"
     ]
    },
    {
     "data": {
      "text/plain": [
       "None"
      ]
     },
     "metadata": {},
     "output_type": "display_data"
    }
   ],
   "source": [
    "df['date']=pd.to_datetime(df['date'])\n",
    "pd.set_option('display.max_rows', 4)\n",
    "display(df)\n",
    "display(df.info())"
   ]
  },
  {
   "attachments": {},
   "cell_type": "markdown",
   "metadata": {},
   "source": [
    "### Убедимся, что данные по обеим группам представлены за одинаковый период:"
   ]
  },
  {
   "cell_type": "code",
   "execution_count": 5,
   "metadata": {},
   "outputs": [
    {
     "data": {
      "text/html": [
       "<div>\n",
       "<style scoped>\n",
       "    .dataframe tbody tr th:only-of-type {\n",
       "        vertical-align: middle;\n",
       "    }\n",
       "\n",
       "    .dataframe tbody tr th {\n",
       "        vertical-align: top;\n",
       "    }\n",
       "\n",
       "    .dataframe thead th {\n",
       "        text-align: right;\n",
       "    }\n",
       "</style>\n",
       "<table border=\"1\" class=\"dataframe\">\n",
       "  <thead>\n",
       "    <tr style=\"text-align: right;\">\n",
       "      <th></th>\n",
       "      <th>earliest date</th>\n",
       "      <th>latest date</th>\n",
       "    </tr>\n",
       "    <tr>\n",
       "      <th>group</th>\n",
       "      <th></th>\n",
       "      <th></th>\n",
       "    </tr>\n",
       "  </thead>\n",
       "  <tbody>\n",
       "    <tr>\n",
       "      <th>A</th>\n",
       "      <td>2021-01-02</td>\n",
       "      <td>2021-01-24</td>\n",
       "    </tr>\n",
       "    <tr>\n",
       "      <th>B</th>\n",
       "      <td>2021-01-02</td>\n",
       "      <td>2021-01-24</td>\n",
       "    </tr>\n",
       "  </tbody>\n",
       "</table>\n",
       "</div>"
      ],
      "text/plain": [
       "      earliest date latest date\n",
       "group                          \n",
       "A        2021-01-02  2021-01-24\n",
       "B        2021-01-02  2021-01-24"
      ]
     },
     "metadata": {},
     "output_type": "display_data"
    },
    {
     "name": "stdout",
     "output_type": "stream",
     "text": [
      "Дата начала тестирования совпадает для групп А и B?       -  True\n",
      "Дата завершения тестирования совпадает для групп А и B?   -  True\n"
     ]
    }
   ],
   "source": [
    "df_ab_grouped=df.groupby(['group'],axis=0, as_index=False)\n",
    "date_min_max=df_ab_grouped['date'].agg(['min','max']).rename(columns={'min':'earliest date', 'max':'latest date'})\n",
    "#date_min_max=df.groupby(['group'],axis=0, as_index=False)['date'].aggregate({'date':'min', 'date':'max',}) \n",
    "display(date_min_max)\n",
    "print('Дата начала тестирования совпадает для групп А и B?       - ', \\\n",
    "    date_min_max.loc['A']['earliest date']==date_min_max.loc['B']['earliest date'])\n",
    "print('Дата завершения тестирования совпадает для групп А и B?   - ', \\\n",
    "    date_min_max.loc['A']['latest date']==date_min_max.loc['B']['latest date'])"
   ]
  },
  {
   "attachments": {},
   "cell_type": "markdown",
   "metadata": {},
   "source": [
    "ВЫВОД: Даты начала и завершения тестирования совпадают для групп А и В."
   ]
  },
  {
   "attachments": {},
   "cell_type": "markdown",
   "metadata": {},
   "source": [
    "Построим таблицу и на ее основе диаграмму, показывающие количество участников теста по дням:"
   ]
  },
  {
   "cell_type": "code",
   "execution_count": 6,
   "metadata": {},
   "outputs": [
    {
     "data": {
      "text/html": [
       "<div>\n",
       "<style scoped>\n",
       "    .dataframe tbody tr th:only-of-type {\n",
       "        vertical-align: middle;\n",
       "    }\n",
       "\n",
       "    .dataframe tbody tr th {\n",
       "        vertical-align: top;\n",
       "    }\n",
       "\n",
       "    .dataframe thead th {\n",
       "        text-align: right;\n",
       "    }\n",
       "</style>\n",
       "<table border=\"1\" class=\"dataframe\">\n",
       "  <thead>\n",
       "    <tr style=\"text-align: right;\">\n",
       "      <th></th>\n",
       "      <th>date</th>\n",
       "      <th>group</th>\n",
       "      <th>users cnt</th>\n",
       "      <th>unique users cnt</th>\n",
       "    </tr>\n",
       "  </thead>\n",
       "  <tbody>\n",
       "    <tr>\n",
       "      <th>0</th>\n",
       "      <td>2021-01-02</td>\n",
       "      <td>A</td>\n",
       "      <td>2894</td>\n",
       "      <td>2894</td>\n",
       "    </tr>\n",
       "    <tr>\n",
       "      <th>1</th>\n",
       "      <td>2021-01-02</td>\n",
       "      <td>B</td>\n",
       "      <td>2889</td>\n",
       "      <td>2889</td>\n",
       "    </tr>\n",
       "    <tr>\n",
       "      <th>...</th>\n",
       "      <td>...</td>\n",
       "      <td>...</td>\n",
       "      <td>...</td>\n",
       "      <td>...</td>\n",
       "    </tr>\n",
       "    <tr>\n",
       "      <th>44</th>\n",
       "      <td>2021-01-24</td>\n",
       "      <td>A</td>\n",
       "      <td>3811</td>\n",
       "      <td>3810</td>\n",
       "    </tr>\n",
       "    <tr>\n",
       "      <th>45</th>\n",
       "      <td>2021-01-24</td>\n",
       "      <td>B</td>\n",
       "      <td>3727</td>\n",
       "      <td>3727</td>\n",
       "    </tr>\n",
       "  </tbody>\n",
       "</table>\n",
       "<p>46 rows × 4 columns</p>\n",
       "</div>"
      ],
      "text/plain": [
       "         date group  users cnt  unique users cnt\n",
       "0  2021-01-02     A       2894              2894\n",
       "1  2021-01-02     B       2889              2889\n",
       "..        ...   ...        ...               ...\n",
       "44 2021-01-24     A       3811              3810\n",
       "45 2021-01-24     B       3727              3727\n",
       "\n",
       "[46 rows x 4 columns]"
      ]
     },
     "metadata": {},
     "output_type": "display_data"
    }
   ],
   "source": [
    "df_date_grouped=df.copy()\n",
    "df_date_grouped['user_id2']=df_date_grouped['user_id']  # дубликат колонки user_id\n",
    "df_date_grouped=df.groupby(['date','group'], axis=0, as_index=False)\n",
    "date_vs_users=df_date_grouped['user_id'].aggregate({'user_id':'count','user_id2':'nunique'}) \\\n",
    "    .rename(columns={'user_id':'users cnt', 'user_id2':'unique users cnt'})\n",
    "display(date_vs_users)"
   ]
  },
  {
   "cell_type": "code",
   "execution_count": 7,
   "metadata": {},
   "outputs": [
    {
     "data": {
      "image/png": "[encoded data removed]",
      "text/plain": [
       "<Figure size 1000x700 with 1 Axes>"
      ]
     },
     "metadata": {},
     "output_type": "display_data"
    }
   ],
   "source": [
    "plt.figure(figsize=(10,7))\n",
    "plt.plot(date_vs_users[date_vs_users['group']=='A']['date'], \\\n",
    "    date_vs_users[date_vs_users['group']=='A']['users cnt'], label='Group A')\n",
    "plt.plot(date_vs_users[date_vs_users['group']=='B']['date'], \\\n",
    "    date_vs_users[date_vs_users['group']=='B']['users cnt'], label='Group B')\n",
    "#plt.plot(date_vs_users[date_vs_users['group']=='A']['date'], \\\n",
    "    # date_vs_users[date_vs_users['group']=='A']['unique users cnt'], label='Group A')\n",
    "#plt.plot(date_vs_users[date_vs_users['group']=='B']['date'], \\\n",
    "    # date_vs_users[date_vs_users['group']=='B']['unique users cnt'], label='Group B')\n",
    "plt.title('Количество пользователей в группах А и В по дням') \n",
    "plt.xlabel('Дата') \n",
    "plt.ylabel('Количество пользователей') \n",
    "#plt.xticks(rotation = 45) \n",
    "plt.legend()\n",
    "plt.grid(True)\n",
    "plt.show()\n"
   ]
  },
  {
   "attachments": {},
   "cell_type": "markdown",
   "metadata": {},
   "source": [
    "ВЫВОД: За весь период тестирования не наблюдается дней, когды бы отсутствовали пользователи из какой-либо группы."
   ]
  },
  {
   "attachments": {},
   "cell_type": "markdown",
   "metadata": {},
   "source": [
    "**ВЫВОД**: данные по обеим группам представлены за одинаковый период."
   ]
  },
  {
   "attachments": {},
   "cell_type": "markdown",
   "metadata": {},
   "source": [
    "### Проверим корректность распределения участников теста\n",
    "Судя по диаграмме выше, участники достаточно равномерно распределены по двум группам.\n",
    "Для уверенности, определим это в числах, а также выясним нет ли попаданий одного и того же пользователя в обе группы."
   ]
  },
  {
   "attachments": {},
   "cell_type": "markdown",
   "metadata": {},
   "source": [
    "#### Проверка корректности количественного распределения пользователей по группам в целом за период"
   ]
  },
  {
   "cell_type": "code",
   "execution_count": 8,
   "metadata": {},
   "outputs": [
    {
     "name": "stdout",
     "output_type": "stream",
     "text": [
      "Общее количество визитов в группе А          :    147202\n",
      "Общее количество визитов в группе В          :    147276\n",
      "По количеству визитов группа А составляет    :    99.95 % от группы B\n",
      "По количеству визитов группа B составляет    :    100.05 % от группы A\n"
     ]
    }
   ],
   "source": [
    "a_users_cnt = date_vs_users[date_vs_users['group']=='A']['users cnt'].sum()\n",
    "print('Общее количество визитов в группе А          :   ', a_users_cnt)\n",
    "b_users_cnt = date_vs_users[date_vs_users['group']=='B']['users cnt'].sum()\n",
    "print('Общее количество визитов в группе В          :   ', b_users_cnt)\n",
    "print('По количеству визитов группа А составляет    :   ', \\\n",
    "    round(a_users_cnt / b_users_cnt * 100, 3), '%' ' от группы B')\n",
    "print('По количеству визитов группа B составляет    :   ', \\\n",
    "    round(b_users_cnt / a_users_cnt * 100, 3), '%' ' от группы A')"
   ]
  },
  {
   "attachments": {},
   "cell_type": "markdown",
   "metadata": {},
   "source": [
    "**ВЫВОД**: В целом распределение участников теста между группами корректно, разница составляет 0.5%."
   ]
  },
  {
   "attachments": {},
   "cell_type": "markdown",
   "metadata": {},
   "source": [
    "#### Убедимся что нет пересечения аудитории в группах - нет пользователей, попавших в обе группы."
   ]
  },
  {
   "cell_type": "code",
   "execution_count": 9,
   "metadata": {},
   "outputs": [
    {
     "name": "stdout",
     "output_type": "stream",
     "text": [
      "Исходная таблица:\n"
     ]
    },
    {
     "data": {
      "text/html": [
       "<div>\n",
       "<style scoped>\n",
       "    .dataframe tbody tr th:only-of-type {\n",
       "        vertical-align: middle;\n",
       "    }\n",
       "\n",
       "    .dataframe tbody tr th {\n",
       "        vertical-align: top;\n",
       "    }\n",
       "\n",
       "    .dataframe thead th {\n",
       "        text-align: right;\n",
       "    }\n",
       "</style>\n",
       "<table border=\"1\" class=\"dataframe\">\n",
       "  <thead>\n",
       "    <tr style=\"text-align: right;\">\n",
       "      <th></th>\n",
       "      <th>user_id</th>\n",
       "      <th>date</th>\n",
       "      <th>group</th>\n",
       "      <th>purchase</th>\n",
       "      <th>price</th>\n",
       "    </tr>\n",
       "  </thead>\n",
       "  <tbody>\n",
       "    <tr>\n",
       "      <th>0</th>\n",
       "      <td>851104</td>\n",
       "      <td>2021-01-21</td>\n",
       "      <td>A</td>\n",
       "      <td>0</td>\n",
       "      <td>0</td>\n",
       "    </tr>\n",
       "    <tr>\n",
       "      <th>1</th>\n",
       "      <td>804228</td>\n",
       "      <td>2021-01-12</td>\n",
       "      <td>A</td>\n",
       "      <td>0</td>\n",
       "      <td>0</td>\n",
       "    </tr>\n",
       "    <tr>\n",
       "      <th>...</th>\n",
       "      <td>...</td>\n",
       "      <td>...</td>\n",
       "      <td>...</td>\n",
       "      <td>...</td>\n",
       "      <td>...</td>\n",
       "    </tr>\n",
       "    <tr>\n",
       "      <th>294476</th>\n",
       "      <td>697314</td>\n",
       "      <td>2021-01-15</td>\n",
       "      <td>A</td>\n",
       "      <td>0</td>\n",
       "      <td>0</td>\n",
       "    </tr>\n",
       "    <tr>\n",
       "      <th>294477</th>\n",
       "      <td>715931</td>\n",
       "      <td>2021-01-16</td>\n",
       "      <td>B</td>\n",
       "      <td>0</td>\n",
       "      <td>0</td>\n",
       "    </tr>\n",
       "  </tbody>\n",
       "</table>\n",
       "<p>294478 rows × 5 columns</p>\n",
       "</div>"
      ],
      "text/plain": [
       "        user_id       date group  purchase  price\n",
       "0        851104 2021-01-21     A         0      0\n",
       "1        804228 2021-01-12     A         0      0\n",
       "...         ...        ...   ...       ...    ...\n",
       "294476   697314 2021-01-15     A         0      0\n",
       "294477   715931 2021-01-16     B         0      0\n",
       "\n",
       "[294478 rows x 5 columns]"
      ]
     },
     "metadata": {},
     "output_type": "display_data"
    },
    {
     "name": "stdout",
     "output_type": "stream",
     "text": [
      "Множество пользователей в группе А совпадает с множеством пользователей в группе B ?   -  False \n",
      "\n",
      "Количество пользователей в группе А              :    146195\n",
      "Количество пользователей в группе B              :    146284\n",
      "Количество пользователей, попавших в обе группы  :    1895\n",
      "Процент пользователей, попавших в обе группы,\n",
      "       от общего числа уникальных пользователей  :    0.65\n"
     ]
    }
   ],
   "source": [
    "pd.set_option('display.max_rows', 4)\n",
    "print('Исходная таблица:')\n",
    "display(df)\n",
    "users_a=set(df[df['group']=='A']['user_id'])    # множество пользователей в группе А\n",
    "users_b=set(df[df['group']=='B']['user_id'])    # множество пользователей в группе А\n",
    "print('Множество пользователей в группе А совпадает с множеством пользователей в группе B ?   - ' \\\n",
    "    , users_a==users_b, '\\n')\n",
    "users_ab=users_a.intersection(users_b)          # множество пользователей, попавших в обе группы\n",
    "#print('Множество пользователей, попавших в обе группы   :   ', users_ab)\n",
    "print('Количество пользователей в группе А              :   ', len(users_a))\n",
    "print('Количество пользователей в группе B              :   ', len(users_b))\n",
    "print('Количество пользователей, попавших в обе группы  :   ', len(users_ab))\n",
    "print('Процент пользователей, попавших в обе группы,\\n       от общего числа уникальных пользователей  :   ' \\\n",
    "    , round(len(users_ab) / (len(users_a) + len(users_b)) * 100, 2))"
   ]
  },
  {
   "attachments": {},
   "cell_type": "markdown",
   "metadata": {},
   "source": [
    "**ВЫВОД** 0.65% уникальных пользователей попало в обе группы. Поскольку процент незначительный, будем считать распределенеие пользователей по группам корректным и просто уберем таких пользователей из дальнейшего анализа."
   ]
  },
  {
   "attachments": {},
   "cell_type": "markdown",
   "metadata": {},
   "source": [
    "Создадим новую таблица-DataFrame, удалив пользователей, попавших в обе группы:"
   ]
  },
  {
   "cell_type": "code",
   "execution_count": 10,
   "metadata": {},
   "outputs": [
    {
     "name": "stdout",
     "output_type": "stream",
     "text": [
      "Таблица без пользователей, попавших в обе группы:\n"
     ]
    },
    {
     "data": {
      "text/html": [
       "<div>\n",
       "<style scoped>\n",
       "    .dataframe tbody tr th:only-of-type {\n",
       "        vertical-align: middle;\n",
       "    }\n",
       "\n",
       "    .dataframe tbody tr th {\n",
       "        vertical-align: top;\n",
       "    }\n",
       "\n",
       "    .dataframe thead th {\n",
       "        text-align: right;\n",
       "    }\n",
       "</style>\n",
       "<table border=\"1\" class=\"dataframe\">\n",
       "  <thead>\n",
       "    <tr style=\"text-align: right;\">\n",
       "      <th></th>\n",
       "      <th>user_id</th>\n",
       "      <th>date</th>\n",
       "      <th>group</th>\n",
       "      <th>purchase</th>\n",
       "      <th>price</th>\n",
       "    </tr>\n",
       "  </thead>\n",
       "  <tbody>\n",
       "    <tr>\n",
       "      <th>0</th>\n",
       "      <td>851104</td>\n",
       "      <td>2021-01-21</td>\n",
       "      <td>A</td>\n",
       "      <td>0</td>\n",
       "      <td>0</td>\n",
       "    </tr>\n",
       "    <tr>\n",
       "      <th>1</th>\n",
       "      <td>804228</td>\n",
       "      <td>2021-01-12</td>\n",
       "      <td>A</td>\n",
       "      <td>0</td>\n",
       "      <td>0</td>\n",
       "    </tr>\n",
       "    <tr>\n",
       "      <th>...</th>\n",
       "      <td>...</td>\n",
       "      <td>...</td>\n",
       "      <td>...</td>\n",
       "      <td>...</td>\n",
       "      <td>...</td>\n",
       "    </tr>\n",
       "    <tr>\n",
       "      <th>294476</th>\n",
       "      <td>697314</td>\n",
       "      <td>2021-01-15</td>\n",
       "      <td>A</td>\n",
       "      <td>0</td>\n",
       "      <td>0</td>\n",
       "    </tr>\n",
       "    <tr>\n",
       "      <th>294477</th>\n",
       "      <td>715931</td>\n",
       "      <td>2021-01-16</td>\n",
       "      <td>B</td>\n",
       "      <td>0</td>\n",
       "      <td>0</td>\n",
       "    </tr>\n",
       "  </tbody>\n",
       "</table>\n",
       "<p>290688 rows × 5 columns</p>\n",
       "</div>"
      ],
      "text/plain": [
       "        user_id       date group  purchase  price\n",
       "0        851104 2021-01-21     A         0      0\n",
       "1        804228 2021-01-12     A         0      0\n",
       "...         ...        ...   ...       ...    ...\n",
       "294476   697314 2021-01-15     A         0      0\n",
       "294477   715931 2021-01-16     B         0      0\n",
       "\n",
       "[290688 rows x 5 columns]"
      ]
     },
     "metadata": {},
     "output_type": "display_data"
    },
    {
     "name": "stdout",
     "output_type": "stream",
     "text": [
      "Количество уникальных пользователей в группе А   :    144300\n",
      "Количество уникальных пользователей в группе B   :    144389\n",
      "Количество пользователей в группе А              :    145307\n",
      "Количество пользователей в группе B              :    145381\n"
     ]
    }
   ],
   "source": [
    "df_cor=df[~df['user_id'].isin(users_ab)]   \n",
    "print('Таблица без пользователей, попавших в обе группы:')\n",
    "display(df_cor)\n",
    "print('Количество уникальных пользователей в группе А   :   ', df_cor[df_cor['group']=='A']['user_id'].nunique())\n",
    "print('Количество уникальных пользователей в группе B   :   ', df_cor[df_cor['group']=='B']['user_id'].nunique())\n",
    "print('Количество пользователей в группе А              :   ', df_cor[df_cor['group']=='A']['user_id'].shape[0]) \n",
    "print('Количество пользователей в группе B              :   ',df_cor[df_cor['group']=='B']['user_id'].shape[0]) "
   ]
  },
  {
   "attachments": {},
   "cell_type": "markdown",
   "metadata": {},
   "source": [
    "После удаления пользователей, попавших в обе группы, заново проверим корректность количественного распределения пользователей по группам:"
   ]
  },
  {
   "cell_type": "code",
   "execution_count": 11,
   "metadata": {},
   "outputs": [
    {
     "name": "stdout",
     "output_type": "stream",
     "text": [
      "Общее количество визитов в группе А        :    145307\n",
      "Общее количество визитов в группе B        :    145381\n",
      "По количеству визитов группа А составляет  :    99.949 % от группы B\n",
      "По количеству визитов группа B составляет  :    100.051 % от группы A\n"
     ]
    }
   ],
   "source": [
    "a_users_cnt_cor = df_cor[df_cor['group']=='A']['user_id'].shape[0]\n",
    "b_users_cnt_cor = df_cor[df_cor['group']=='B']['user_id'].shape[0]\n",
    "print('Общее количество визитов в группе А        :   ', a_users_cnt_cor)\n",
    "print('Общее количество визитов в группе B        :   ', b_users_cnt_cor)\n",
    "print('По количеству визитов группа А составляет  :   ', round(a_users_cnt_cor / b_users_cnt_cor * 100, 3) \\\n",
    "    , '%' ' от группы B')\n",
    "print('По количеству визитов группа B составляет  :   ', round(b_users_cnt_cor / a_users_cnt_cor * 100, 3) \\\n",
    "    , '%' ' от группы A')"
   ]
  },
  {
   "attachments": {},
   "cell_type": "markdown",
   "metadata": {},
   "source": [
    "**ВЫВОД**: Распределение участников теста между группами после удаления пользователей, попавших в обе группы, осталось корректным, разница составляет чуть более 0,5%."
   ]
  },
  {
   "cell_type": "markdown",
   "metadata": {},
   "source": [
    "### Результаты предварительного анализа данных  \n",
    "Проведенные проверки:  \n",
    "- Значения столбцов соответствуют заявленным вариантам.\n",
    "- Даты начала и завершения тестирования совпадают для групп А и В.\n",
    "- Данные по обеим группам представлены за одинаковый период:\n",
    "  - Даты начала и завершения тестирования совпадают для групп А и В.\n",
    "  - За весь период тестирования не наблюдается дней, когды бы отсутствовали пользователи из какой-либо группы.\n",
    "- Распределение участников теста между группами корректно, разница составляет около 0,5%.\n",
    "- Пересечение аудитории групп:\n",
    "  - 0,65% уникальных пользователей попало в обе группы. \n",
    "  - Принято решение исключить сессии таких пользователей из дальнейшего анализа.  \n",
    "  - Распределение участников теста между группами после исключения таких пользователей осталось корректным, разница составляет чуть более 0,5%.\n",
    "\n",
    "В целом данные, полученные в ходе проведенного теста можно считать корректными и подлежащими дальнейшему анализу."
   ]
  },
  {
   "attachments": {},
   "cell_type": "markdown",
   "metadata": {},
   "source": [
    "## Расчитаем конверсию и средний чек в группах"
   ]
  },
  {
   "cell_type": "code",
   "execution_count": 12,
   "metadata": {},
   "outputs": [
    {
     "name": "stdout",
     "output_type": "stream",
     "text": [
      "Показатели по группам - количество сессий, количество покупок, общая стоимость покупок:\n"
     ]
    },
    {
     "data": {
      "text/html": [
       "<div>\n",
       "<style scoped>\n",
       "    .dataframe tbody tr th:only-of-type {\n",
       "        vertical-align: middle;\n",
       "    }\n",
       "\n",
       "    .dataframe tbody tr th {\n",
       "        vertical-align: top;\n",
       "    }\n",
       "\n",
       "    .dataframe thead th {\n",
       "        text-align: right;\n",
       "    }\n",
       "</style>\n",
       "<table border=\"1\" class=\"dataframe\">\n",
       "  <thead>\n",
       "    <tr style=\"text-align: right;\">\n",
       "      <th></th>\n",
       "      <th>group</th>\n",
       "      <th>sessions_cnt</th>\n",
       "      <th>purchases_cnt</th>\n",
       "      <th>total_price</th>\n",
       "    </tr>\n",
       "  </thead>\n",
       "  <tbody>\n",
       "    <tr>\n",
       "      <th>0</th>\n",
       "      <td>A</td>\n",
       "      <td>145307</td>\n",
       "      <td>17487</td>\n",
       "      <td>1417780000</td>\n",
       "    </tr>\n",
       "    <tr>\n",
       "      <th>1</th>\n",
       "      <td>B</td>\n",
       "      <td>145381</td>\n",
       "      <td>17290</td>\n",
       "      <td>1533010000</td>\n",
       "    </tr>\n",
       "  </tbody>\n",
       "</table>\n",
       "</div>"
      ],
      "text/plain": [
       "  group  sessions_cnt  purchases_cnt  total_price\n",
       "0     A        145307          17487   1417780000\n",
       "1     B        145381          17290   1533010000"
      ]
     },
     "metadata": {},
     "output_type": "display_data"
    }
   ],
   "source": [
    "conv=df_cor.groupby('group',as_index=False).aggregate({'user_id':'count','purchase':'sum','price':'sum'}).rename(columns={'user_id':'sessions_cnt','purchase':'purchases_cnt','price':'total_price'})\n",
    "print('Показатели по группам - количество сессий, количество покупок, общая стоимость покупок:')\n",
    "display(conv)"
   ]
  },
  {
   "cell_type": "code",
   "execution_count": 13,
   "metadata": {},
   "outputs": [
    {
     "name": "stdout",
     "output_type": "stream",
     "text": [
      "Показатели по группам - количество сессий, количество покупок, общая стоимость покупок,\n",
      "конверсия и стоимость среднего чека:\n"
     ]
    },
    {
     "data": {
      "text/html": [
       "<div>\n",
       "<style scoped>\n",
       "    .dataframe tbody tr th:only-of-type {\n",
       "        vertical-align: middle;\n",
       "    }\n",
       "\n",
       "    .dataframe tbody tr th {\n",
       "        vertical-align: top;\n",
       "    }\n",
       "\n",
       "    .dataframe thead th {\n",
       "        text-align: right;\n",
       "    }\n",
       "</style>\n",
       "<table border=\"1\" class=\"dataframe\">\n",
       "  <thead>\n",
       "    <tr style=\"text-align: right;\">\n",
       "      <th></th>\n",
       "      <th>group</th>\n",
       "      <th>sessions_cnt</th>\n",
       "      <th>purchases_cnt</th>\n",
       "      <th>total_price</th>\n",
       "      <th>converse</th>\n",
       "      <th>price_avg</th>\n",
       "    </tr>\n",
       "  </thead>\n",
       "  <tbody>\n",
       "    <tr>\n",
       "      <th>0</th>\n",
       "      <td>A</td>\n",
       "      <td>145307</td>\n",
       "      <td>17487</td>\n",
       "      <td>1417780000</td>\n",
       "      <td>12.03</td>\n",
       "      <td>81076.23</td>\n",
       "    </tr>\n",
       "    <tr>\n",
       "      <th>1</th>\n",
       "      <td>B</td>\n",
       "      <td>145381</td>\n",
       "      <td>17290</td>\n",
       "      <td>1533010000</td>\n",
       "      <td>11.89</td>\n",
       "      <td>88664.55</td>\n",
       "    </tr>\n",
       "  </tbody>\n",
       "</table>\n",
       "</div>"
      ],
      "text/plain": [
       "  group  sessions_cnt  purchases_cnt  total_price  converse  price_avg\n",
       "0     A        145307          17487   1417780000     12.03   81076.23\n",
       "1     B        145381          17290   1533010000     11.89   88664.55"
      ]
     },
     "metadata": {},
     "output_type": "display_data"
    }
   ],
   "source": [
    "conv['converse'] = round(conv['purchases_cnt'] / conv['sessions_cnt'] * 100, 2)\n",
    "conv['price_avg'] = round(conv['total_price'] / conv['purchases_cnt'], 2)\n",
    "print('Показатели по группам - количество сессий, количество покупок, общая стоимость покупок,\\nконверсия и стоимость среднего чека:')\n",
    "display(conv)"
   ]
  },
  {
   "attachments": {},
   "cell_type": "markdown",
   "metadata": {},
   "source": [
    "## Посмотрим на распределение стоимости купленных туров в группах.\n",
    "Помним, что существует 5 вариантов стоимости тура - 10000, 60000, 100000, 150000 и 200000 рублей."
   ]
  },
  {
   "cell_type": "code",
   "execution_count": 14,
   "metadata": {},
   "outputs": [
    {
     "name": "stdout",
     "output_type": "stream",
     "text": [
      "Распределение стоимости купленных туров в группе А:\n"
     ]
    },
    {
     "data": {
      "text/plain": [
       "<AxesSubplot: >"
      ]
     },
     "execution_count": 14,
     "metadata": {},
     "output_type": "execute_result"
    },
    {
     "data": {
      "image/png": "[encoded data removed]",
      "text/plain": [
       "<Figure size 640x480 with 1 Axes>"
      ]
     },
     "metadata": {},
     "output_type": "display_data"
    }
   ],
   "source": [
    "print('Распределение стоимости купленных туров в группе А:')\n",
    "df_cor[df_cor['group'] == 'A']['price'].hist(bins=20, align='mid')"
   ]
  },
  {
   "cell_type": "code",
   "execution_count": 15,
   "metadata": {},
   "outputs": [
    {
     "name": "stdout",
     "output_type": "stream",
     "text": [
      "Распределение стоимости купленных туров чеков в группе B:\n"
     ]
    },
    {
     "data": {
      "text/plain": [
       "<AxesSubplot: >"
      ]
     },
     "execution_count": 15,
     "metadata": {},
     "output_type": "execute_result"
    },
    {
     "data": {
      "image/png": "[encoded data removed]",
      "text/plain": [
       "<Figure size 640x480 with 1 Axes>"
      ]
     },
     "metadata": {},
     "output_type": "display_data"
    }
   ],
   "source": [
    "print('Распределение стоимости купленных туров чеков в группе B:')\n",
    "df_cor[df_cor['group'] == 'B']['price'].hist(bins=20, align='mid')"
   ]
  },
  {
   "cell_type": "code",
   "execution_count": 16,
   "metadata": {},
   "outputs": [
    {
     "name": "stdout",
     "output_type": "stream",
     "text": [
      "Распределение стоимости купленных туров чеков в группе A (количество):\n"
     ]
    },
    {
     "data": {
      "text/plain": [
       "0         127820\n",
       "60000       5271\n",
       "10000       5182\n",
       "150000      3478\n",
       "100000      1832\n",
       "200000      1724\n",
       "Name: price, dtype: int64"
      ]
     },
     "metadata": {},
     "output_type": "display_data"
    },
    {
     "name": "stdout",
     "output_type": "stream",
     "text": [
      "Распределение стоимости купленных туров чеков в группе B (количество):\n"
     ]
    },
    {
     "data": {
      "text/plain": [
       "0         128091\n",
       "100000      5227\n",
       "10000       5201\n",
       "150000      3438\n",
       "60000       1730\n",
       "200000      1694\n",
       "Name: price, dtype: int64"
      ]
     },
     "metadata": {},
     "output_type": "display_data"
    },
    {
     "name": "stdout",
     "output_type": "stream",
     "text": [
      "Распределение стоимости купленных туров чеков в группе A (%):\n"
     ]
    },
    {
     "data": {
      "text/plain": [
       "0         0.879655\n",
       "60000     0.036275\n",
       "10000     0.035662\n",
       "150000    0.023936\n",
       "100000    0.012608\n",
       "200000    0.011865\n",
       "Name: price, dtype: float64"
      ]
     },
     "metadata": {},
     "output_type": "display_data"
    },
    {
     "name": "stdout",
     "output_type": "stream",
     "text": [
      "Распределение стоимости купленных туров чеков в группе B (%):\n"
     ]
    },
    {
     "data": {
      "text/plain": [
       "0         0.881071\n",
       "100000    0.035954\n",
       "10000     0.035775\n",
       "150000    0.023648\n",
       "60000     0.011900\n",
       "200000    0.011652\n",
       "Name: price, dtype: float64"
      ]
     },
     "metadata": {},
     "output_type": "display_data"
    }
   ],
   "source": [
    "pd.set_option('display.max_rows', 10)\n",
    "print('Распределение стоимости купленных туров чеков в группе A (количество):') \n",
    "display(df_cor[df_cor['group'] == 'A']['price'].value_counts())\n",
    "print('Распределение стоимости купленных туров чеков в группе B (количество):')\n",
    "display(df_cor[df_cor['group'] == 'B']['price'].value_counts())\n",
    "print('Распределение стоимости купленных туров чеков в группе A (%):')\n",
    "display(df_cor[df_cor['group'] == 'A']['price'].value_counts(normalize=True))\n",
    "print('Распределение стоимости купленных туров чеков в группе B (%):')\n",
    "display(df_cor[df_cor['group'] == 'B']['price'].value_counts(normalize=True))"
   ]
  },
  {
   "attachments": {},
   "cell_type": "markdown",
   "metadata": {},
   "source": [
    "Посмотрим более детально на диаграммы распределения стоимости купленных туров без учета визитов, не закончившихся покупкой:"
   ]
  },
  {
   "cell_type": "code",
   "execution_count": 17,
   "metadata": {},
   "outputs": [
    {
     "name": "stdout",
     "output_type": "stream",
     "text": [
      "Распределение стоимости купленных туров в группе А (без учета визитов, не приведших к покупке):\n"
     ]
    },
    {
     "data": {
      "text/plain": [
       "<AxesSubplot: >"
      ]
     },
     "execution_count": 17,
     "metadata": {},
     "output_type": "execute_result"
    },
    {
     "data": {
      "image/png": "[encoded data removed]",
      "text/plain": [
       "<Figure size 640x480 with 1 Axes>"
      ]
     },
     "metadata": {},
     "output_type": "display_data"
    }
   ],
   "source": [
    "print('Распределение стоимости купленных туров в группе А (без учета визитов, не приведших к покупке):')\n",
    "df_cor[df_cor['group'] == 'A']['price'].hist(bins=20, align='mid', range=(1,200000))"
   ]
  },
  {
   "cell_type": "code",
   "execution_count": 18,
   "metadata": {},
   "outputs": [
    {
     "name": "stdout",
     "output_type": "stream",
     "text": [
      "Распределение стоимости купленных туров в группе B (без учета визитов, не приведших к покупке):\n"
     ]
    },
    {
     "data": {
      "text/plain": [
       "<AxesSubplot: >"
      ]
     },
     "execution_count": 18,
     "metadata": {},
     "output_type": "execute_result"
    },
    {
     "data": {
      "image/png": "[encoded data removed]",
      "text/plain": [
       "<Figure size 640x480 with 1 Axes>"
      ]
     },
     "metadata": {},
     "output_type": "display_data"
    }
   ],
   "source": [
    "print('Распределение стоимости купленных туров в группе B (без учета визитов, не приведших к покупке):')\n",
    "df_cor[df_cor['group'] == 'B']['price'].hist(bins=20, align='mid', range=(1,200000))"
   ]
  },
  {
   "cell_type": "code",
   "execution_count": 19,
   "metadata": {},
   "outputs": [
    {
     "name": "stdout",
     "output_type": "stream",
     "text": [
      "Распределение стоимости купленных туров в группах:\n"
     ]
    },
    {
     "data": {
      "text/html": [
       "<div>\n",
       "<style scoped>\n",
       "    .dataframe tbody tr th:only-of-type {\n",
       "        vertical-align: middle;\n",
       "    }\n",
       "\n",
       "    .dataframe tbody tr th {\n",
       "        vertical-align: top;\n",
       "    }\n",
       "\n",
       "    .dataframe thead th {\n",
       "        text-align: right;\n",
       "    }\n",
       "</style>\n",
       "<table border=\"1\" class=\"dataframe\">\n",
       "  <thead>\n",
       "    <tr style=\"text-align: right;\">\n",
       "      <th></th>\n",
       "      <th>price</th>\n",
       "      <th>%_in_group_A</th>\n",
       "      <th>%_in_group_B</th>\n",
       "    </tr>\n",
       "  </thead>\n",
       "  <tbody>\n",
       "    <tr>\n",
       "      <th>0</th>\n",
       "      <td>0</td>\n",
       "      <td>0.880</td>\n",
       "      <td>0.881</td>\n",
       "    </tr>\n",
       "    <tr>\n",
       "      <th>1</th>\n",
       "      <td>10000</td>\n",
       "      <td>0.036</td>\n",
       "      <td>0.036</td>\n",
       "    </tr>\n",
       "    <tr>\n",
       "      <th>2</th>\n",
       "      <td>60000</td>\n",
       "      <td>0.036</td>\n",
       "      <td>0.012</td>\n",
       "    </tr>\n",
       "    <tr>\n",
       "      <th>3</th>\n",
       "      <td>100000</td>\n",
       "      <td>0.013</td>\n",
       "      <td>0.036</td>\n",
       "    </tr>\n",
       "    <tr>\n",
       "      <th>4</th>\n",
       "      <td>150000</td>\n",
       "      <td>0.024</td>\n",
       "      <td>0.024</td>\n",
       "    </tr>\n",
       "    <tr>\n",
       "      <th>5</th>\n",
       "      <td>200000</td>\n",
       "      <td>0.012</td>\n",
       "      <td>0.012</td>\n",
       "    </tr>\n",
       "  </tbody>\n",
       "</table>\n",
       "</div>"
      ],
      "text/plain": [
       "    price  %_in_group_A  %_in_group_B\n",
       "0       0         0.880         0.881\n",
       "1   10000         0.036         0.036\n",
       "2   60000         0.036         0.012\n",
       "3  100000         0.013         0.036\n",
       "4  150000         0.024         0.024\n",
       "5  200000         0.012         0.012"
      ]
     },
     "metadata": {},
     "output_type": "display_data"
    }
   ],
   "source": [
    "hist_df = pd.DataFrame(df_cor[df_cor['group'] == 'A']['price'].value_counts(normalize=True))\n",
    "hist_df = hist_df.join(pd.DataFrame(df_cor[df_cor['group'] == 'B']['price'].value_counts(normalize=True)), \\\n",
    "    lsuffix='_A', rsuffix='_B')\n",
    "hist_df.sort_index(inplace=True)\n",
    "hist_df.reset_index(inplace=True)\n",
    "hist_df.rename(columns={'index':'price', 'price_A':'%_in_group_A', 'price_B':'%_in_group_B'}, inplace=True)\n",
    "hist_df['%_in_group_A'] = hist_df['%_in_group_A'].apply(lambda x : round(x,3))\n",
    "hist_df['%_in_group_B'] = hist_df['%_in_group_B'].apply(lambda x : round(x,3))\n",
    "print('Распределение стоимости купленных туров в группах:')\n",
    "display(hist_df)"
   ]
  },
  {
   "attachments": {},
   "cell_type": "markdown",
   "metadata": {},
   "source": [
    "**ВЫВОД:** Распределения стоимости купленных туров в группах А и В очень похожи. Единственное существенное отличие - в группе А туры за 60000 рублей предпочитают турам за 100000 рублей, а в группе В - зеркально наоборот. В остальном распределение покупок по стоимости в группах совпадает вплоть до 100-ой доли процента. "
   ]
  },
  {
   "attachments": {},
   "cell_type": "markdown",
   "metadata": {},
   "source": [
    "## Рассчитаем кумулятивные метрики в группах"
   ]
  },
  {
   "cell_type": "code",
   "execution_count": 20,
   "metadata": {},
   "outputs": [
    {
     "name": "stdout",
     "output_type": "stream",
     "text": [
      "Таблица без пользователей, попавших в обе группы:\n"
     ]
    },
    {
     "data": {
      "text/html": [
       "<div>\n",
       "<style scoped>\n",
       "    .dataframe tbody tr th:only-of-type {\n",
       "        vertical-align: middle;\n",
       "    }\n",
       "\n",
       "    .dataframe tbody tr th {\n",
       "        vertical-align: top;\n",
       "    }\n",
       "\n",
       "    .dataframe thead th {\n",
       "        text-align: right;\n",
       "    }\n",
       "</style>\n",
       "<table border=\"1\" class=\"dataframe\">\n",
       "  <thead>\n",
       "    <tr style=\"text-align: right;\">\n",
       "      <th></th>\n",
       "      <th>user_id</th>\n",
       "      <th>date</th>\n",
       "      <th>group</th>\n",
       "      <th>purchase</th>\n",
       "      <th>price</th>\n",
       "    </tr>\n",
       "  </thead>\n",
       "  <tbody>\n",
       "    <tr>\n",
       "      <th>0</th>\n",
       "      <td>851104</td>\n",
       "      <td>2021-01-21</td>\n",
       "      <td>A</td>\n",
       "      <td>0</td>\n",
       "      <td>0</td>\n",
       "    </tr>\n",
       "    <tr>\n",
       "      <th>1</th>\n",
       "      <td>804228</td>\n",
       "      <td>2021-01-12</td>\n",
       "      <td>A</td>\n",
       "      <td>0</td>\n",
       "      <td>0</td>\n",
       "    </tr>\n",
       "    <tr>\n",
       "      <th>...</th>\n",
       "      <td>...</td>\n",
       "      <td>...</td>\n",
       "      <td>...</td>\n",
       "      <td>...</td>\n",
       "      <td>...</td>\n",
       "    </tr>\n",
       "    <tr>\n",
       "      <th>294476</th>\n",
       "      <td>697314</td>\n",
       "      <td>2021-01-15</td>\n",
       "      <td>A</td>\n",
       "      <td>0</td>\n",
       "      <td>0</td>\n",
       "    </tr>\n",
       "    <tr>\n",
       "      <th>294477</th>\n",
       "      <td>715931</td>\n",
       "      <td>2021-01-16</td>\n",
       "      <td>B</td>\n",
       "      <td>0</td>\n",
       "      <td>0</td>\n",
       "    </tr>\n",
       "  </tbody>\n",
       "</table>\n",
       "<p>290688 rows × 5 columns</p>\n",
       "</div>"
      ],
      "text/plain": [
       "        user_id       date group  purchase  price\n",
       "0        851104 2021-01-21     A         0      0\n",
       "1        804228 2021-01-12     A         0      0\n",
       "...         ...        ...   ...       ...    ...\n",
       "294476   697314 2021-01-15     A         0      0\n",
       "294477   715931 2021-01-16     B         0      0\n",
       "\n",
       "[290688 rows x 5 columns]"
      ]
     },
     "metadata": {},
     "output_type": "display_data"
    }
   ],
   "source": [
    "pd.set_option('display.max_rows', 4)\n",
    "print('Таблица без пользователей, попавших в обе группы:')\n",
    "display(df_cor)"
   ]
  },
  {
   "cell_type": "code",
   "execution_count": 21,
   "metadata": {},
   "outputs": [
    {
     "name": "stdout",
     "output_type": "stream",
     "text": [
      "Таблица с кумулятивными метриками (накопленным итогом)\n",
      " - числом сессий, покупок, суммарной стоимостью покупок:\n"
     ]
    },
    {
     "data": {
      "text/html": [
       "<div>\n",
       "<style scoped>\n",
       "    .dataframe tbody tr th:only-of-type {\n",
       "        vertical-align: middle;\n",
       "    }\n",
       "\n",
       "    .dataframe tbody tr th {\n",
       "        vertical-align: top;\n",
       "    }\n",
       "\n",
       "    .dataframe thead th {\n",
       "        text-align: right;\n",
       "    }\n",
       "</style>\n",
       "<table border=\"1\" class=\"dataframe\">\n",
       "  <thead>\n",
       "    <tr style=\"text-align: right;\">\n",
       "      <th></th>\n",
       "      <th>group</th>\n",
       "      <th>date</th>\n",
       "      <th>user_sessions_cnt</th>\n",
       "      <th>purchases_cnt</th>\n",
       "      <th>price_total</th>\n",
       "    </tr>\n",
       "  </thead>\n",
       "  <tbody>\n",
       "    <tr>\n",
       "      <th>0</th>\n",
       "      <td>A</td>\n",
       "      <td>2021-01-02</td>\n",
       "      <td>2854</td>\n",
       "      <td>359</td>\n",
       "      <td>29410000</td>\n",
       "    </tr>\n",
       "    <tr>\n",
       "      <th>1</th>\n",
       "      <td>B</td>\n",
       "      <td>2021-01-02</td>\n",
       "      <td>2861</td>\n",
       "      <td>345</td>\n",
       "      <td>29660000</td>\n",
       "    </tr>\n",
       "    <tr>\n",
       "      <th>...</th>\n",
       "      <td>...</td>\n",
       "      <td>...</td>\n",
       "      <td>...</td>\n",
       "      <td>...</td>\n",
       "      <td>...</td>\n",
       "    </tr>\n",
       "    <tr>\n",
       "      <th>44</th>\n",
       "      <td>A</td>\n",
       "      <td>2021-01-24</td>\n",
       "      <td>145307</td>\n",
       "      <td>17487</td>\n",
       "      <td>1417780000</td>\n",
       "    </tr>\n",
       "    <tr>\n",
       "      <th>45</th>\n",
       "      <td>B</td>\n",
       "      <td>2021-01-24</td>\n",
       "      <td>145381</td>\n",
       "      <td>17290</td>\n",
       "      <td>1533010000</td>\n",
       "    </tr>\n",
       "  </tbody>\n",
       "</table>\n",
       "<p>46 rows × 5 columns</p>\n",
       "</div>"
      ],
      "text/plain": [
       "   group       date  user_sessions_cnt  purchases_cnt  price_total\n",
       "0      A 2021-01-02               2854            359     29410000\n",
       "1      B 2021-01-02               2861            345     29660000\n",
       "..   ...        ...                ...            ...          ...\n",
       "44     A 2021-01-24             145307          17487   1417780000\n",
       "45     B 2021-01-24             145381          17290   1533010000\n",
       "\n",
       "[46 rows x 5 columns]"
      ]
     },
     "metadata": {},
     "output_type": "display_data"
    }
   ],
   "source": [
    "def cummulative_table(data): # В переменную data будем передавать название переменной датафейма\n",
    "    df_cumm = [] # Создаём пустой список\n",
    "    for i in data['date'].unique(): # Запускаем цикл по каждому отдельному значению даты\n",
    "        out = data[data['date'] <= i].groupby('group') \\\n",
    "               .agg({'date':'max', 'user_id':'count', 'purchase':'sum', 'price':'sum'})\n",
    "        df_cumm.append(out) # Полученный срез добавляем в созданный ранее список\n",
    "    return pd.concat(df_cumm).reset_index() # Объединяем списки и возвращаем результат\n",
    "\n",
    "cumm=cummulative_table(df_cor)\n",
    "cumm.rename(columns=({'user_id':'user_sessions_cnt','purchase':'purchases_cnt','price':'price_total'}),inplace=True)\n",
    "#display(cumm)\n",
    "#display(cumm['user_sessions_cnt'].max())\n",
    "cumm.sort_values(by=['date','group'],  ignore_index=True, inplace= True)   \n",
    "print('Таблица с кумулятивными метриками (накопленным итогом)\\n - числом сессий, покупок, суммарной стоимостью покупок:')\n",
    "display(cumm)"
   ]
  },
  {
   "cell_type": "code",
   "execution_count": 22,
   "metadata": {},
   "outputs": [
    {
     "name": "stdout",
     "output_type": "stream",
     "text": [
      "Таблица с кумулятивными метриками (накопленным итогом)\n",
      " - числом сессий, покупок, суммарной стоимостью покупок, средним чеком и конверсией:\n"
     ]
    },
    {
     "data": {
      "text/html": [
       "<div>\n",
       "<style scoped>\n",
       "    .dataframe tbody tr th:only-of-type {\n",
       "        vertical-align: middle;\n",
       "    }\n",
       "\n",
       "    .dataframe tbody tr th {\n",
       "        vertical-align: top;\n",
       "    }\n",
       "\n",
       "    .dataframe thead th {\n",
       "        text-align: right;\n",
       "    }\n",
       "</style>\n",
       "<table border=\"1\" class=\"dataframe\">\n",
       "  <thead>\n",
       "    <tr style=\"text-align: right;\">\n",
       "      <th></th>\n",
       "      <th>group</th>\n",
       "      <th>date</th>\n",
       "      <th>user_sessions_cnt</th>\n",
       "      <th>purchases_cnt</th>\n",
       "      <th>price_total</th>\n",
       "      <th>avg_price</th>\n",
       "      <th>conversion, %</th>\n",
       "    </tr>\n",
       "  </thead>\n",
       "  <tbody>\n",
       "    <tr>\n",
       "      <th>0</th>\n",
       "      <td>A</td>\n",
       "      <td>2021-01-02</td>\n",
       "      <td>2854</td>\n",
       "      <td>359</td>\n",
       "      <td>29410000</td>\n",
       "      <td>81922.005571</td>\n",
       "      <td>12.58</td>\n",
       "    </tr>\n",
       "    <tr>\n",
       "      <th>1</th>\n",
       "      <td>B</td>\n",
       "      <td>2021-01-02</td>\n",
       "      <td>2861</td>\n",
       "      <td>345</td>\n",
       "      <td>29660000</td>\n",
       "      <td>85971.014493</td>\n",
       "      <td>12.06</td>\n",
       "    </tr>\n",
       "    <tr>\n",
       "      <th>2</th>\n",
       "      <td>A</td>\n",
       "      <td>2021-01-03</td>\n",
       "      <td>9450</td>\n",
       "      <td>1107</td>\n",
       "      <td>91410000</td>\n",
       "      <td>82574.525745</td>\n",
       "      <td>11.71</td>\n",
       "    </tr>\n",
       "    <tr>\n",
       "      <th>3</th>\n",
       "      <td>B</td>\n",
       "      <td>2021-01-03</td>\n",
       "      <td>9480</td>\n",
       "      <td>1099</td>\n",
       "      <td>95620000</td>\n",
       "      <td>87006.369427</td>\n",
       "      <td>11.59</td>\n",
       "    </tr>\n",
       "    <tr>\n",
       "      <th>4</th>\n",
       "      <td>A</td>\n",
       "      <td>2021-01-04</td>\n",
       "      <td>16016</td>\n",
       "      <td>1906</td>\n",
       "      <td>155660000</td>\n",
       "      <td>81668.415530</td>\n",
       "      <td>11.90</td>\n",
       "    </tr>\n",
       "    <tr>\n",
       "      <th>5</th>\n",
       "      <td>B</td>\n",
       "      <td>2021-01-04</td>\n",
       "      <td>16016</td>\n",
       "      <td>1863</td>\n",
       "      <td>163650000</td>\n",
       "      <td>87842.190016</td>\n",
       "      <td>11.63</td>\n",
       "    </tr>\n",
       "    <tr>\n",
       "      <th>6</th>\n",
       "      <td>A</td>\n",
       "      <td>2021-01-05</td>\n",
       "      <td>22449</td>\n",
       "      <td>2696</td>\n",
       "      <td>220210000</td>\n",
       "      <td>81680.267062</td>\n",
       "      <td>12.01</td>\n",
       "    </tr>\n",
       "    <tr>\n",
       "      <th>7</th>\n",
       "      <td>B</td>\n",
       "      <td>2021-01-05</td>\n",
       "      <td>22527</td>\n",
       "      <td>2612</td>\n",
       "      <td>227200000</td>\n",
       "      <td>86983.154671</td>\n",
       "      <td>11.59</td>\n",
       "    </tr>\n",
       "    <tr>\n",
       "      <th>8</th>\n",
       "      <td>A</td>\n",
       "      <td>2021-01-06</td>\n",
       "      <td>29055</td>\n",
       "      <td>3460</td>\n",
       "      <td>283620000</td>\n",
       "      <td>81971.098266</td>\n",
       "      <td>11.91</td>\n",
       "    </tr>\n",
       "    <tr>\n",
       "      <th>9</th>\n",
       "      <td>B</td>\n",
       "      <td>2021-01-06</td>\n",
       "      <td>29278</td>\n",
       "      <td>3450</td>\n",
       "      <td>302220000</td>\n",
       "      <td>87600.000000</td>\n",
       "      <td>11.78</td>\n",
       "    </tr>\n",
       "    <tr>\n",
       "      <th>10</th>\n",
       "      <td>A</td>\n",
       "      <td>2021-01-07</td>\n",
       "      <td>35634</td>\n",
       "      <td>4255</td>\n",
       "      <td>350910000</td>\n",
       "      <td>82470.035253</td>\n",
       "      <td>11.94</td>\n",
       "    </tr>\n",
       "    <tr>\n",
       "      <th>11</th>\n",
       "      <td>B</td>\n",
       "      <td>2021-01-07</td>\n",
       "      <td>35894</td>\n",
       "      <td>4217</td>\n",
       "      <td>369390000</td>\n",
       "      <td>87595.447000</td>\n",
       "      <td>11.75</td>\n",
       "    </tr>\n",
       "    <tr>\n",
       "      <th>12</th>\n",
       "      <td>A</td>\n",
       "      <td>2021-01-08</td>\n",
       "      <td>42321</td>\n",
       "      <td>5053</td>\n",
       "      <td>416290000</td>\n",
       "      <td>82384.721947</td>\n",
       "      <td>11.94</td>\n",
       "    </tr>\n",
       "    <tr>\n",
       "      <th>13</th>\n",
       "      <td>B</td>\n",
       "      <td>2021-01-08</td>\n",
       "      <td>42608</td>\n",
       "      <td>5029</td>\n",
       "      <td>440660000</td>\n",
       "      <td>87623.782064</td>\n",
       "      <td>11.80</td>\n",
       "    </tr>\n",
       "    <tr>\n",
       "      <th>14</th>\n",
       "      <td>A</td>\n",
       "      <td>2021-01-09</td>\n",
       "      <td>48954</td>\n",
       "      <td>5847</td>\n",
       "      <td>481900000</td>\n",
       "      <td>82418.334188</td>\n",
       "      <td>11.94</td>\n",
       "    </tr>\n",
       "    <tr>\n",
       "      <th>15</th>\n",
       "      <td>B</td>\n",
       "      <td>2021-01-09</td>\n",
       "      <td>49236</td>\n",
       "      <td>5813</td>\n",
       "      <td>512070000</td>\n",
       "      <td>88090.486840</td>\n",
       "      <td>11.81</td>\n",
       "    </tr>\n",
       "    <tr>\n",
       "      <th>16</th>\n",
       "      <td>A</td>\n",
       "      <td>2021-01-10</td>\n",
       "      <td>55613</td>\n",
       "      <td>6606</td>\n",
       "      <td>540850000</td>\n",
       "      <td>81872.540115</td>\n",
       "      <td>11.88</td>\n",
       "    </tr>\n",
       "    <tr>\n",
       "      <th>17</th>\n",
       "      <td>B</td>\n",
       "      <td>2021-01-10</td>\n",
       "      <td>55937</td>\n",
       "      <td>6659</td>\n",
       "      <td>590150000</td>\n",
       "      <td>88624.418081</td>\n",
       "      <td>11.90</td>\n",
       "    </tr>\n",
       "    <tr>\n",
       "      <th>18</th>\n",
       "      <td>A</td>\n",
       "      <td>2021-01-11</td>\n",
       "      <td>62312</td>\n",
       "      <td>7403</td>\n",
       "      <td>599610000</td>\n",
       "      <td>80995.542348</td>\n",
       "      <td>11.88</td>\n",
       "    </tr>\n",
       "    <tr>\n",
       "      <th>19</th>\n",
       "      <td>B</td>\n",
       "      <td>2021-01-11</td>\n",
       "      <td>62616</td>\n",
       "      <td>7429</td>\n",
       "      <td>657110000</td>\n",
       "      <td>88452.012384</td>\n",
       "      <td>11.86</td>\n",
       "    </tr>\n",
       "    <tr>\n",
       "      <th>20</th>\n",
       "      <td>A</td>\n",
       "      <td>2021-01-12</td>\n",
       "      <td>68852</td>\n",
       "      <td>8198</td>\n",
       "      <td>668070000</td>\n",
       "      <td>81491.827275</td>\n",
       "      <td>11.91</td>\n",
       "    </tr>\n",
       "    <tr>\n",
       "      <th>21</th>\n",
       "      <td>B</td>\n",
       "      <td>2021-01-12</td>\n",
       "      <td>69251</td>\n",
       "      <td>8236</td>\n",
       "      <td>727670000</td>\n",
       "      <td>88352.355512</td>\n",
       "      <td>11.89</td>\n",
       "    </tr>\n",
       "    <tr>\n",
       "      <th>22</th>\n",
       "      <td>A</td>\n",
       "      <td>2021-01-13</td>\n",
       "      <td>75416</td>\n",
       "      <td>8962</td>\n",
       "      <td>731660000</td>\n",
       "      <td>81640.258871</td>\n",
       "      <td>11.88</td>\n",
       "    </tr>\n",
       "    <tr>\n",
       "      <th>23</th>\n",
       "      <td>B</td>\n",
       "      <td>2021-01-13</td>\n",
       "      <td>75746</td>\n",
       "      <td>8956</td>\n",
       "      <td>793580000</td>\n",
       "      <td>88608.753908</td>\n",
       "      <td>11.82</td>\n",
       "    </tr>\n",
       "    <tr>\n",
       "      <th>24</th>\n",
       "      <td>A</td>\n",
       "      <td>2021-01-14</td>\n",
       "      <td>81959</td>\n",
       "      <td>9787</td>\n",
       "      <td>797550000</td>\n",
       "      <td>81490.753040</td>\n",
       "      <td>11.94</td>\n",
       "    </tr>\n",
       "    <tr>\n",
       "      <th>25</th>\n",
       "      <td>B</td>\n",
       "      <td>2021-01-14</td>\n",
       "      <td>82354</td>\n",
       "      <td>9748</td>\n",
       "      <td>862570000</td>\n",
       "      <td>88486.869101</td>\n",
       "      <td>11.84</td>\n",
       "    </tr>\n",
       "    <tr>\n",
       "      <th>26</th>\n",
       "      <td>A</td>\n",
       "      <td>2021-01-15</td>\n",
       "      <td>88660</td>\n",
       "      <td>10593</td>\n",
       "      <td>865120000</td>\n",
       "      <td>81669.026716</td>\n",
       "      <td>11.95</td>\n",
       "    </tr>\n",
       "    <tr>\n",
       "      <th>27</th>\n",
       "      <td>B</td>\n",
       "      <td>2021-01-15</td>\n",
       "      <td>88917</td>\n",
       "      <td>10495</td>\n",
       "      <td>931730000</td>\n",
       "      <td>88778.465936</td>\n",
       "      <td>11.80</td>\n",
       "    </tr>\n",
       "    <tr>\n",
       "      <th>28</th>\n",
       "      <td>A</td>\n",
       "      <td>2021-01-16</td>\n",
       "      <td>95261</td>\n",
       "      <td>11401</td>\n",
       "      <td>931330000</td>\n",
       "      <td>81688.448382</td>\n",
       "      <td>11.97</td>\n",
       "    </tr>\n",
       "    <tr>\n",
       "      <th>29</th>\n",
       "      <td>B</td>\n",
       "      <td>2021-01-16</td>\n",
       "      <td>95461</td>\n",
       "      <td>11281</td>\n",
       "      <td>1002290000</td>\n",
       "      <td>88847.619892</td>\n",
       "      <td>11.82</td>\n",
       "    </tr>\n",
       "    <tr>\n",
       "      <th>30</th>\n",
       "      <td>A</td>\n",
       "      <td>2021-01-17</td>\n",
       "      <td>101880</td>\n",
       "      <td>12210</td>\n",
       "      <td>994350000</td>\n",
       "      <td>81437.346437</td>\n",
       "      <td>11.98</td>\n",
       "    </tr>\n",
       "    <tr>\n",
       "      <th>31</th>\n",
       "      <td>B</td>\n",
       "      <td>2021-01-17</td>\n",
       "      <td>102007</td>\n",
       "      <td>12112</td>\n",
       "      <td>1077590000</td>\n",
       "      <td>88968.791281</td>\n",
       "      <td>11.87</td>\n",
       "    </tr>\n",
       "    <tr>\n",
       "      <th>32</th>\n",
       "      <td>A</td>\n",
       "      <td>2021-01-18</td>\n",
       "      <td>108391</td>\n",
       "      <td>13022</td>\n",
       "      <td>1057200000</td>\n",
       "      <td>81185.685763</td>\n",
       "      <td>12.01</td>\n",
       "    </tr>\n",
       "    <tr>\n",
       "      <th>33</th>\n",
       "      <td>B</td>\n",
       "      <td>2021-01-18</td>\n",
       "      <td>108610</td>\n",
       "      <td>12934</td>\n",
       "      <td>1149830000</td>\n",
       "      <td>88899.798979</td>\n",
       "      <td>11.91</td>\n",
       "    </tr>\n",
       "    <tr>\n",
       "      <th>34</th>\n",
       "      <td>A</td>\n",
       "      <td>2021-01-19</td>\n",
       "      <td>114973</td>\n",
       "      <td>13812</td>\n",
       "      <td>1120880000</td>\n",
       "      <td>81152.620909</td>\n",
       "      <td>12.01</td>\n",
       "    </tr>\n",
       "    <tr>\n",
       "      <th>35</th>\n",
       "      <td>B</td>\n",
       "      <td>2021-01-19</td>\n",
       "      <td>115172</td>\n",
       "      <td>13706</td>\n",
       "      <td>1217650000</td>\n",
       "      <td>88840.653728</td>\n",
       "      <td>11.90</td>\n",
       "    </tr>\n",
       "    <tr>\n",
       "      <th>36</th>\n",
       "      <td>A</td>\n",
       "      <td>2021-01-20</td>\n",
       "      <td>121506</td>\n",
       "      <td>14561</td>\n",
       "      <td>1179590000</td>\n",
       "      <td>81010.232814</td>\n",
       "      <td>11.98</td>\n",
       "    </tr>\n",
       "    <tr>\n",
       "      <th>37</th>\n",
       "      <td>B</td>\n",
       "      <td>2021-01-20</td>\n",
       "      <td>121857</td>\n",
       "      <td>14496</td>\n",
       "      <td>1286900000</td>\n",
       "      <td>88776.214128</td>\n",
       "      <td>11.90</td>\n",
       "    </tr>\n",
       "    <tr>\n",
       "      <th>38</th>\n",
       "      <td>A</td>\n",
       "      <td>2021-01-21</td>\n",
       "      <td>128256</td>\n",
       "      <td>15412</td>\n",
       "      <td>1249890000</td>\n",
       "      <td>81098.494679</td>\n",
       "      <td>12.02</td>\n",
       "    </tr>\n",
       "    <tr>\n",
       "      <th>39</th>\n",
       "      <td>B</td>\n",
       "      <td>2021-01-21</td>\n",
       "      <td>128412</td>\n",
       "      <td>15256</td>\n",
       "      <td>1356770000</td>\n",
       "      <td>88933.534347</td>\n",
       "      <td>11.88</td>\n",
       "    </tr>\n",
       "    <tr>\n",
       "      <th>40</th>\n",
       "      <td>A</td>\n",
       "      <td>2021-01-22</td>\n",
       "      <td>134843</td>\n",
       "      <td>16200</td>\n",
       "      <td>1313580000</td>\n",
       "      <td>81085.185185</td>\n",
       "      <td>12.01</td>\n",
       "    </tr>\n",
       "    <tr>\n",
       "      <th>41</th>\n",
       "      <td>B</td>\n",
       "      <td>2021-01-22</td>\n",
       "      <td>135071</td>\n",
       "      <td>16043</td>\n",
       "      <td>1425430000</td>\n",
       "      <td>88850.589042</td>\n",
       "      <td>11.88</td>\n",
       "    </tr>\n",
       "    <tr>\n",
       "      <th>42</th>\n",
       "      <td>A</td>\n",
       "      <td>2021-01-23</td>\n",
       "      <td>141541</td>\n",
       "      <td>17043</td>\n",
       "      <td>1384530000</td>\n",
       "      <td>81237.458194</td>\n",
       "      <td>12.04</td>\n",
       "    </tr>\n",
       "    <tr>\n",
       "      <th>43</th>\n",
       "      <td>B</td>\n",
       "      <td>2021-01-23</td>\n",
       "      <td>141704</td>\n",
       "      <td>16848</td>\n",
       "      <td>1494360000</td>\n",
       "      <td>88696.581197</td>\n",
       "      <td>11.89</td>\n",
       "    </tr>\n",
       "    <tr>\n",
       "      <th>44</th>\n",
       "      <td>A</td>\n",
       "      <td>2021-01-24</td>\n",
       "      <td>145307</td>\n",
       "      <td>17487</td>\n",
       "      <td>1417780000</td>\n",
       "      <td>81076.228055</td>\n",
       "      <td>12.03</td>\n",
       "    </tr>\n",
       "    <tr>\n",
       "      <th>45</th>\n",
       "      <td>B</td>\n",
       "      <td>2021-01-24</td>\n",
       "      <td>145381</td>\n",
       "      <td>17290</td>\n",
       "      <td>1533010000</td>\n",
       "      <td>88664.545980</td>\n",
       "      <td>11.89</td>\n",
       "    </tr>\n",
       "  </tbody>\n",
       "</table>\n",
       "</div>"
      ],
      "text/plain": [
       "   group       date  user_sessions_cnt  purchases_cnt  price_total  \\\n",
       "0      A 2021-01-02               2854            359     29410000   \n",
       "1      B 2021-01-02               2861            345     29660000   \n",
       "2      A 2021-01-03               9450           1107     91410000   \n",
       "3      B 2021-01-03               9480           1099     95620000   \n",
       "4      A 2021-01-04              16016           1906    155660000   \n",
       "5      B 2021-01-04              16016           1863    163650000   \n",
       "6      A 2021-01-05              22449           2696    220210000   \n",
       "7      B 2021-01-05              22527           2612    227200000   \n",
       "8      A 2021-01-06              29055           3460    283620000   \n",
       "9      B 2021-01-06              29278           3450    302220000   \n",
       "10     A 2021-01-07              35634           4255    350910000   \n",
       "11     B 2021-01-07              35894           4217    369390000   \n",
       "12     A 2021-01-08              42321           5053    416290000   \n",
       "13     B 2021-01-08              42608           5029    440660000   \n",
       "14     A 2021-01-09              48954           5847    481900000   \n",
       "15     B 2021-01-09              49236           5813    512070000   \n",
       "16     A 2021-01-10              55613           6606    540850000   \n",
       "17     B 2021-01-10              55937           6659    590150000   \n",
       "18     A 2021-01-11              62312           7403    599610000   \n",
       "19     B 2021-01-11              62616           7429    657110000   \n",
       "20     A 2021-01-12              68852           8198    668070000   \n",
       "21     B 2021-01-12              69251           8236    727670000   \n",
       "22     A 2021-01-13              75416           8962    731660000   \n",
       "23     B 2021-01-13              75746           8956    793580000   \n",
       "24     A 2021-01-14              81959           9787    797550000   \n",
       "25     B 2021-01-14              82354           9748    862570000   \n",
       "26     A 2021-01-15              88660          10593    865120000   \n",
       "27     B 2021-01-15              88917          10495    931730000   \n",
       "28     A 2021-01-16              95261          11401    931330000   \n",
       "29     B 2021-01-16              95461          11281   1002290000   \n",
       "30     A 2021-01-17             101880          12210    994350000   \n",
       "31     B 2021-01-17             102007          12112   1077590000   \n",
       "32     A 2021-01-18             108391          13022   1057200000   \n",
       "33     B 2021-01-18             108610          12934   1149830000   \n",
       "34     A 2021-01-19             114973          13812   1120880000   \n",
       "35     B 2021-01-19             115172          13706   1217650000   \n",
       "36     A 2021-01-20             121506          14561   1179590000   \n",
       "37     B 2021-01-20             121857          14496   1286900000   \n",
       "38     A 2021-01-21             128256          15412   1249890000   \n",
       "39     B 2021-01-21             128412          15256   1356770000   \n",
       "40     A 2021-01-22             134843          16200   1313580000   \n",
       "41     B 2021-01-22             135071          16043   1425430000   \n",
       "42     A 2021-01-23             141541          17043   1384530000   \n",
       "43     B 2021-01-23             141704          16848   1494360000   \n",
       "44     A 2021-01-24             145307          17487   1417780000   \n",
       "45     B 2021-01-24             145381          17290   1533010000   \n",
       "\n",
       "       avg_price  conversion, %  \n",
       "0   81922.005571          12.58  \n",
       "1   85971.014493          12.06  \n",
       "2   82574.525745          11.71  \n",
       "3   87006.369427          11.59  \n",
       "4   81668.415530          11.90  \n",
       "5   87842.190016          11.63  \n",
       "6   81680.267062          12.01  \n",
       "7   86983.154671          11.59  \n",
       "8   81971.098266          11.91  \n",
       "9   87600.000000          11.78  \n",
       "10  82470.035253          11.94  \n",
       "11  87595.447000          11.75  \n",
       "12  82384.721947          11.94  \n",
       "13  87623.782064          11.80  \n",
       "14  82418.334188          11.94  \n",
       "15  88090.486840          11.81  \n",
       "16  81872.540115          11.88  \n",
       "17  88624.418081          11.90  \n",
       "18  80995.542348          11.88  \n",
       "19  88452.012384          11.86  \n",
       "20  81491.827275          11.91  \n",
       "21  88352.355512          11.89  \n",
       "22  81640.258871          11.88  \n",
       "23  88608.753908          11.82  \n",
       "24  81490.753040          11.94  \n",
       "25  88486.869101          11.84  \n",
       "26  81669.026716          11.95  \n",
       "27  88778.465936          11.80  \n",
       "28  81688.448382          11.97  \n",
       "29  88847.619892          11.82  \n",
       "30  81437.346437          11.98  \n",
       "31  88968.791281          11.87  \n",
       "32  81185.685763          12.01  \n",
       "33  88899.798979          11.91  \n",
       "34  81152.620909          12.01  \n",
       "35  88840.653728          11.90  \n",
       "36  81010.232814          11.98  \n",
       "37  88776.214128          11.90  \n",
       "38  81098.494679          12.02  \n",
       "39  88933.534347          11.88  \n",
       "40  81085.185185          12.01  \n",
       "41  88850.589042          11.88  \n",
       "42  81237.458194          12.04  \n",
       "43  88696.581197          11.89  \n",
       "44  81076.228055          12.03  \n",
       "45  88664.545980          11.89  "
      ]
     },
     "metadata": {},
     "output_type": "display_data"
    }
   ],
   "source": [
    "cumm['avg_price'] = cumm['price_total'] / cumm['purchases_cnt']\n",
    "cumm['conversion, %'] = round(cumm['purchases_cnt'] / cumm['user_sessions_cnt'] * 100, 2)\n",
    "print('Таблица с кумулятивными метриками (накопленным итогом)\\n - числом сессий, покупок, суммарной стоимостью покупок, средним чеком и конверсией:')\n",
    "pd.set_option('display.max_rows', 50)\n",
    "display(cumm)"
   ]
  },
  {
   "cell_type": "code",
   "execution_count": 23,
   "metadata": {},
   "outputs": [
    {
     "data": {
      "image/png": "[encoded data removed]",
      "text/plain": [
       "<Figure size 1000x700 with 1 Axes>"
      ]
     },
     "metadata": {},
     "output_type": "display_data"
    }
   ],
   "source": [
    "plt.figure(figsize=(10,7)) \n",
    "plt.plot(cumm[cumm['group']=='A']['date'], cumm[cumm['group']=='A']['avg_price'], label='avg price (cumulative), Group A') \n",
    "plt.plot(cumm[cumm['group']=='B']['date'], cumm[cumm['group']=='B']['avg_price'], label='avg price (cumulative), Group B')\n",
    "plt.title('Средний чек накопленным итогом') \n",
    "plt.xlabel('Дата') \n",
    "plt.ylabel('Средний чек за прошедший период, руб') \n",
    "plt.xticks(rotation = 45) \n",
    "plt.legend() \n",
    "plt.grid(True) \n",
    "plt.show() \n"
   ]
  },
  {
   "cell_type": "code",
   "execution_count": 24,
   "metadata": {},
   "outputs": [
    {
     "data": {
      "image/png": "[encoded data removed]",
      "text/plain": [
       "<Figure size 1000x700 with 1 Axes>"
      ]
     },
     "metadata": {},
     "output_type": "display_data"
    }
   ],
   "source": [
    "plt.figure(figsize=(10,7)) \n",
    "plt.plot(cumm[cumm['group']=='A']['date'], cumm[cumm['group']=='A']['conversion, %'], label='conversion (cumulative), Group A') \n",
    "plt.plot(cumm[cumm['group']=='B']['date'], cumm[cumm['group']=='B']['conversion, %'], label='conversion (cumulative), Group B')\n",
    "plt.title('Конверсия накопленным итогом') \n",
    "plt.xlabel('Дата') \n",
    "plt.ylabel('Конверсия за прошедший период (%)') \n",
    "#plt.xticks(rotation = 45) \n",
    "plt.legend() # \n",
    "plt.grid(True) \n",
    "plt.show() "
   ]
  },
  {
   "attachments": {},
   "cell_type": "markdown",
   "metadata": {},
   "source": [
    "**ВЫВОД:** После колебаний в первые дни периода, кумулятивные средний чек и конверсия достаточно стабилизировались. В результате конверсия группы А стабильно выше группы B. Но средний чек группы B выше среднего чека группы А. "
   ]
  },
  {
   "attachments": {},
   "cell_type": "markdown",
   "metadata": {},
   "source": [
    "## Проверка гипотез"
   ]
  },
  {
   "attachments": {},
   "cell_type": "markdown",
   "metadata": {},
   "source": [
    "### Гипотеза о равенстве конверсии в группах\n",
    "- нулевая гипотеза - конверсии в обеих группах равны\n",
    "- альтернативная гипотеза - конверсии в группах не равны "
   ]
  },
  {
   "attachments": {},
   "cell_type": "markdown",
   "metadata": {},
   "source": [
    "Посмотрим какова форма распределения показателя конверсии по дням в группах:"
   ]
  },
  {
   "cell_type": "code",
   "execution_count": 25,
   "metadata": {},
   "outputs": [
    {
     "name": "stdout",
     "output_type": "stream",
     "text": [
      "Число сессий, покупок и суммарная стоимость покупок по дням по группам:\n"
     ]
    },
    {
     "data": {
      "text/html": [
       "<div>\n",
       "<style scoped>\n",
       "    .dataframe tbody tr th:only-of-type {\n",
       "        vertical-align: middle;\n",
       "    }\n",
       "\n",
       "    .dataframe tbody tr th {\n",
       "        vertical-align: top;\n",
       "    }\n",
       "\n",
       "    .dataframe thead th {\n",
       "        text-align: right;\n",
       "    }\n",
       "</style>\n",
       "<table border=\"1\" class=\"dataframe\">\n",
       "  <thead>\n",
       "    <tr style=\"text-align: right;\">\n",
       "      <th></th>\n",
       "      <th>group</th>\n",
       "      <th>date</th>\n",
       "      <th>sessions_cnt</th>\n",
       "      <th>purchases_cnt</th>\n",
       "      <th>total_price</th>\n",
       "    </tr>\n",
       "  </thead>\n",
       "  <tbody>\n",
       "    <tr>\n",
       "      <th>0</th>\n",
       "      <td>A</td>\n",
       "      <td>2021-01-02</td>\n",
       "      <td>2854</td>\n",
       "      <td>359</td>\n",
       "      <td>29410000</td>\n",
       "    </tr>\n",
       "    <tr>\n",
       "      <th>1</th>\n",
       "      <td>A</td>\n",
       "      <td>2021-01-03</td>\n",
       "      <td>6596</td>\n",
       "      <td>748</td>\n",
       "      <td>62000000</td>\n",
       "    </tr>\n",
       "    <tr>\n",
       "      <th>...</th>\n",
       "      <td>...</td>\n",
       "      <td>...</td>\n",
       "      <td>...</td>\n",
       "      <td>...</td>\n",
       "      <td>...</td>\n",
       "    </tr>\n",
       "    <tr>\n",
       "      <th>44</th>\n",
       "      <td>B</td>\n",
       "      <td>2021-01-23</td>\n",
       "      <td>6633</td>\n",
       "      <td>805</td>\n",
       "      <td>68930000</td>\n",
       "    </tr>\n",
       "    <tr>\n",
       "      <th>45</th>\n",
       "      <td>B</td>\n",
       "      <td>2021-01-24</td>\n",
       "      <td>3677</td>\n",
       "      <td>442</td>\n",
       "      <td>38650000</td>\n",
       "    </tr>\n",
       "  </tbody>\n",
       "</table>\n",
       "<p>46 rows × 5 columns</p>\n",
       "</div>"
      ],
      "text/plain": [
       "   group       date  sessions_cnt  purchases_cnt  total_price\n",
       "0      A 2021-01-02          2854            359     29410000\n",
       "1      A 2021-01-03          6596            748     62000000\n",
       "..   ...        ...           ...            ...          ...\n",
       "44     B 2021-01-23          6633            805     68930000\n",
       "45     B 2021-01-24          3677            442     38650000\n",
       "\n",
       "[46 rows x 5 columns]"
      ]
     },
     "metadata": {},
     "output_type": "display_data"
    }
   ],
   "source": [
    "conv2=df_cor.groupby(['group','date'],as_index=False).aggregate({'user_id':'count','purchase':'sum','price':'sum'}) \\\n",
    "    .rename(columns={'user_id':'sessions_cnt','purchase':'purchases_cnt','price':'total_price'})\n",
    "print('Число сессий, покупок и суммарная стоимость покупок по дням по группам:')\n",
    "pd.set_option('display.max_rows', 4)\n",
    "display(conv2)"
   ]
  },
  {
   "cell_type": "code",
   "execution_count": 26,
   "metadata": {},
   "outputs": [
    {
     "name": "stdout",
     "output_type": "stream",
     "text": [
      "Количество сессий, количество покупок, общая стоимость покупок,\n",
      "конверсия и стоимость среднего чека по дням по группам:\n"
     ]
    },
    {
     "data": {
      "text/html": [
       "<div>\n",
       "<style scoped>\n",
       "    .dataframe tbody tr th:only-of-type {\n",
       "        vertical-align: middle;\n",
       "    }\n",
       "\n",
       "    .dataframe tbody tr th {\n",
       "        vertical-align: top;\n",
       "    }\n",
       "\n",
       "    .dataframe thead th {\n",
       "        text-align: right;\n",
       "    }\n",
       "</style>\n",
       "<table border=\"1\" class=\"dataframe\">\n",
       "  <thead>\n",
       "    <tr style=\"text-align: right;\">\n",
       "      <th></th>\n",
       "      <th>group</th>\n",
       "      <th>date</th>\n",
       "      <th>sessions_cnt</th>\n",
       "      <th>purchases_cnt</th>\n",
       "      <th>total_price</th>\n",
       "      <th>converse_%</th>\n",
       "      <th>price_avg</th>\n",
       "    </tr>\n",
       "  </thead>\n",
       "  <tbody>\n",
       "    <tr>\n",
       "      <th>0</th>\n",
       "      <td>A</td>\n",
       "      <td>2021-01-02</td>\n",
       "      <td>2854</td>\n",
       "      <td>359</td>\n",
       "      <td>29410000</td>\n",
       "      <td>12.58</td>\n",
       "      <td>81922.005571</td>\n",
       "    </tr>\n",
       "    <tr>\n",
       "      <th>1</th>\n",
       "      <td>A</td>\n",
       "      <td>2021-01-03</td>\n",
       "      <td>6596</td>\n",
       "      <td>748</td>\n",
       "      <td>62000000</td>\n",
       "      <td>11.34</td>\n",
       "      <td>82887.700535</td>\n",
       "    </tr>\n",
       "    <tr>\n",
       "      <th>...</th>\n",
       "      <td>...</td>\n",
       "      <td>...</td>\n",
       "      <td>...</td>\n",
       "      <td>...</td>\n",
       "      <td>...</td>\n",
       "      <td>...</td>\n",
       "      <td>...</td>\n",
       "    </tr>\n",
       "    <tr>\n",
       "      <th>44</th>\n",
       "      <td>B</td>\n",
       "      <td>2021-01-23</td>\n",
       "      <td>6633</td>\n",
       "      <td>805</td>\n",
       "      <td>68930000</td>\n",
       "      <td>12.14</td>\n",
       "      <td>85627.329193</td>\n",
       "    </tr>\n",
       "    <tr>\n",
       "      <th>45</th>\n",
       "      <td>B</td>\n",
       "      <td>2021-01-24</td>\n",
       "      <td>3677</td>\n",
       "      <td>442</td>\n",
       "      <td>38650000</td>\n",
       "      <td>12.02</td>\n",
       "      <td>87443.438914</td>\n",
       "    </tr>\n",
       "  </tbody>\n",
       "</table>\n",
       "<p>46 rows × 7 columns</p>\n",
       "</div>"
      ],
      "text/plain": [
       "   group       date  sessions_cnt  purchases_cnt  total_price  converse_%  \\\n",
       "0      A 2021-01-02          2854            359     29410000       12.58   \n",
       "1      A 2021-01-03          6596            748     62000000       11.34   \n",
       "..   ...        ...           ...            ...          ...         ...   \n",
       "44     B 2021-01-23          6633            805     68930000       12.14   \n",
       "45     B 2021-01-24          3677            442     38650000       12.02   \n",
       "\n",
       "       price_avg  \n",
       "0   81922.005571  \n",
       "1   82887.700535  \n",
       "..           ...  \n",
       "44  85627.329193  \n",
       "45  87443.438914  \n",
       "\n",
       "[46 rows x 7 columns]"
      ]
     },
     "metadata": {},
     "output_type": "display_data"
    }
   ],
   "source": [
    "conv2['converse_%'] = round(conv2['purchases_cnt'] / conv2['sessions_cnt'] * 100, 2)\n",
    "conv2['price_avg'] = conv2['total_price'] / conv2['purchases_cnt']\n",
    "print('Количество сессий, количество покупок, общая стоимость покупок,\\nконверсия и стоимость среднего чека по дням по группам:')\n",
    "display(conv2)"
   ]
  },
  {
   "cell_type": "code",
   "execution_count": 27,
   "metadata": {},
   "outputs": [
    {
     "name": "stdout",
     "output_type": "stream",
     "text": [
      "Диаграмма распределения показателя конверсии в группе А:\n"
     ]
    },
    {
     "data": {
      "text/plain": [
       "<AxesSubplot: >"
      ]
     },
     "execution_count": 27,
     "metadata": {},
     "output_type": "execute_result"
    },
    {
     "data": {
      "image/png": "[encoded data removed]",
      "text/plain": [
       "<Figure size 640x480 with 1 Axes>"
      ]
     },
     "metadata": {},
     "output_type": "display_data"
    }
   ],
   "source": [
    "print('Диаграмма распределения показателя конверсии в группе А:')\n",
    "conv2[conv2['group']=='A']['converse_%'].hist()"
   ]
  },
  {
   "cell_type": "code",
   "execution_count": 28,
   "metadata": {},
   "outputs": [
    {
     "name": "stdout",
     "output_type": "stream",
     "text": [
      "Диаграмма распределения показателя конверсии в группе B:\n"
     ]
    },
    {
     "data": {
      "text/plain": [
       "<AxesSubplot: >"
      ]
     },
     "execution_count": 28,
     "metadata": {},
     "output_type": "execute_result"
    },
    {
     "data": {
      "image/png": "[encoded data removed]",
      "text/plain": [
       "<Figure size 640x480 with 1 Axes>"
      ]
     },
     "metadata": {},
     "output_type": "display_data"
    }
   ],
   "source": [
    "print('Диаграмма распределения показателя конверсии в группе B:')\n",
    "conv2[conv2['group']=='B']['converse_%'].hist()"
   ]
  },
  {
   "attachments": {},
   "cell_type": "markdown",
   "metadata": {},
   "source": [
    "ВЫВОД: Будем считать распределение показателя конверсии в обеих группах приблизительно нормальным."
   ]
  },
  {
   "attachments": {},
   "cell_type": "markdown",
   "metadata": {},
   "source": [
    " Проверим гипотезу о равенстве конверсии в группах при помощи Z-теста:"
   ]
  },
  {
   "attachments": {},
   "cell_type": "markdown",
   "metadata": {},
   "source": [
    "Импортируем дополнительные библиотеки для проверки гипотез:"
   ]
  },
  {
   "cell_type": "code",
   "execution_count": 29,
   "metadata": {},
   "outputs": [],
   "source": [
    "from scipy import stats as st\n",
    "import numpy as np\n",
    "import math as mth"
   ]
  },
  {
   "cell_type": "code",
   "execution_count": 30,
   "metadata": {},
   "outputs": [
    {
     "name": "stdout",
     "output_type": "stream",
     "text": [
      "Показатели по группам - количество сессий, количество покупок, общая стоимость покупок,\n",
      "конверсия и стоимость среднего чека:\n"
     ]
    },
    {
     "data": {
      "text/html": [
       "<div>\n",
       "<style scoped>\n",
       "    .dataframe tbody tr th:only-of-type {\n",
       "        vertical-align: middle;\n",
       "    }\n",
       "\n",
       "    .dataframe tbody tr th {\n",
       "        vertical-align: top;\n",
       "    }\n",
       "\n",
       "    .dataframe thead th {\n",
       "        text-align: right;\n",
       "    }\n",
       "</style>\n",
       "<table border=\"1\" class=\"dataframe\">\n",
       "  <thead>\n",
       "    <tr style=\"text-align: right;\">\n",
       "      <th></th>\n",
       "      <th>group</th>\n",
       "      <th>sessions_cnt</th>\n",
       "      <th>purchases_cnt</th>\n",
       "      <th>total_price</th>\n",
       "      <th>converse</th>\n",
       "      <th>price_avg</th>\n",
       "    </tr>\n",
       "  </thead>\n",
       "  <tbody>\n",
       "    <tr>\n",
       "      <th>0</th>\n",
       "      <td>A</td>\n",
       "      <td>145307</td>\n",
       "      <td>17487</td>\n",
       "      <td>1417780000</td>\n",
       "      <td>12.03</td>\n",
       "      <td>81076.23</td>\n",
       "    </tr>\n",
       "    <tr>\n",
       "      <th>1</th>\n",
       "      <td>B</td>\n",
       "      <td>145381</td>\n",
       "      <td>17290</td>\n",
       "      <td>1533010000</td>\n",
       "      <td>11.89</td>\n",
       "      <td>88664.55</td>\n",
       "    </tr>\n",
       "  </tbody>\n",
       "</table>\n",
       "</div>"
      ],
      "text/plain": [
       "  group  sessions_cnt  purchases_cnt  total_price  converse  price_avg\n",
       "0     A        145307          17487   1417780000     12.03   81076.23\n",
       "1     B        145381          17290   1533010000     11.89   88664.55"
      ]
     },
     "metadata": {},
     "output_type": "display_data"
    }
   ],
   "source": [
    "print('Показатели по группам - количество сессий, количество покупок, общая стоимость покупок,\\nконверсия и стоимость среднего чека:')\n",
    "display(conv)"
   ]
  },
  {
   "cell_type": "code",
   "execution_count": 31,
   "metadata": {},
   "outputs": [
    {
     "name": "stdout",
     "output_type": "stream",
     "text": [
      "P-value :    0.23940749849829834\n"
     ]
    }
   ],
   "source": [
    "p1 = conv[conv['group']=='A']['purchases_cnt'].sum() / conv[conv['group']=='A']['sessions_cnt'].sum() \n",
    "p2 = conv[conv['group']=='B']['purchases_cnt'].sum() / conv[conv['group']=='B']['sessions_cnt'].sum() \n",
    "p = conv['purchases_cnt'].sum() / conv['sessions_cnt'].sum()\t                \n",
    "p_diff = p1 - p2\n",
    "z = p_diff / mth.sqrt( \\\n",
    "    p * (1 - p) * (1/conv[conv['group']=='A']['sessions_cnt'].sum() + 1/conv[conv['group']=='B']['sessions_cnt'].sum()))  \n",
    "distr = st.norm(0, 1)\n",
    "p_val = (1 - distr.cdf(abs(z))) * 2\n",
    "print('P-value :   ', p_val)"
   ]
  },
  {
   "attachments": {},
   "cell_type": "markdown",
   "metadata": {},
   "source": [
    "**ВЫВОД**  \n",
    "P-value больше принятого уровня значимости (0,05), следовательно, статистически значимая разница между конверсией в группе A и конверсией в группе B отсутствует - конверсию можно считать одинаковой в обеих группах. "
   ]
  },
  {
   "attachments": {},
   "cell_type": "markdown",
   "metadata": {},
   "source": [
    "### Гипотеза о равенстве выручки от групп\n",
    "- нулевая гипотеза - выручка от групп одинакова\n",
    "- альтернативная гипотеза - выручка от групп разная"
   ]
  },
  {
   "attachments": {},
   "cell_type": "markdown",
   "metadata": {},
   "source": [
    "Посмотрим какова форма распределения показателя выручки от пользователей двух групп:"
   ]
  },
  {
   "cell_type": "code",
   "execution_count": 32,
   "metadata": {},
   "outputs": [
    {
     "name": "stdout",
     "output_type": "stream",
     "text": [
      "Таблица сессий без пользователей, попавших в обе группы:\n"
     ]
    },
    {
     "data": {
      "text/html": [
       "<div>\n",
       "<style scoped>\n",
       "    .dataframe tbody tr th:only-of-type {\n",
       "        vertical-align: middle;\n",
       "    }\n",
       "\n",
       "    .dataframe tbody tr th {\n",
       "        vertical-align: top;\n",
       "    }\n",
       "\n",
       "    .dataframe thead th {\n",
       "        text-align: right;\n",
       "    }\n",
       "</style>\n",
       "<table border=\"1\" class=\"dataframe\">\n",
       "  <thead>\n",
       "    <tr style=\"text-align: right;\">\n",
       "      <th></th>\n",
       "      <th>user_id</th>\n",
       "      <th>date</th>\n",
       "      <th>group</th>\n",
       "      <th>purchase</th>\n",
       "      <th>price</th>\n",
       "    </tr>\n",
       "  </thead>\n",
       "  <tbody>\n",
       "    <tr>\n",
       "      <th>0</th>\n",
       "      <td>851104</td>\n",
       "      <td>2021-01-21</td>\n",
       "      <td>A</td>\n",
       "      <td>0</td>\n",
       "      <td>0</td>\n",
       "    </tr>\n",
       "    <tr>\n",
       "      <th>1</th>\n",
       "      <td>804228</td>\n",
       "      <td>2021-01-12</td>\n",
       "      <td>A</td>\n",
       "      <td>0</td>\n",
       "      <td>0</td>\n",
       "    </tr>\n",
       "    <tr>\n",
       "      <th>...</th>\n",
       "      <td>...</td>\n",
       "      <td>...</td>\n",
       "      <td>...</td>\n",
       "      <td>...</td>\n",
       "      <td>...</td>\n",
       "    </tr>\n",
       "    <tr>\n",
       "      <th>294476</th>\n",
       "      <td>697314</td>\n",
       "      <td>2021-01-15</td>\n",
       "      <td>A</td>\n",
       "      <td>0</td>\n",
       "      <td>0</td>\n",
       "    </tr>\n",
       "    <tr>\n",
       "      <th>294477</th>\n",
       "      <td>715931</td>\n",
       "      <td>2021-01-16</td>\n",
       "      <td>B</td>\n",
       "      <td>0</td>\n",
       "      <td>0</td>\n",
       "    </tr>\n",
       "  </tbody>\n",
       "</table>\n",
       "<p>290688 rows × 5 columns</p>\n",
       "</div>"
      ],
      "text/plain": [
       "        user_id       date group  purchase  price\n",
       "0        851104 2021-01-21     A         0      0\n",
       "1        804228 2021-01-12     A         0      0\n",
       "...         ...        ...   ...       ...    ...\n",
       "294476   697314 2021-01-15     A         0      0\n",
       "294477   715931 2021-01-16     B         0      0\n",
       "\n",
       "[290688 rows x 5 columns]"
      ]
     },
     "metadata": {},
     "output_type": "display_data"
    }
   ],
   "source": [
    "print('Таблица сессий без пользователей, попавших в обе группы:')\n",
    "display(df_cor)"
   ]
  },
  {
   "cell_type": "code",
   "execution_count": 33,
   "metadata": {},
   "outputs": [
    {
     "name": "stdout",
     "output_type": "stream",
     "text": [
      "Диаграмма распределения показателя выручки от пользователей из группы A:\n"
     ]
    },
    {
     "data": {
      "text/plain": [
       "<AxesSubplot: >"
      ]
     },
     "execution_count": 33,
     "metadata": {},
     "output_type": "execute_result"
    },
    {
     "data": {
      "image/png": "[encoded data removed]",
      "text/plain": [
       "<Figure size 640x480 with 1 Axes>"
      ]
     },
     "metadata": {},
     "output_type": "display_data"
    }
   ],
   "source": [
    "print('Диаграмма распределения показателя выручки от пользователей из группы A:')\n",
    "df_cor[(df_cor['group']=='A')&(df_cor['price']>0)]['price'].hist()"
   ]
  },
  {
   "cell_type": "code",
   "execution_count": 34,
   "metadata": {},
   "outputs": [
    {
     "name": "stdout",
     "output_type": "stream",
     "text": [
      "Диаграмма распределения показателя выручки от пользователей из группы B:\n"
     ]
    },
    {
     "data": {
      "text/plain": [
       "<AxesSubplot: >"
      ]
     },
     "execution_count": 34,
     "metadata": {},
     "output_type": "execute_result"
    },
    {
     "data": {
      "image/png": "[encoded data removed]",
      "text/plain": [
       "<Figure size 640x480 with 1 Axes>"
      ]
     },
     "metadata": {},
     "output_type": "display_data"
    }
   ],
   "source": [
    "print('Диаграмма распределения показателя выручки от пользователей из группы B:')\n",
    "df_cor[(df_cor['group']=='B')&(df_cor['price']>0)]['price'].hist()"
   ]
  },
  {
   "attachments": {},
   "cell_type": "markdown",
   "metadata": {},
   "source": [
    "ВЫВОД: Распределение показателя выручки от пользователей обеих групп не является нормальным."
   ]
  },
  {
   "attachments": {},
   "cell_type": "markdown",
   "metadata": {},
   "source": [
    " Проверим гипотезу о равенстве выручки в группах при помощи теста Манна-Уитни:"
   ]
  },
  {
   "cell_type": "code",
   "execution_count": 35,
   "metadata": {},
   "outputs": [
    {
     "name": "stdout",
     "output_type": "stream",
     "text": [
      "MannwhitneyuResult(statistic=139547139.0, pvalue=2.825361345286736e-37)\n"
     ]
    }
   ],
   "source": [
    "results =  st.mannwhitneyu( \\\n",
    "    df_cor[(df_cor['group']=='A') & (df_cor['price']>0)]['price'] \\\n",
    "        , df_cor[(df_cor['group']=='B') & (df_cor['price']>0)]['price'])\n",
    "print(results)"
   ]
  },
  {
   "attachments": {},
   "cell_type": "markdown",
   "metadata": {},
   "source": [
    "**ВЫВОД**  \n",
    "P-value меньше принятого уровня значимости (0,05), следовательно имеется статистически значимая разница между выручкой от пользователей разных групп - выручка в группе B отличается от выручки в группе А. "
   ]
  },
  {
   "attachments": {},
   "cell_type": "markdown",
   "metadata": {},
   "source": [
    "### Гипотеза о равенстве средних чеков в группах по дням\n",
    "- нулевая гипотеза - средний чек одинаков\n",
    "- альтернативная гипотеза - средний чек в разных группах разный"
   ]
  },
  {
   "cell_type": "code",
   "execution_count": 36,
   "metadata": {},
   "outputs": [
    {
     "name": "stdout",
     "output_type": "stream",
     "text": [
      "Количество сессий, количество покупок, общая стоимость покупок,\n",
      "конверсия и стоимость среднего чека по дням по группам:\n"
     ]
    },
    {
     "data": {
      "text/html": [
       "<div>\n",
       "<style scoped>\n",
       "    .dataframe tbody tr th:only-of-type {\n",
       "        vertical-align: middle;\n",
       "    }\n",
       "\n",
       "    .dataframe tbody tr th {\n",
       "        vertical-align: top;\n",
       "    }\n",
       "\n",
       "    .dataframe thead th {\n",
       "        text-align: right;\n",
       "    }\n",
       "</style>\n",
       "<table border=\"1\" class=\"dataframe\">\n",
       "  <thead>\n",
       "    <tr style=\"text-align: right;\">\n",
       "      <th></th>\n",
       "      <th>group</th>\n",
       "      <th>date</th>\n",
       "      <th>sessions_cnt</th>\n",
       "      <th>purchases_cnt</th>\n",
       "      <th>total_price</th>\n",
       "      <th>converse_%</th>\n",
       "      <th>price_avg</th>\n",
       "    </tr>\n",
       "  </thead>\n",
       "  <tbody>\n",
       "    <tr>\n",
       "      <th>0</th>\n",
       "      <td>A</td>\n",
       "      <td>2021-01-02</td>\n",
       "      <td>2854</td>\n",
       "      <td>359</td>\n",
       "      <td>29410000</td>\n",
       "      <td>12.58</td>\n",
       "      <td>81922.005571</td>\n",
       "    </tr>\n",
       "    <tr>\n",
       "      <th>1</th>\n",
       "      <td>A</td>\n",
       "      <td>2021-01-03</td>\n",
       "      <td>6596</td>\n",
       "      <td>748</td>\n",
       "      <td>62000000</td>\n",
       "      <td>11.34</td>\n",
       "      <td>82887.700535</td>\n",
       "    </tr>\n",
       "    <tr>\n",
       "      <th>...</th>\n",
       "      <td>...</td>\n",
       "      <td>...</td>\n",
       "      <td>...</td>\n",
       "      <td>...</td>\n",
       "      <td>...</td>\n",
       "      <td>...</td>\n",
       "      <td>...</td>\n",
       "    </tr>\n",
       "    <tr>\n",
       "      <th>44</th>\n",
       "      <td>B</td>\n",
       "      <td>2021-01-23</td>\n",
       "      <td>6633</td>\n",
       "      <td>805</td>\n",
       "      <td>68930000</td>\n",
       "      <td>12.14</td>\n",
       "      <td>85627.329193</td>\n",
       "    </tr>\n",
       "    <tr>\n",
       "      <th>45</th>\n",
       "      <td>B</td>\n",
       "      <td>2021-01-24</td>\n",
       "      <td>3677</td>\n",
       "      <td>442</td>\n",
       "      <td>38650000</td>\n",
       "      <td>12.02</td>\n",
       "      <td>87443.438914</td>\n",
       "    </tr>\n",
       "  </tbody>\n",
       "</table>\n",
       "<p>46 rows × 7 columns</p>\n",
       "</div>"
      ],
      "text/plain": [
       "   group       date  sessions_cnt  purchases_cnt  total_price  converse_%  \\\n",
       "0      A 2021-01-02          2854            359     29410000       12.58   \n",
       "1      A 2021-01-03          6596            748     62000000       11.34   \n",
       "..   ...        ...           ...            ...          ...         ...   \n",
       "44     B 2021-01-23          6633            805     68930000       12.14   \n",
       "45     B 2021-01-24          3677            442     38650000       12.02   \n",
       "\n",
       "       price_avg  \n",
       "0   81922.005571  \n",
       "1   82887.700535  \n",
       "..           ...  \n",
       "44  85627.329193  \n",
       "45  87443.438914  \n",
       "\n",
       "[46 rows x 7 columns]"
      ]
     },
     "metadata": {},
     "output_type": "display_data"
    }
   ],
   "source": [
    "print('Количество сессий, количество покупок, общая стоимость покупок,\\nконверсия и стоимость среднего чека по дням по группам:')\n",
    "display(conv2)"
   ]
  },
  {
   "cell_type": "code",
   "execution_count": 37,
   "metadata": {},
   "outputs": [
    {
     "name": "stdout",
     "output_type": "stream",
     "text": [
      "Диаграмма распределения стоимости среднего чека за день в группе A:\n"
     ]
    },
    {
     "data": {
      "text/plain": [
       "<AxesSubplot: >"
      ]
     },
     "execution_count": 37,
     "metadata": {},
     "output_type": "execute_result"
    },
    {
     "data": {
      "image/png": "[encoded data removed]",
      "text/plain": [
       "<Figure size 640x480 with 1 Axes>"
      ]
     },
     "metadata": {},
     "output_type": "display_data"
    }
   ],
   "source": [
    "print('Диаграмма распределения стоимости среднего чека за день в группе A:')\n",
    "conv2[conv2['group']=='A']['price_avg'].hist()"
   ]
  },
  {
   "cell_type": "code",
   "execution_count": 38,
   "metadata": {},
   "outputs": [
    {
     "name": "stdout",
     "output_type": "stream",
     "text": [
      "Диаграмма распределения стоимости среднего чека за день в группе B:\n"
     ]
    },
    {
     "data": {
      "text/plain": [
       "<AxesSubplot: >"
      ]
     },
     "execution_count": 38,
     "metadata": {},
     "output_type": "execute_result"
    },
    {
     "data": {
      "image/png": "[encoded data removed]",
      "text/plain": [
       "<Figure size 640x480 with 1 Axes>"
      ]
     },
     "metadata": {},
     "output_type": "display_data"
    }
   ],
   "source": [
    "print('Диаграмма распределения стоимости среднего чека за день в группе B:')\n",
    "conv2[conv2['group']=='B']['price_avg'].hist()"
   ]
  },
  {
   "attachments": {},
   "cell_type": "markdown",
   "metadata": {},
   "source": [
    "ВЫВОД: Будем считать распределение среднего чека за день в обеих группах приблизительно нормальным."
   ]
  },
  {
   "attachments": {},
   "cell_type": "markdown",
   "metadata": {},
   "source": [
    " Проверим гипотезу о равенстве стоимости среднего чека за день в группах при помощи T-теста:"
   ]
  },
  {
   "cell_type": "code",
   "execution_count": 39,
   "metadata": {},
   "outputs": [
    {
     "name": "stdout",
     "output_type": "stream",
     "text": [
      "Ttest_indResult(statistic=-9.609061044565284, pvalue=2.2523589349617907e-12)\n"
     ]
    }
   ],
   "source": [
    "res = st.ttest_ind( conv2[conv2['group']=='A']['price_avg'], conv2[conv2['group']=='B']['price_avg'] )\n",
    "print(res)"
   ]
  },
  {
   "attachments": {},
   "cell_type": "markdown",
   "metadata": {},
   "source": [
    "**ВЫВОД**  \n",
    "P-value меньше принятого уровня значимости (0,05), следовательно имеется статистически значимая разница между стоимостью среднего чека за день в разных группах - средние чеки за день отличаются. "
   ]
  },
  {
   "attachments": {},
   "cell_type": "markdown",
   "metadata": {},
   "source": [
    "## Подытожим выводы.  \n",
    "- Результат предварительного анализа данных - в целом данные, полученные в ходе проведенного теста можно считать корректными и подлежащими дальнейшему анализу (подробности представлены выше, в соответствующем разделе).\n",
    "- Распределения стоимости купленных туров в группах А и В очень похожи. Единственное существенное отличие - в группе А туры за 60000 рублей предпочитают турам за 100000 рублей, а в группе В - зеркально наоборот. В остальном распределение покупок по стоимости в группах совпадает вплоть до 100-ой доли процента. \n",
    "- После колебаний в первые дни периода, кумулятивные средний чек и конверсия достаточно стабилизировались. В результате конверсия группы А стабильно выше группы B. Но средний чек группы B выше среднего чека группы А. \n",
    "- **Конверсия:** Статистически значимая разница между конверсией в группе A и конверсией в группе B отсутствует - конверсию можно считать одинаковой в обеих группах. Для оценки использовался Z-тест, уровень значимости - 0,05.\n",
    "- **Выручка:** Имеется статистически значимая разница между выручкой от пользователей разных групп - выручка в группе B больше выручки в группе А. Для оценки использовался Манна-Уитни, уровень значимости - 0,05.\n",
    "- **Средний чек по дням:** Имеется статистически значимая разница между стоимостью среднего чека за день в разных группах - средний чек в группе B больше среднего чека в группе А. Для оценки использовался T-тест, уровень значимости - 0,05.\n",
    "\n",
    "**ИТОГО:** Несмотря на то что конверсия группы B ниже, статистической значимости в конверсии не достигнуто, соответственно, считать конверсии разными оснований нет. При этом средний чек группы B выше среднего чека группы A (статистическая значимость достигнута) и вариант сайта B приносит значимо больше выручки, чем вариант сайта A."
   ]
  }
 ],
 "metadata": {
  "kernelspec": {
   "display_name": "Python 3",
   "language": "python",
   "name": "python3"
  },
  "language_info": {
   "codemirror_mode": {
    "name": "ipython",
    "version": 3
   },
   "file_extension": ".py",
   "mimetype": "text/x-python",
   "name": "python",
   "nbconvert_exporter": "python",
   "pygments_lexer": "ipython3",
   "version": "3.9.10"
  },
  "orig_nbformat": 4,
  "vscode": {
   "interpreter": {
    "hash": "2f4fcd523f80529f0ac6b5b8022f4090e81831c04e4bb610e477836c65ea1efb"
   }
  }
 },
 "nbformat": 4,
 "nbformat_minor": 2
}
